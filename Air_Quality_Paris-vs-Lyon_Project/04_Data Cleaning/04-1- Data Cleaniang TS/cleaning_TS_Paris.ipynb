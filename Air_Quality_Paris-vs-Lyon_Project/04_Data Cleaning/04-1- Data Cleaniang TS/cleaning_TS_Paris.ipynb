{
 "cells": [
  {
   "cell_type": "code",
   "execution_count": 40,
   "metadata": {},
   "outputs": [],
   "source": [
    "#Imorting liraries\n",
    "import pandas as pd \n",
    "import numpy as np \n",
    "import seaborn as sns\n",
    "import matplotlib.pyplot as plt"
   ]
  },
  {
   "cell_type": "code",
   "execution_count": 41,
   "metadata": {},
   "outputs": [],
   "source": [
    "paris_ts = pd.read_csv(r'C:\\Users\\radek\\Git-Hub\\Final_Project_Ironhack\\04 - Data Cleaning\\Paris.csv')"
   ]
  },
  {
   "cell_type": "code",
   "execution_count": 42,
   "metadata": {},
   "outputs": [
    {
     "data": {
      "text/html": [
       "<div>\n",
       "<style scoped>\n",
       "    .dataframe tbody tr th:only-of-type {\n",
       "        vertical-align: middle;\n",
       "    }\n",
       "\n",
       "    .dataframe tbody tr th {\n",
       "        vertical-align: top;\n",
       "    }\n",
       "\n",
       "    .dataframe thead th {\n",
       "        text-align: right;\n",
       "    }\n",
       "</style>\n",
       "<table border=\"1\" class=\"dataframe\">\n",
       "  <thead>\n",
       "    <tr style=\"text-align: right;\">\n",
       "      <th></th>\n",
       "      <th>latitude</th>\n",
       "      <th>longitude</th>\n",
       "      <th>address</th>\n",
       "      <th>datetime</th>\n",
       "      <th>datetimeEpoch</th>\n",
       "      <th>tempmax</th>\n",
       "      <th>tempmin</th>\n",
       "      <th>temp</th>\n",
       "      <th>humidity</th>\n",
       "      <th>precip</th>\n",
       "      <th>...</th>\n",
       "      <th>conditions</th>\n",
       "      <th>description</th>\n",
       "      <th>date</th>\n",
       "      <th>pm25</th>\n",
       "      <th>pm10</th>\n",
       "      <th>o3</th>\n",
       "      <th>no2</th>\n",
       "      <th>so2</th>\n",
       "      <th>co</th>\n",
       "      <th>City</th>\n",
       "    </tr>\n",
       "  </thead>\n",
       "  <tbody>\n",
       "    <tr>\n",
       "      <th>0</th>\n",
       "      <td>48.8572</td>\n",
       "      <td>2.34141</td>\n",
       "      <td>Paris</td>\n",
       "      <td>2014-01-01</td>\n",
       "      <td>1388530800</td>\n",
       "      <td>10.5</td>\n",
       "      <td>6.7</td>\n",
       "      <td>8.4</td>\n",
       "      <td>85.06</td>\n",
       "      <td>1.82</td>\n",
       "      <td>...</td>\n",
       "      <td>Rain, Partially cloudy</td>\n",
       "      <td>Partly cloudy throughout the day with rain.</td>\n",
       "      <td>2014-01-01</td>\n",
       "      <td>43.0</td>\n",
       "      <td>30.0</td>\n",
       "      <td>22.0</td>\n",
       "      <td>42.0</td>\n",
       "      <td>NaN</td>\n",
       "      <td>4.0</td>\n",
       "      <td>Paris</td>\n",
       "    </tr>\n",
       "    <tr>\n",
       "      <th>1</th>\n",
       "      <td>48.8572</td>\n",
       "      <td>2.34141</td>\n",
       "      <td>Paris</td>\n",
       "      <td>2014-01-02</td>\n",
       "      <td>1388617200</td>\n",
       "      <td>11.1</td>\n",
       "      <td>8.5</td>\n",
       "      <td>9.9</td>\n",
       "      <td>81.63</td>\n",
       "      <td>4.96</td>\n",
       "      <td>...</td>\n",
       "      <td>Rain</td>\n",
       "      <td>Clear conditions throughout the day with rain ...</td>\n",
       "      <td>2014-01-02</td>\n",
       "      <td>53.0</td>\n",
       "      <td>33.0</td>\n",
       "      <td>22.0</td>\n",
       "      <td>34.0</td>\n",
       "      <td>NaN</td>\n",
       "      <td>2.0</td>\n",
       "      <td>Paris</td>\n",
       "    </tr>\n",
       "    <tr>\n",
       "      <th>2</th>\n",
       "      <td>48.8572</td>\n",
       "      <td>2.34141</td>\n",
       "      <td>Paris</td>\n",
       "      <td>2014-01-03</td>\n",
       "      <td>1388703600</td>\n",
       "      <td>13.4</td>\n",
       "      <td>8.5</td>\n",
       "      <td>11.0</td>\n",
       "      <td>76.53</td>\n",
       "      <td>0.14</td>\n",
       "      <td>...</td>\n",
       "      <td>Rain, Partially cloudy</td>\n",
       "      <td>Partly cloudy throughout the day with morning ...</td>\n",
       "      <td>2014-01-03</td>\n",
       "      <td>50.0</td>\n",
       "      <td>28.0</td>\n",
       "      <td>23.0</td>\n",
       "      <td>41.0</td>\n",
       "      <td>NaN</td>\n",
       "      <td>3.0</td>\n",
       "      <td>Paris</td>\n",
       "    </tr>\n",
       "    <tr>\n",
       "      <th>3</th>\n",
       "      <td>48.8572</td>\n",
       "      <td>2.34141</td>\n",
       "      <td>Paris</td>\n",
       "      <td>2014-01-04</td>\n",
       "      <td>1388790000</td>\n",
       "      <td>12.4</td>\n",
       "      <td>7.6</td>\n",
       "      <td>9.1</td>\n",
       "      <td>80.53</td>\n",
       "      <td>0.67</td>\n",
       "      <td>...</td>\n",
       "      <td>Rain, Partially cloudy</td>\n",
       "      <td>Partly cloudy throughout the day with rain in ...</td>\n",
       "      <td>2014-01-04</td>\n",
       "      <td>52.0</td>\n",
       "      <td>23.0</td>\n",
       "      <td>19.0</td>\n",
       "      <td>34.0</td>\n",
       "      <td>NaN</td>\n",
       "      <td>3.0</td>\n",
       "      <td>Paris</td>\n",
       "    </tr>\n",
       "    <tr>\n",
       "      <th>4</th>\n",
       "      <td>48.8572</td>\n",
       "      <td>2.34141</td>\n",
       "      <td>Paris</td>\n",
       "      <td>2014-01-05</td>\n",
       "      <td>1388876400</td>\n",
       "      <td>8.9</td>\n",
       "      <td>4.6</td>\n",
       "      <td>6.9</td>\n",
       "      <td>82.81</td>\n",
       "      <td>1.25</td>\n",
       "      <td>...</td>\n",
       "      <td>Rain, Partially cloudy</td>\n",
       "      <td>Partly cloudy throughout the day with rain cle...</td>\n",
       "      <td>2014-01-05</td>\n",
       "      <td>45.0</td>\n",
       "      <td>20.0</td>\n",
       "      <td>20.0</td>\n",
       "      <td>30.0</td>\n",
       "      <td>NaN</td>\n",
       "      <td>3.0</td>\n",
       "      <td>Paris</td>\n",
       "    </tr>\n",
       "  </tbody>\n",
       "</table>\n",
       "<p>5 rows × 31 columns</p>\n",
       "</div>"
      ],
      "text/plain": [
       "   latitude  longitude address    datetime  datetimeEpoch  tempmax  tempmin  \\\n",
       "0   48.8572    2.34141   Paris  2014-01-01     1388530800     10.5      6.7   \n",
       "1   48.8572    2.34141   Paris  2014-01-02     1388617200     11.1      8.5   \n",
       "2   48.8572    2.34141   Paris  2014-01-03     1388703600     13.4      8.5   \n",
       "3   48.8572    2.34141   Paris  2014-01-04     1388790000     12.4      7.6   \n",
       "4   48.8572    2.34141   Paris  2014-01-05     1388876400      8.9      4.6   \n",
       "\n",
       "   temp  humidity  precip  ...              conditions  \\\n",
       "0   8.4     85.06    1.82  ...  Rain, Partially cloudy   \n",
       "1   9.9     81.63    4.96  ...                    Rain   \n",
       "2  11.0     76.53    0.14  ...  Rain, Partially cloudy   \n",
       "3   9.1     80.53    0.67  ...  Rain, Partially cloudy   \n",
       "4   6.9     82.81    1.25  ...  Rain, Partially cloudy   \n",
       "\n",
       "                                         description        date  pm25  pm10  \\\n",
       "0        Partly cloudy throughout the day with rain.  2014-01-01  43.0  30.0   \n",
       "1  Clear conditions throughout the day with rain ...  2014-01-02  53.0  33.0   \n",
       "2  Partly cloudy throughout the day with morning ...  2014-01-03  50.0  28.0   \n",
       "3  Partly cloudy throughout the day with rain in ...  2014-01-04  52.0  23.0   \n",
       "4  Partly cloudy throughout the day with rain cle...  2014-01-05  45.0  20.0   \n",
       "\n",
       "     o3   no2  so2   co   City  \n",
       "0  22.0  42.0  NaN  4.0  Paris  \n",
       "1  22.0  34.0  NaN  2.0  Paris  \n",
       "2  23.0  41.0  NaN  3.0  Paris  \n",
       "3  19.0  34.0  NaN  3.0  Paris  \n",
       "4  20.0  30.0  NaN  3.0  Paris  \n",
       "\n",
       "[5 rows x 31 columns]"
      ]
     },
     "execution_count": 42,
     "metadata": {},
     "output_type": "execute_result"
    }
   ],
   "source": [
    "paris_ts.head()"
   ]
  },
  {
   "cell_type": "code",
   "execution_count": 43,
   "metadata": {},
   "outputs": [
    {
     "data": {
      "text/plain": [
       "Index(['latitude', 'longitude', 'address', 'datetime', 'datetimeEpoch',\n",
       "       'tempmax', 'tempmin', 'temp', 'humidity', 'precip', 'precipcover',\n",
       "       'snow', 'snowdepth', 'windgust', 'windspeed', 'pressure', 'cloudcover',\n",
       "       'visibility', 'solarradiation', 'solarenergy', 'uvindex', 'conditions',\n",
       "       'description', 'date', 'pm25', 'pm10', 'o3', 'no2', 'so2', 'co',\n",
       "       'City'],\n",
       "      dtype='object')"
      ]
     },
     "execution_count": 43,
     "metadata": {},
     "output_type": "execute_result"
    }
   ],
   "source": [
    "paris_ts.columns"
   ]
  },
  {
   "cell_type": "code",
   "execution_count": null,
   "metadata": {},
   "outputs": [],
   "source": [
    "paris_ts.dtypes"
   ]
  },
  {
   "cell_type": "code",
   "execution_count": 44,
   "metadata": {},
   "outputs": [],
   "source": [
    "# For time series analysis I just need the date column and the columns with pollutions. I can drop all the rest \n",
    "\n",
    "paris_ts = paris_ts[['datetime', 'pm25', 'pm10', 'o3', 'no2', 'so2', 'co']]"
   ]
  },
  {
   "cell_type": "code",
   "execution_count": 45,
   "metadata": {},
   "outputs": [
    {
     "data": {
      "text/html": [
       "<div>\n",
       "<style scoped>\n",
       "    .dataframe tbody tr th:only-of-type {\n",
       "        vertical-align: middle;\n",
       "    }\n",
       "\n",
       "    .dataframe tbody tr th {\n",
       "        vertical-align: top;\n",
       "    }\n",
       "\n",
       "    .dataframe thead th {\n",
       "        text-align: right;\n",
       "    }\n",
       "</style>\n",
       "<table border=\"1\" class=\"dataframe\">\n",
       "  <thead>\n",
       "    <tr style=\"text-align: right;\">\n",
       "      <th></th>\n",
       "      <th>datetime</th>\n",
       "      <th>pm25</th>\n",
       "      <th>pm10</th>\n",
       "      <th>o3</th>\n",
       "      <th>no2</th>\n",
       "      <th>so2</th>\n",
       "      <th>co</th>\n",
       "    </tr>\n",
       "  </thead>\n",
       "  <tbody>\n",
       "    <tr>\n",
       "      <th>0</th>\n",
       "      <td>2014-01-01</td>\n",
       "      <td>43.0</td>\n",
       "      <td>30.0</td>\n",
       "      <td>22.0</td>\n",
       "      <td>42.0</td>\n",
       "      <td>NaN</td>\n",
       "      <td>4.0</td>\n",
       "    </tr>\n",
       "    <tr>\n",
       "      <th>1</th>\n",
       "      <td>2014-01-02</td>\n",
       "      <td>53.0</td>\n",
       "      <td>33.0</td>\n",
       "      <td>22.0</td>\n",
       "      <td>34.0</td>\n",
       "      <td>NaN</td>\n",
       "      <td>2.0</td>\n",
       "    </tr>\n",
       "    <tr>\n",
       "      <th>2</th>\n",
       "      <td>2014-01-03</td>\n",
       "      <td>50.0</td>\n",
       "      <td>28.0</td>\n",
       "      <td>23.0</td>\n",
       "      <td>41.0</td>\n",
       "      <td>NaN</td>\n",
       "      <td>3.0</td>\n",
       "    </tr>\n",
       "    <tr>\n",
       "      <th>3</th>\n",
       "      <td>2014-01-04</td>\n",
       "      <td>52.0</td>\n",
       "      <td>23.0</td>\n",
       "      <td>19.0</td>\n",
       "      <td>34.0</td>\n",
       "      <td>NaN</td>\n",
       "      <td>3.0</td>\n",
       "    </tr>\n",
       "    <tr>\n",
       "      <th>4</th>\n",
       "      <td>2014-01-05</td>\n",
       "      <td>45.0</td>\n",
       "      <td>20.0</td>\n",
       "      <td>20.0</td>\n",
       "      <td>30.0</td>\n",
       "      <td>NaN</td>\n",
       "      <td>3.0</td>\n",
       "    </tr>\n",
       "  </tbody>\n",
       "</table>\n",
       "</div>"
      ],
      "text/plain": [
       "     datetime  pm25  pm10    o3   no2  so2   co\n",
       "0  2014-01-01  43.0  30.0  22.0  42.0  NaN  4.0\n",
       "1  2014-01-02  53.0  33.0  22.0  34.0  NaN  2.0\n",
       "2  2014-01-03  50.0  28.0  23.0  41.0  NaN  3.0\n",
       "3  2014-01-04  52.0  23.0  19.0  34.0  NaN  3.0\n",
       "4  2014-01-05  45.0  20.0  20.0  30.0  NaN  3.0"
      ]
     },
     "execution_count": 45,
     "metadata": {},
     "output_type": "execute_result"
    }
   ],
   "source": [
    "paris_ts.head()"
   ]
  },
  {
   "cell_type": "code",
   "execution_count": 46,
   "metadata": {},
   "outputs": [
    {
     "data": {
      "text/plain": [
       "datetime     object\n",
       "pm25        float64\n",
       "pm10        float64\n",
       "o3          float64\n",
       "no2         float64\n",
       "so2         float64\n",
       "co          float64\n",
       "dtype: object"
      ]
     },
     "execution_count": 46,
     "metadata": {},
     "output_type": "execute_result"
    }
   ],
   "source": [
    "paris_ts.dtypes"
   ]
  },
  {
   "cell_type": "code",
   "execution_count": 47,
   "metadata": {},
   "outputs": [],
   "source": [
    "#I need to convert datetime to datetime object \n",
    "\n",
    "paris_ts.datetime= pd.to_datetime(paris_ts.datetime)"
   ]
  },
  {
   "cell_type": "code",
   "execution_count": 48,
   "metadata": {},
   "outputs": [
    {
     "data": {
      "text/plain": [
       "datetime    datetime64[ns]\n",
       "pm25               float64\n",
       "pm10               float64\n",
       "o3                 float64\n",
       "no2                float64\n",
       "so2                float64\n",
       "co                 float64\n",
       "dtype: object"
      ]
     },
     "execution_count": 48,
     "metadata": {},
     "output_type": "execute_result"
    }
   ],
   "source": [
    "paris_ts.dtypes"
   ]
  },
  {
   "cell_type": "code",
   "execution_count": 49,
   "metadata": {},
   "outputs": [
    {
     "data": {
      "text/plain": [
       "(2922, 7)"
      ]
     },
     "execution_count": 49,
     "metadata": {},
     "output_type": "execute_result"
    }
   ],
   "source": [
    "paris_ts.shape"
   ]
  },
  {
   "cell_type": "markdown",
   "metadata": {},
   "source": [
    "Missing values"
   ]
  },
  {
   "cell_type": "code",
   "execution_count": 50,
   "metadata": {},
   "outputs": [
    {
     "data": {
      "text/plain": [
       "datetime       0\n",
       "pm25         140\n",
       "pm10         139\n",
       "o3           153\n",
       "no2          139\n",
       "so2         2593\n",
       "co          1277\n",
       "dtype: int64"
      ]
     },
     "execution_count": 50,
     "metadata": {},
     "output_type": "execute_result"
    }
   ],
   "source": [
    "paris_ts.isna().sum()\n"
   ]
  },
  {
   "cell_type": "code",
   "execution_count": 51,
   "metadata": {},
   "outputs": [],
   "source": [
    "# I will drop columns with two pollutants so2 and co as they have too much missing values, so they won't be useful for my analysis \n",
    "paris_ts.drop(columns=['so2','co'], inplace=True)"
   ]
  },
  {
   "cell_type": "code",
   "execution_count": 52,
   "metadata": {},
   "outputs": [
    {
     "data": {
      "text/html": [
       "<div>\n",
       "<style scoped>\n",
       "    .dataframe tbody tr th:only-of-type {\n",
       "        vertical-align: middle;\n",
       "    }\n",
       "\n",
       "    .dataframe tbody tr th {\n",
       "        vertical-align: top;\n",
       "    }\n",
       "\n",
       "    .dataframe thead th {\n",
       "        text-align: right;\n",
       "    }\n",
       "</style>\n",
       "<table border=\"1\" class=\"dataframe\">\n",
       "  <thead>\n",
       "    <tr style=\"text-align: right;\">\n",
       "      <th></th>\n",
       "      <th>datetime</th>\n",
       "      <th>pm25</th>\n",
       "      <th>pm10</th>\n",
       "      <th>o3</th>\n",
       "      <th>no2</th>\n",
       "    </tr>\n",
       "  </thead>\n",
       "  <tbody>\n",
       "    <tr>\n",
       "      <th>362</th>\n",
       "      <td>2014-12-29</td>\n",
       "      <td>NaN</td>\n",
       "      <td>NaN</td>\n",
       "      <td>NaN</td>\n",
       "      <td>NaN</td>\n",
       "    </tr>\n",
       "    <tr>\n",
       "      <th>363</th>\n",
       "      <td>2014-12-30</td>\n",
       "      <td>NaN</td>\n",
       "      <td>NaN</td>\n",
       "      <td>NaN</td>\n",
       "      <td>NaN</td>\n",
       "    </tr>\n",
       "    <tr>\n",
       "      <th>364</th>\n",
       "      <td>2014-12-31</td>\n",
       "      <td>NaN</td>\n",
       "      <td>71.0</td>\n",
       "      <td>17.0</td>\n",
       "      <td>52.0</td>\n",
       "    </tr>\n",
       "    <tr>\n",
       "      <th>729</th>\n",
       "      <td>2015-12-31</td>\n",
       "      <td>NaN</td>\n",
       "      <td>NaN</td>\n",
       "      <td>NaN</td>\n",
       "      <td>NaN</td>\n",
       "    </tr>\n",
       "    <tr>\n",
       "      <th>730</th>\n",
       "      <td>2016-01-01</td>\n",
       "      <td>NaN</td>\n",
       "      <td>24.0</td>\n",
       "      <td>18.0</td>\n",
       "      <td>34.0</td>\n",
       "    </tr>\n",
       "  </tbody>\n",
       "</table>\n",
       "</div>"
      ],
      "text/plain": [
       "      datetime  pm25  pm10    o3   no2\n",
       "362 2014-12-29   NaN   NaN   NaN   NaN\n",
       "363 2014-12-30   NaN   NaN   NaN   NaN\n",
       "364 2014-12-31   NaN  71.0  17.0  52.0\n",
       "729 2015-12-31   NaN   NaN   NaN   NaN\n",
       "730 2016-01-01   NaN  24.0  18.0  34.0"
      ]
     },
     "execution_count": 52,
     "metadata": {},
     "output_type": "execute_result"
    }
   ],
   "source": [
    "# I'm looking for the columns with the missing values\n",
    "nan = paris_ts[paris_ts['pm25'].isna()]\n",
    "nan.head()"
   ]
  },
  {
   "cell_type": "code",
   "execution_count": 53,
   "metadata": {},
   "outputs": [],
   "source": [
    "#I will fill empty values with the mean for each month, to do that I create a new column year-month thanks to which I will be able to calaculate a mean value for each month of each year\n",
    "paris_ts['year_month']=paris_ts['datetime'].dt.to_period('M')"
   ]
  },
  {
   "cell_type": "code",
   "execution_count": 54,
   "metadata": {},
   "outputs": [
    {
     "data": {
      "text/html": [
       "<div>\n",
       "<style scoped>\n",
       "    .dataframe tbody tr th:only-of-type {\n",
       "        vertical-align: middle;\n",
       "    }\n",
       "\n",
       "    .dataframe tbody tr th {\n",
       "        vertical-align: top;\n",
       "    }\n",
       "\n",
       "    .dataframe thead th {\n",
       "        text-align: right;\n",
       "    }\n",
       "</style>\n",
       "<table border=\"1\" class=\"dataframe\">\n",
       "  <thead>\n",
       "    <tr style=\"text-align: right;\">\n",
       "      <th></th>\n",
       "      <th>pm25</th>\n",
       "      <th>pm10</th>\n",
       "      <th>o3</th>\n",
       "      <th>no2</th>\n",
       "    </tr>\n",
       "    <tr>\n",
       "      <th>year_month</th>\n",
       "      <th></th>\n",
       "      <th></th>\n",
       "      <th></th>\n",
       "      <th></th>\n",
       "    </tr>\n",
       "  </thead>\n",
       "  <tbody>\n",
       "    <tr>\n",
       "      <th>2014-01</th>\n",
       "      <td>65.741935</td>\n",
       "      <td>36.161290</td>\n",
       "      <td>14.967742</td>\n",
       "      <td>45.677419</td>\n",
       "    </tr>\n",
       "    <tr>\n",
       "      <th>2014-02</th>\n",
       "      <td>57.357143</td>\n",
       "      <td>34.142857</td>\n",
       "      <td>20.250000</td>\n",
       "      <td>43.750000</td>\n",
       "    </tr>\n",
       "    <tr>\n",
       "      <th>2014-03</th>\n",
       "      <td>100.741935</td>\n",
       "      <td>57.677419</td>\n",
       "      <td>22.967742</td>\n",
       "      <td>57.064516</td>\n",
       "    </tr>\n",
       "    <tr>\n",
       "      <th>2014-04</th>\n",
       "      <td>73.066667</td>\n",
       "      <td>52.933333</td>\n",
       "      <td>27.766667</td>\n",
       "      <td>51.000000</td>\n",
       "    </tr>\n",
       "    <tr>\n",
       "      <th>2014-05</th>\n",
       "      <td>60.741935</td>\n",
       "      <td>40.419355</td>\n",
       "      <td>30.387097</td>\n",
       "      <td>46.483871</td>\n",
       "    </tr>\n",
       "    <tr>\n",
       "      <th>...</th>\n",
       "      <td>...</td>\n",
       "      <td>...</td>\n",
       "      <td>...</td>\n",
       "      <td>...</td>\n",
       "    </tr>\n",
       "    <tr>\n",
       "      <th>2021-08</th>\n",
       "      <td>39.645161</td>\n",
       "      <td>25.935484</td>\n",
       "      <td>31.032258</td>\n",
       "      <td>16.322581</td>\n",
       "    </tr>\n",
       "    <tr>\n",
       "      <th>2021-09</th>\n",
       "      <td>51.866667</td>\n",
       "      <td>28.833333</td>\n",
       "      <td>32.866667</td>\n",
       "      <td>30.100000</td>\n",
       "    </tr>\n",
       "    <tr>\n",
       "      <th>2021-10</th>\n",
       "      <td>52.225806</td>\n",
       "      <td>29.935484</td>\n",
       "      <td>20.366667</td>\n",
       "      <td>28.451613</td>\n",
       "    </tr>\n",
       "    <tr>\n",
       "      <th>2021-11</th>\n",
       "      <td>56.200000</td>\n",
       "      <td>28.689655</td>\n",
       "      <td>13.965517</td>\n",
       "      <td>25.896552</td>\n",
       "    </tr>\n",
       "    <tr>\n",
       "      <th>2021-12</th>\n",
       "      <td>54.225806</td>\n",
       "      <td>25.612903</td>\n",
       "      <td>14.806452</td>\n",
       "      <td>26.548387</td>\n",
       "    </tr>\n",
       "  </tbody>\n",
       "</table>\n",
       "<p>96 rows × 4 columns</p>\n",
       "</div>"
      ],
      "text/plain": [
       "                  pm25       pm10         o3        no2\n",
       "year_month                                             \n",
       "2014-01      65.741935  36.161290  14.967742  45.677419\n",
       "2014-02      57.357143  34.142857  20.250000  43.750000\n",
       "2014-03     100.741935  57.677419  22.967742  57.064516\n",
       "2014-04      73.066667  52.933333  27.766667  51.000000\n",
       "2014-05      60.741935  40.419355  30.387097  46.483871\n",
       "...                ...        ...        ...        ...\n",
       "2021-08      39.645161  25.935484  31.032258  16.322581\n",
       "2021-09      51.866667  28.833333  32.866667  30.100000\n",
       "2021-10      52.225806  29.935484  20.366667  28.451613\n",
       "2021-11      56.200000  28.689655  13.965517  25.896552\n",
       "2021-12      54.225806  25.612903  14.806452  26.548387\n",
       "\n",
       "[96 rows x 4 columns]"
      ]
     },
     "execution_count": 54,
     "metadata": {},
     "output_type": "execute_result"
    }
   ],
   "source": [
    "#Now I create new df with average values of all pollutants for each month\n",
    "avg_year_months = paris_ts.groupby('year_month').agg('mean')\n",
    "avg_year_months"
   ]
  },
  {
   "cell_type": "code",
   "execution_count": 55,
   "metadata": {},
   "outputs": [
    {
     "data": {
      "text/plain": [
       "['pm25', 'pm10', 'o3', 'no2']"
      ]
     },
     "execution_count": 55,
     "metadata": {},
     "output_type": "execute_result"
    }
   ],
   "source": [
    "#I need a polutant list as I will iterate through them\n",
    "pollutants = avg_year_months.columns.tolist()\n",
    "pollutants"
   ]
  },
  {
   "cell_type": "code",
   "execution_count": 56,
   "metadata": {},
   "outputs": [],
   "source": [
    "# I am filling a missing values in data with average values of each pollutant in the same month and in the same year \n",
    "for i in range(len(pollutants)):\n",
    "\tfor year_month in paris_ts.year_month.unique():\n",
    "\t\tmean = avg_year_months.loc[year_month][i]\n",
    "\t\tparis_ts.loc[paris_ts.year_month==year_month, pollutants[i]] = paris_ts.loc[paris_ts.year_month==year_month, pollutants[i]].fillna(mean)"
   ]
  },
  {
   "cell_type": "code",
   "execution_count": 57,
   "metadata": {},
   "outputs": [
    {
     "data": {
      "text/plain": [
       "datetime       0\n",
       "pm25          92\n",
       "pm10          92\n",
       "o3            92\n",
       "no2           92\n",
       "year_month     0\n",
       "dtype: int64"
      ]
     },
     "execution_count": 57,
     "metadata": {},
     "output_type": "execute_result"
    }
   ],
   "source": [
    "# There are still missing values. From the earlier observation I could see that there are 3 months in 2017 (July, August and September) for which there are no measurements\n",
    "# I decided to fill these values with the mean of each day in 2016 and 2018, for example:\n",
    "# value for 1st of July 2017 will be filled with the mean of values recorded on 1st of July 2016 and 2018 \n",
    "paris_ts.isna().sum()"
   ]
  },
  {
   "cell_type": "code",
   "execution_count": 58,
   "metadata": {},
   "outputs": [],
   "source": [
    "# I create additional columns to help me fill missing values\n",
    "paris_ts['year']=paris_ts['datetime'].dt.year\n",
    "paris_ts['month_day'] = paris_ts['datetime'].dt.strftime('%m-%d')"
   ]
  },
  {
   "cell_type": "code",
   "execution_count": 59,
   "metadata": {},
   "outputs": [],
   "source": [
    "# I am taking values only for 2 years 2016 and 2018\n",
    "paris16_18 = paris_ts.loc[(paris_ts['year']==2016) |(paris_ts['year']==2018)]"
   ]
  },
  {
   "cell_type": "code",
   "execution_count": 60,
   "metadata": {},
   "outputs": [
    {
     "data": {
      "text/html": [
       "<div>\n",
       "<style scoped>\n",
       "    .dataframe tbody tr th:only-of-type {\n",
       "        vertical-align: middle;\n",
       "    }\n",
       "\n",
       "    .dataframe tbody tr th {\n",
       "        vertical-align: top;\n",
       "    }\n",
       "\n",
       "    .dataframe thead th {\n",
       "        text-align: right;\n",
       "    }\n",
       "</style>\n",
       "<table border=\"1\" class=\"dataframe\">\n",
       "  <thead>\n",
       "    <tr style=\"text-align: right;\">\n",
       "      <th></th>\n",
       "      <th>pm25</th>\n",
       "      <th>pm10</th>\n",
       "      <th>o3</th>\n",
       "      <th>no2</th>\n",
       "      <th>year</th>\n",
       "    </tr>\n",
       "    <tr>\n",
       "      <th>month_day</th>\n",
       "      <th></th>\n",
       "      <th></th>\n",
       "      <th></th>\n",
       "      <th></th>\n",
       "      <th></th>\n",
       "    </tr>\n",
       "  </thead>\n",
       "  <tbody>\n",
       "    <tr>\n",
       "      <th>01-01</th>\n",
       "      <td>49.100000</td>\n",
       "      <td>24.5</td>\n",
       "      <td>21.000000</td>\n",
       "      <td>30.50</td>\n",
       "      <td>2017.0</td>\n",
       "    </tr>\n",
       "    <tr>\n",
       "      <th>01-02</th>\n",
       "      <td>49.000000</td>\n",
       "      <td>22.0</td>\n",
       "      <td>24.000000</td>\n",
       "      <td>26.00</td>\n",
       "      <td>2017.0</td>\n",
       "    </tr>\n",
       "    <tr>\n",
       "      <th>01-03</th>\n",
       "      <td>42.500000</td>\n",
       "      <td>24.0</td>\n",
       "      <td>21.000000</td>\n",
       "      <td>34.50</td>\n",
       "      <td>2017.0</td>\n",
       "    </tr>\n",
       "    <tr>\n",
       "      <th>01-04</th>\n",
       "      <td>42.000000</td>\n",
       "      <td>25.0</td>\n",
       "      <td>22.000000</td>\n",
       "      <td>39.00</td>\n",
       "      <td>2017.0</td>\n",
       "    </tr>\n",
       "    <tr>\n",
       "      <th>01-05</th>\n",
       "      <td>48.500000</td>\n",
       "      <td>29.0</td>\n",
       "      <td>17.000000</td>\n",
       "      <td>40.50</td>\n",
       "      <td>2017.0</td>\n",
       "    </tr>\n",
       "    <tr>\n",
       "      <th>...</th>\n",
       "      <td>...</td>\n",
       "      <td>...</td>\n",
       "      <td>...</td>\n",
       "      <td>...</td>\n",
       "      <td>...</td>\n",
       "    </tr>\n",
       "    <tr>\n",
       "      <th>12-27</th>\n",
       "      <td>97.500000</td>\n",
       "      <td>49.5</td>\n",
       "      <td>5.500000</td>\n",
       "      <td>42.00</td>\n",
       "      <td>2017.0</td>\n",
       "    </tr>\n",
       "    <tr>\n",
       "      <th>12-28</th>\n",
       "      <td>95.000000</td>\n",
       "      <td>53.5</td>\n",
       "      <td>4.500000</td>\n",
       "      <td>40.00</td>\n",
       "      <td>2017.0</td>\n",
       "    </tr>\n",
       "    <tr>\n",
       "      <th>12-29</th>\n",
       "      <td>106.000000</td>\n",
       "      <td>47.0</td>\n",
       "      <td>7.500000</td>\n",
       "      <td>41.50</td>\n",
       "      <td>2017.0</td>\n",
       "    </tr>\n",
       "    <tr>\n",
       "      <th>12-30</th>\n",
       "      <td>111.000000</td>\n",
       "      <td>40.8</td>\n",
       "      <td>8.689655</td>\n",
       "      <td>34.05</td>\n",
       "      <td>2017.0</td>\n",
       "    </tr>\n",
       "    <tr>\n",
       "      <th>12-31</th>\n",
       "      <td>84.516667</td>\n",
       "      <td>30.5</td>\n",
       "      <td>12.500000</td>\n",
       "      <td>32.00</td>\n",
       "      <td>2017.0</td>\n",
       "    </tr>\n",
       "  </tbody>\n",
       "</table>\n",
       "<p>366 rows × 5 columns</p>\n",
       "</div>"
      ],
      "text/plain": [
       "                 pm25  pm10         o3    no2    year\n",
       "month_day                                            \n",
       "01-01       49.100000  24.5  21.000000  30.50  2017.0\n",
       "01-02       49.000000  22.0  24.000000  26.00  2017.0\n",
       "01-03       42.500000  24.0  21.000000  34.50  2017.0\n",
       "01-04       42.000000  25.0  22.000000  39.00  2017.0\n",
       "01-05       48.500000  29.0  17.000000  40.50  2017.0\n",
       "...               ...   ...        ...    ...     ...\n",
       "12-27       97.500000  49.5   5.500000  42.00  2017.0\n",
       "12-28       95.000000  53.5   4.500000  40.00  2017.0\n",
       "12-29      106.000000  47.0   7.500000  41.50  2017.0\n",
       "12-30      111.000000  40.8   8.689655  34.05  2017.0\n",
       "12-31       84.516667  30.5  12.500000  32.00  2017.0\n",
       "\n",
       "[366 rows x 5 columns]"
      ]
     },
     "execution_count": 60,
     "metadata": {},
     "output_type": "execute_result"
    }
   ],
   "source": [
    "# I am creating a means for each month and day from values recorded in 2016 and 2018\n",
    "averge_for_days = paris16_18.groupby('month_day').agg('mean')\n",
    "averge_for_days"
   ]
  },
  {
   "cell_type": "code",
   "execution_count": 61,
   "metadata": {},
   "outputs": [],
   "source": [
    "# Now I can fill missing values thanks to the df above and the pollutant list\n",
    "for i in range(len(pollutants)):\n",
    "\tfor month_day in paris_ts.month_day.unique():\n",
    "\t\tmean = averge_for_days.loc[month_day][i]\n",
    "\t\tparis_ts.loc[(paris_ts.month_day==month_day) & (paris_ts.year==2017), pollutants[i]] = paris_ts.loc[(paris_ts.month_day==month_day) & (paris_ts.year==2017), pollutants[i]].fillna(mean)"
   ]
  },
  {
   "cell_type": "code",
   "execution_count": 62,
   "metadata": {},
   "outputs": [
    {
     "data": {
      "text/plain": [
       "datetime      0\n",
       "pm25          0\n",
       "pm10          0\n",
       "o3            0\n",
       "no2           0\n",
       "year_month    0\n",
       "year          0\n",
       "month_day     0\n",
       "dtype: int64"
      ]
     },
     "execution_count": 62,
     "metadata": {},
     "output_type": "execute_result"
    }
   ],
   "source": [
    "# It looks like I was able to fill all of the missing values\n",
    "paris_ts.isna().sum()"
   ]
  },
  {
   "cell_type": "code",
   "execution_count": 63,
   "metadata": {},
   "outputs": [
    {
     "data": {
      "text/html": [
       "<div>\n",
       "<style scoped>\n",
       "    .dataframe tbody tr th:only-of-type {\n",
       "        vertical-align: middle;\n",
       "    }\n",
       "\n",
       "    .dataframe tbody tr th {\n",
       "        vertical-align: top;\n",
       "    }\n",
       "\n",
       "    .dataframe thead th {\n",
       "        text-align: right;\n",
       "    }\n",
       "</style>\n",
       "<table border=\"1\" class=\"dataframe\">\n",
       "  <thead>\n",
       "    <tr style=\"text-align: right;\">\n",
       "      <th></th>\n",
       "      <th>datetime</th>\n",
       "      <th>pm25</th>\n",
       "      <th>pm10</th>\n",
       "      <th>o3</th>\n",
       "      <th>no2</th>\n",
       "      <th>year_month</th>\n",
       "      <th>year</th>\n",
       "      <th>month_day</th>\n",
       "    </tr>\n",
       "  </thead>\n",
       "  <tbody>\n",
       "    <tr>\n",
       "      <th>181</th>\n",
       "      <td>2014-07-01</td>\n",
       "      <td>62.0</td>\n",
       "      <td>40.0</td>\n",
       "      <td>42.0</td>\n",
       "      <td>59.0</td>\n",
       "      <td>2014-07</td>\n",
       "      <td>2014</td>\n",
       "      <td>07-01</td>\n",
       "    </tr>\n",
       "    <tr>\n",
       "      <th>546</th>\n",
       "      <td>2015-07-01</td>\n",
       "      <td>81.0</td>\n",
       "      <td>56.0</td>\n",
       "      <td>44.0</td>\n",
       "      <td>57.0</td>\n",
       "      <td>2015-07</td>\n",
       "      <td>2015</td>\n",
       "      <td>07-01</td>\n",
       "    </tr>\n",
       "    <tr>\n",
       "      <th>912</th>\n",
       "      <td>2016-07-01</td>\n",
       "      <td>35.0</td>\n",
       "      <td>24.0</td>\n",
       "      <td>22.0</td>\n",
       "      <td>27.0</td>\n",
       "      <td>2016-07</td>\n",
       "      <td>2016</td>\n",
       "      <td>07-01</td>\n",
       "    </tr>\n",
       "    <tr>\n",
       "      <th>1277</th>\n",
       "      <td>2017-07-01</td>\n",
       "      <td>51.5</td>\n",
       "      <td>37.5</td>\n",
       "      <td>39.0</td>\n",
       "      <td>43.5</td>\n",
       "      <td>2017-07</td>\n",
       "      <td>2017</td>\n",
       "      <td>07-01</td>\n",
       "    </tr>\n",
       "    <tr>\n",
       "      <th>1642</th>\n",
       "      <td>2018-07-01</td>\n",
       "      <td>68.0</td>\n",
       "      <td>51.0</td>\n",
       "      <td>56.0</td>\n",
       "      <td>60.0</td>\n",
       "      <td>2018-07</td>\n",
       "      <td>2018</td>\n",
       "      <td>07-01</td>\n",
       "    </tr>\n",
       "    <tr>\n",
       "      <th>2007</th>\n",
       "      <td>2019-07-01</td>\n",
       "      <td>44.0</td>\n",
       "      <td>39.0</td>\n",
       "      <td>38.0</td>\n",
       "      <td>35.0</td>\n",
       "      <td>2019-07</td>\n",
       "      <td>2019</td>\n",
       "      <td>07-01</td>\n",
       "    </tr>\n",
       "    <tr>\n",
       "      <th>2373</th>\n",
       "      <td>2020-07-01</td>\n",
       "      <td>36.0</td>\n",
       "      <td>17.0</td>\n",
       "      <td>23.0</td>\n",
       "      <td>23.0</td>\n",
       "      <td>2020-07</td>\n",
       "      <td>2020</td>\n",
       "      <td>07-01</td>\n",
       "    </tr>\n",
       "    <tr>\n",
       "      <th>2738</th>\n",
       "      <td>2021-07-01</td>\n",
       "      <td>53.0</td>\n",
       "      <td>37.0</td>\n",
       "      <td>37.0</td>\n",
       "      <td>38.0</td>\n",
       "      <td>2021-07</td>\n",
       "      <td>2021</td>\n",
       "      <td>07-01</td>\n",
       "    </tr>\n",
       "  </tbody>\n",
       "</table>\n",
       "</div>"
      ],
      "text/plain": [
       "       datetime  pm25  pm10    o3   no2 year_month  year month_day\n",
       "181  2014-07-01  62.0  40.0  42.0  59.0    2014-07  2014     07-01\n",
       "546  2015-07-01  81.0  56.0  44.0  57.0    2015-07  2015     07-01\n",
       "912  2016-07-01  35.0  24.0  22.0  27.0    2016-07  2016     07-01\n",
       "1277 2017-07-01  51.5  37.5  39.0  43.5    2017-07  2017     07-01\n",
       "1642 2018-07-01  68.0  51.0  56.0  60.0    2018-07  2018     07-01\n",
       "2007 2019-07-01  44.0  39.0  38.0  35.0    2019-07  2019     07-01\n",
       "2373 2020-07-01  36.0  17.0  23.0  23.0    2020-07  2020     07-01\n",
       "2738 2021-07-01  53.0  37.0  37.0  38.0    2021-07  2021     07-01"
      ]
     },
     "execution_count": 63,
     "metadata": {},
     "output_type": "execute_result"
    }
   ],
   "source": [
    "#I'm checking if the values were filled correctly --> They were :)\n",
    "paris_ts[paris_ts.month_day=='07-01']"
   ]
  },
  {
   "cell_type": "code",
   "execution_count": 65,
   "metadata": {},
   "outputs": [],
   "source": [
    "# I am dropping the columns which I won't need anymore and which were used only to fill missing values\n",
    "paris_ts.drop(columns=['year_month', 'year', 'month_day'], inplace=True)"
   ]
  },
  {
   "cell_type": "markdown",
   "metadata": {},
   "source": [
    "Outliers"
   ]
  },
  {
   "cell_type": "code",
   "execution_count": 69,
   "metadata": {},
   "outputs": [
    {
     "data": {
      "image/png": "[encoded data removed]",
      "text/plain": [
       "<Figure size 432x288 with 1 Axes>"
      ]
     },
     "metadata": {},
     "output_type": "display_data"
    }
   ],
   "source": [
    "# I am checking for the outliers by plooting box plot\n",
    "sns.set_palette(\"Blues_d\")\n",
    "sns.set_style('darkgrid')\n",
    "sns.boxplot(data=paris_ts)\n",
    "plt.title('Box plot\\nfor\\nAir Pollutants', fontweight='bold')\n",
    "plt.ylabel('Concentration', fontweight='bold')\n",
    "plt.xlabel('Pollutant', fontweight='bold')\n",
    "plt.show()"
   ]
  },
  {
   "cell_type": "code",
   "execution_count": 67,
   "metadata": {},
   "outputs": [
    {
     "data": {
      "text/html": [
       "<div>\n",
       "<style scoped>\n",
       "    .dataframe tbody tr th:only-of-type {\n",
       "        vertical-align: middle;\n",
       "    }\n",
       "\n",
       "    .dataframe tbody tr th {\n",
       "        vertical-align: top;\n",
       "    }\n",
       "\n",
       "    .dataframe thead th {\n",
       "        text-align: right;\n",
       "    }\n",
       "</style>\n",
       "<table border=\"1\" class=\"dataframe\">\n",
       "  <thead>\n",
       "    <tr style=\"text-align: right;\">\n",
       "      <th></th>\n",
       "      <th>pm25</th>\n",
       "      <th>pm10</th>\n",
       "      <th>o3</th>\n",
       "      <th>no2</th>\n",
       "    </tr>\n",
       "  </thead>\n",
       "  <tbody>\n",
       "    <tr>\n",
       "      <th>count</th>\n",
       "      <td>2922.000000</td>\n",
       "      <td>2922.000000</td>\n",
       "      <td>2922.000000</td>\n",
       "      <td>2922.000000</td>\n",
       "    </tr>\n",
       "    <tr>\n",
       "      <th>mean</th>\n",
       "      <td>63.779860</td>\n",
       "      <td>37.313246</td>\n",
       "      <td>24.908479</td>\n",
       "      <td>38.463754</td>\n",
       "    </tr>\n",
       "    <tr>\n",
       "      <th>std</th>\n",
       "      <td>22.347357</td>\n",
       "      <td>14.415868</td>\n",
       "      <td>11.732745</td>\n",
       "      <td>13.013070</td>\n",
       "    </tr>\n",
       "    <tr>\n",
       "      <th>min</th>\n",
       "      <td>15.000000</td>\n",
       "      <td>6.000000</td>\n",
       "      <td>1.000000</td>\n",
       "      <td>4.000000</td>\n",
       "    </tr>\n",
       "    <tr>\n",
       "      <th>25%</th>\n",
       "      <td>48.000000</td>\n",
       "      <td>27.000000</td>\n",
       "      <td>17.000000</td>\n",
       "      <td>30.000000</td>\n",
       "    </tr>\n",
       "    <tr>\n",
       "      <th>50%</th>\n",
       "      <td>60.000000</td>\n",
       "      <td>35.000000</td>\n",
       "      <td>24.000000</td>\n",
       "      <td>39.000000</td>\n",
       "    </tr>\n",
       "    <tr>\n",
       "      <th>75%</th>\n",
       "      <td>74.000000</td>\n",
       "      <td>46.000000</td>\n",
       "      <td>31.000000</td>\n",
       "      <td>47.000000</td>\n",
       "    </tr>\n",
       "    <tr>\n",
       "      <th>max</th>\n",
       "      <td>177.000000</td>\n",
       "      <td>122.000000</td>\n",
       "      <td>85.000000</td>\n",
       "      <td>89.000000</td>\n",
       "    </tr>\n",
       "  </tbody>\n",
       "</table>\n",
       "</div>"
      ],
      "text/plain": [
       "              pm25         pm10           o3          no2\n",
       "count  2922.000000  2922.000000  2922.000000  2922.000000\n",
       "mean     63.779860    37.313246    24.908479    38.463754\n",
       "std      22.347357    14.415868    11.732745    13.013070\n",
       "min      15.000000     6.000000     1.000000     4.000000\n",
       "25%      48.000000    27.000000    17.000000    30.000000\n",
       "50%      60.000000    35.000000    24.000000    39.000000\n",
       "75%      74.000000    46.000000    31.000000    47.000000\n",
       "max     177.000000   122.000000    85.000000    89.000000"
      ]
     },
     "execution_count": 67,
     "metadata": {},
     "output_type": "execute_result"
    }
   ],
   "source": [
    "paris_ts.describe()"
   ]
  },
  {
   "cell_type": "markdown",
   "metadata": {},
   "source": [
    "Saving file for further analysis "
   ]
  },
  {
   "cell_type": "code",
   "execution_count": 68,
   "metadata": {},
   "outputs": [],
   "source": [
    "paris_ts.to_csv(r'C:\\Users\\radek\\Git-Hub\\Final_Project_Ironhack\\05 - Time Series\\Paris_clean_for_ts.csv', index_label=False)"
   ]
  }
 ],
 "metadata": {
  "interpreter": {
   "hash": "4ad77c0e6c5017b8cf10e15e7abcf3f93295efc1a703ed33be6cc92cf9d70fb6"
  },
  "kernelspec": {
   "display_name": "Python 3.8.12 ('base')",
   "language": "python",
   "name": "python3"
  },
  "language_info": {
   "codemirror_mode": {
    "name": "ipython",
    "version": 3
   },
   "file_extension": ".py",
   "mimetype": "text/x-python",
   "name": "python",
   "nbconvert_exporter": "python",
   "pygments_lexer": "ipython3",
   "version": "3.8.12"
  },
  "orig_nbformat": 4
 },
 "nbformat": 4,
 "nbformat_minor": 2
}
