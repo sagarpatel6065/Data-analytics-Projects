{
 "cells": [
  {
   "cell_type": "code",
   "execution_count": 1,
   "metadata": {},
   "outputs": [
    {
     "name": "stderr",
     "output_type": "stream",
     "text": [
      "C:\\Users\\radek\\anaconda3\\lib\\site-packages\\tpot\\builtins\\__init__.py:36: UserWarning: Warning: optional dependency `torch` is not available. - skipping import of NN models.\n",
      "  warnings.warn(\"Warning: optional dependency `torch` is not available. - skipping import of NN models.\")\n"
     ]
    }
   ],
   "source": [
    "import pandas as pd \n",
    "import numpy as np \n",
    "import seaborn as sns\n",
    "import matplotlib.pyplot as plt\n",
    "\n",
    "# Features seletcion\n",
    "from sklearn.feature_selection import SelectFromModel\n",
    "from sklearn.feature_selection import RFE\n",
    "from sklearn.feature_selection import RFECV\n",
    "\n",
    "# Train/test split\n",
    "from sklearn.model_selection import train_test_split\n",
    "\n",
    "# Models Supervised Learning\n",
    "from sklearn.ensemble import RandomForestClassifier\n",
    "from imblearn.ensemble import BalancedRandomForestClassifier\n",
    "from sklearn.linear_model import LogisticRegression\n",
    "from sklearn.ensemble import IsolationForest\n",
    "\n",
    "# Models Unsupervised Learning\n",
    "from sklearn.cluster import KMeans\n",
    "from sklearn.cluster import AgglomerativeClustering\n",
    "from sklearn.cluster import DBSCAN\n",
    "\n",
    "\n",
    "# Standard Scaller\n",
    "from sklearn.preprocessing import StandardScaler\n",
    "\n",
    "# Hyperparameters Tunning\n",
    "from sklearn.model_selection import GridSearchCV, RandomizedSearchCV\n",
    "\n",
    "# Models evaluation\n",
    "from sklearn.metrics import accuracy_score, balanced_accuracy_score, confusion_matrix, roc_curve, roc_auc_score, recall_score, precision_score, auc, RocCurveDisplay\n",
    "from sklearn.metrics import f1_score, classification_report\n",
    "\n",
    "from sklearn.metrics import silhouette_score, calinski_harabasz_score, adjusted_mutual_info_score, completeness_score, homogeneity_score, adjusted_rand_score, fowlkes_mallows_score\n",
    "\n",
    "# TPOT\n",
    "import tpot\n",
    "from tpot import TPOTClassifier\n",
    "\n",
    "# Yellowbirck\n",
    "from yellowbrick.cluster import KElbowVisualizer\n",
    "\n",
    "#TPOT results:\n",
    "from tpot.builtins import StackingEstimator\n",
    "from sklearn.pipeline import make_pipeline, make_union\n",
    "from sklearn.naive_bayes import GaussianNB\n",
    "from sklearn.ensemble import ExtraTreesClassifier"
   ]
  },
  {
   "cell_type": "markdown",
   "metadata": {},
   "source": [
    "For Machine Learning Part of the project :\n",
    "I will test models:\n",
    "- Logistic Regresion,\n",
    "- Random forest Classifier. \n",
    "- Balanced Random Frest Classifier (since my 3 classes are really not ballanced).\n",
    "\n",
    "Then I will apply tpot to see if there is another model/pipeline to be proposed."
   ]
  },
  {
   "cell_type": "code",
   "execution_count": 2,
   "metadata": {},
   "outputs": [],
   "source": [
    "paris_ml = pd.read_csv(r'C:\\Users\\radek\\Git-Hub\\Final_Project_Ironhack\\06_ML\\paris_ready_for_ml.csv')"
   ]
  },
  {
   "cell_type": "code",
   "execution_count": 3,
   "metadata": {},
   "outputs": [
    {
     "data": {
      "text/html": [
       "<div>\n",
       "<style scoped>\n",
       "    .dataframe tbody tr th:only-of-type {\n",
       "        vertical-align: middle;\n",
       "    }\n",
       "\n",
       "    .dataframe tbody tr th {\n",
       "        vertical-align: top;\n",
       "    }\n",
       "\n",
       "    .dataframe thead th {\n",
       "        text-align: right;\n",
       "    }\n",
       "</style>\n",
       "<table border=\"1\" class=\"dataframe\">\n",
       "  <thead>\n",
       "    <tr style=\"text-align: right;\">\n",
       "      <th></th>\n",
       "      <th>temp</th>\n",
       "      <th>humidity</th>\n",
       "      <th>precip</th>\n",
       "      <th>windspeed</th>\n",
       "      <th>pressure</th>\n",
       "      <th>cloudcover</th>\n",
       "      <th>visibility</th>\n",
       "      <th>uvindex</th>\n",
       "      <th>pm25</th>\n",
       "      <th>pm10</th>\n",
       "      <th>o3</th>\n",
       "      <th>no2</th>\n",
       "      <th>Clear</th>\n",
       "      <th>Partially cloudy</th>\n",
       "      <th>Rain</th>\n",
       "      <th>Snow</th>\n",
       "      <th>Overcast</th>\n",
       "      <th>month</th>\n",
       "      <th>day_of_week</th>\n",
       "      <th>target</th>\n",
       "    </tr>\n",
       "  </thead>\n",
       "  <tbody>\n",
       "    <tr>\n",
       "      <th>0</th>\n",
       "      <td>8.4</td>\n",
       "      <td>85.06</td>\n",
       "      <td>1.82</td>\n",
       "      <td>28.9</td>\n",
       "      <td>1006.1</td>\n",
       "      <td>26.7</td>\n",
       "      <td>24.8</td>\n",
       "      <td>0.0</td>\n",
       "      <td>43.0</td>\n",
       "      <td>30.0</td>\n",
       "      <td>22.0</td>\n",
       "      <td>42.0</td>\n",
       "      <td>0</td>\n",
       "      <td>1</td>\n",
       "      <td>1</td>\n",
       "      <td>0</td>\n",
       "      <td>0</td>\n",
       "      <td>1</td>\n",
       "      <td>2</td>\n",
       "      <td>0</td>\n",
       "    </tr>\n",
       "    <tr>\n",
       "      <th>1</th>\n",
       "      <td>9.9</td>\n",
       "      <td>81.63</td>\n",
       "      <td>4.96</td>\n",
       "      <td>29.2</td>\n",
       "      <td>1001.7</td>\n",
       "      <td>19.7</td>\n",
       "      <td>24.3</td>\n",
       "      <td>0.0</td>\n",
       "      <td>53.0</td>\n",
       "      <td>33.0</td>\n",
       "      <td>22.0</td>\n",
       "      <td>34.0</td>\n",
       "      <td>0</td>\n",
       "      <td>0</td>\n",
       "      <td>1</td>\n",
       "      <td>0</td>\n",
       "      <td>0</td>\n",
       "      <td>1</td>\n",
       "      <td>3</td>\n",
       "      <td>1</td>\n",
       "    </tr>\n",
       "    <tr>\n",
       "      <th>2</th>\n",
       "      <td>11.0</td>\n",
       "      <td>76.53</td>\n",
       "      <td>0.14</td>\n",
       "      <td>29.2</td>\n",
       "      <td>1006.0</td>\n",
       "      <td>20.1</td>\n",
       "      <td>20.4</td>\n",
       "      <td>0.0</td>\n",
       "      <td>50.0</td>\n",
       "      <td>28.0</td>\n",
       "      <td>23.0</td>\n",
       "      <td>41.0</td>\n",
       "      <td>0</td>\n",
       "      <td>1</td>\n",
       "      <td>1</td>\n",
       "      <td>0</td>\n",
       "      <td>0</td>\n",
       "      <td>1</td>\n",
       "      <td>4</td>\n",
       "      <td>0</td>\n",
       "    </tr>\n",
       "    <tr>\n",
       "      <th>3</th>\n",
       "      <td>9.1</td>\n",
       "      <td>80.53</td>\n",
       "      <td>0.67</td>\n",
       "      <td>21.5</td>\n",
       "      <td>1001.5</td>\n",
       "      <td>22.2</td>\n",
       "      <td>21.6</td>\n",
       "      <td>0.0</td>\n",
       "      <td>52.0</td>\n",
       "      <td>23.0</td>\n",
       "      <td>19.0</td>\n",
       "      <td>34.0</td>\n",
       "      <td>0</td>\n",
       "      <td>1</td>\n",
       "      <td>1</td>\n",
       "      <td>0</td>\n",
       "      <td>0</td>\n",
       "      <td>1</td>\n",
       "      <td>5</td>\n",
       "      <td>1</td>\n",
       "    </tr>\n",
       "    <tr>\n",
       "      <th>4</th>\n",
       "      <td>6.9</td>\n",
       "      <td>82.81</td>\n",
       "      <td>1.25</td>\n",
       "      <td>22.8</td>\n",
       "      <td>1007.5</td>\n",
       "      <td>22.8</td>\n",
       "      <td>24.0</td>\n",
       "      <td>0.0</td>\n",
       "      <td>45.0</td>\n",
       "      <td>20.0</td>\n",
       "      <td>20.0</td>\n",
       "      <td>30.0</td>\n",
       "      <td>0</td>\n",
       "      <td>1</td>\n",
       "      <td>1</td>\n",
       "      <td>0</td>\n",
       "      <td>0</td>\n",
       "      <td>1</td>\n",
       "      <td>6</td>\n",
       "      <td>0</td>\n",
       "    </tr>\n",
       "  </tbody>\n",
       "</table>\n",
       "</div>"
      ],
      "text/plain": [
       "   temp  humidity  precip  windspeed  pressure  cloudcover  visibility  \\\n",
       "0   8.4     85.06    1.82       28.9    1006.1        26.7        24.8   \n",
       "1   9.9     81.63    4.96       29.2    1001.7        19.7        24.3   \n",
       "2  11.0     76.53    0.14       29.2    1006.0        20.1        20.4   \n",
       "3   9.1     80.53    0.67       21.5    1001.5        22.2        21.6   \n",
       "4   6.9     82.81    1.25       22.8    1007.5        22.8        24.0   \n",
       "\n",
       "   uvindex  pm25  pm10    o3   no2  Clear  Partially cloudy  Rain  Snow  \\\n",
       "0      0.0  43.0  30.0  22.0  42.0      0                 1     1     0   \n",
       "1      0.0  53.0  33.0  22.0  34.0      0                 0     1     0   \n",
       "2      0.0  50.0  28.0  23.0  41.0      0                 1     1     0   \n",
       "3      0.0  52.0  23.0  19.0  34.0      0                 1     1     0   \n",
       "4      0.0  45.0  20.0  20.0  30.0      0                 1     1     0   \n",
       "\n",
       "   Overcast  month  day_of_week  target  \n",
       "0         0      1            2       0  \n",
       "1         0      1            3       1  \n",
       "2         0      1            4       0  \n",
       "3         0      1            5       1  \n",
       "4         0      1            6       0  "
      ]
     },
     "execution_count": 3,
     "metadata": {},
     "output_type": "execute_result"
    }
   ],
   "source": [
    "paris_ml.head()"
   ]
  },
  {
   "cell_type": "code",
   "execution_count": 4,
   "metadata": {},
   "outputs": [
    {
     "data": {
      "text/plain": [
       "(2922, 20)"
      ]
     },
     "execution_count": 4,
     "metadata": {},
     "output_type": "execute_result"
    }
   ],
   "source": [
    "paris_ml.shape"
   ]
  },
  {
   "cell_type": "code",
   "execution_count": 5,
   "metadata": {},
   "outputs": [],
   "source": [
    "# I can drop columns with the pollutants as I want for the model to indirectly predict them\n",
    "paris_ml.drop(columns=['pm25', 'pm10', 'o3', 'no2'], inplace=True)"
   ]
  },
  {
   "cell_type": "code",
   "execution_count": 6,
   "metadata": {},
   "outputs": [
    {
     "data": {
      "text/plain": [
       "(2922, 16)"
      ]
     },
     "execution_count": 6,
     "metadata": {},
     "output_type": "execute_result"
    }
   ],
   "source": [
    "paris_ml.shape"
   ]
  },
  {
   "cell_type": "markdown",
   "metadata": {},
   "source": [
    "#### Separation of data into X and y "
   ]
  },
  {
   "cell_type": "code",
   "execution_count": 7,
   "metadata": {},
   "outputs": [],
   "source": [
    "X = paris_ml.drop(columns='target')\n",
    "y =paris_ml['target']"
   ]
  },
  {
   "cell_type": "code",
   "execution_count": 8,
   "metadata": {},
   "outputs": [],
   "source": [
    "# I will standarize the data as I am planning on using the Logistic Regression as well\n",
    "sc = StandardScaler()\n",
    "X_stand = sc.fit_transform(X)"
   ]
  },
  {
   "cell_type": "code",
   "execution_count": 9,
   "metadata": {},
   "outputs": [
    {
     "data": {
      "text/html": [
       "<div>\n",
       "<style scoped>\n",
       "    .dataframe tbody tr th:only-of-type {\n",
       "        vertical-align: middle;\n",
       "    }\n",
       "\n",
       "    .dataframe tbody tr th {\n",
       "        vertical-align: top;\n",
       "    }\n",
       "\n",
       "    .dataframe thead th {\n",
       "        text-align: right;\n",
       "    }\n",
       "</style>\n",
       "<table border=\"1\" class=\"dataframe\">\n",
       "  <thead>\n",
       "    <tr style=\"text-align: right;\">\n",
       "      <th></th>\n",
       "      <th>temp</th>\n",
       "      <th>humidity</th>\n",
       "      <th>precip</th>\n",
       "      <th>windspeed</th>\n",
       "      <th>pressure</th>\n",
       "      <th>cloudcover</th>\n",
       "      <th>visibility</th>\n",
       "      <th>uvindex</th>\n",
       "      <th>Clear</th>\n",
       "      <th>Partially cloudy</th>\n",
       "      <th>Rain</th>\n",
       "      <th>Snow</th>\n",
       "      <th>Overcast</th>\n",
       "      <th>month</th>\n",
       "      <th>day_of_week</th>\n",
       "    </tr>\n",
       "  </thead>\n",
       "  <tbody>\n",
       "    <tr>\n",
       "      <th>0</th>\n",
       "      <td>8.4</td>\n",
       "      <td>85.06</td>\n",
       "      <td>1.82</td>\n",
       "      <td>28.9</td>\n",
       "      <td>1006.1</td>\n",
       "      <td>26.7</td>\n",
       "      <td>24.8</td>\n",
       "      <td>0.0</td>\n",
       "      <td>0</td>\n",
       "      <td>1</td>\n",
       "      <td>1</td>\n",
       "      <td>0</td>\n",
       "      <td>0</td>\n",
       "      <td>1</td>\n",
       "      <td>2</td>\n",
       "    </tr>\n",
       "    <tr>\n",
       "      <th>1</th>\n",
       "      <td>9.9</td>\n",
       "      <td>81.63</td>\n",
       "      <td>4.96</td>\n",
       "      <td>29.2</td>\n",
       "      <td>1001.7</td>\n",
       "      <td>19.7</td>\n",
       "      <td>24.3</td>\n",
       "      <td>0.0</td>\n",
       "      <td>0</td>\n",
       "      <td>0</td>\n",
       "      <td>1</td>\n",
       "      <td>0</td>\n",
       "      <td>0</td>\n",
       "      <td>1</td>\n",
       "      <td>3</td>\n",
       "    </tr>\n",
       "    <tr>\n",
       "      <th>2</th>\n",
       "      <td>11.0</td>\n",
       "      <td>76.53</td>\n",
       "      <td>0.14</td>\n",
       "      <td>29.2</td>\n",
       "      <td>1006.0</td>\n",
       "      <td>20.1</td>\n",
       "      <td>20.4</td>\n",
       "      <td>0.0</td>\n",
       "      <td>0</td>\n",
       "      <td>1</td>\n",
       "      <td>1</td>\n",
       "      <td>0</td>\n",
       "      <td>0</td>\n",
       "      <td>1</td>\n",
       "      <td>4</td>\n",
       "    </tr>\n",
       "    <tr>\n",
       "      <th>3</th>\n",
       "      <td>9.1</td>\n",
       "      <td>80.53</td>\n",
       "      <td>0.67</td>\n",
       "      <td>21.5</td>\n",
       "      <td>1001.5</td>\n",
       "      <td>22.2</td>\n",
       "      <td>21.6</td>\n",
       "      <td>0.0</td>\n",
       "      <td>0</td>\n",
       "      <td>1</td>\n",
       "      <td>1</td>\n",
       "      <td>0</td>\n",
       "      <td>0</td>\n",
       "      <td>1</td>\n",
       "      <td>5</td>\n",
       "    </tr>\n",
       "    <tr>\n",
       "      <th>4</th>\n",
       "      <td>6.9</td>\n",
       "      <td>82.81</td>\n",
       "      <td>1.25</td>\n",
       "      <td>22.8</td>\n",
       "      <td>1007.5</td>\n",
       "      <td>22.8</td>\n",
       "      <td>24.0</td>\n",
       "      <td>0.0</td>\n",
       "      <td>0</td>\n",
       "      <td>1</td>\n",
       "      <td>1</td>\n",
       "      <td>0</td>\n",
       "      <td>0</td>\n",
       "      <td>1</td>\n",
       "      <td>6</td>\n",
       "    </tr>\n",
       "  </tbody>\n",
       "</table>\n",
       "</div>"
      ],
      "text/plain": [
       "   temp  humidity  precip  windspeed  pressure  cloudcover  visibility  \\\n",
       "0   8.4     85.06    1.82       28.9    1006.1        26.7        24.8   \n",
       "1   9.9     81.63    4.96       29.2    1001.7        19.7        24.3   \n",
       "2  11.0     76.53    0.14       29.2    1006.0        20.1        20.4   \n",
       "3   9.1     80.53    0.67       21.5    1001.5        22.2        21.6   \n",
       "4   6.9     82.81    1.25       22.8    1007.5        22.8        24.0   \n",
       "\n",
       "   uvindex  Clear  Partially cloudy  Rain  Snow  Overcast  month  day_of_week  \n",
       "0      0.0      0                 1     1     0         0      1            2  \n",
       "1      0.0      0                 0     1     0         0      1            3  \n",
       "2      0.0      0                 1     1     0         0      1            4  \n",
       "3      0.0      0                 1     1     0         0      1            5  \n",
       "4      0.0      0                 1     1     0         0      1            6  "
      ]
     },
     "execution_count": 9,
     "metadata": {},
     "output_type": "execute_result"
    }
   ],
   "source": [
    "X.head()"
   ]
  },
  {
   "cell_type": "markdown",
   "metadata": {},
   "source": [
    "## Features selection"
   ]
  },
  {
   "cell_type": "markdown",
   "metadata": {},
   "source": [
    "### Select From Model"
   ]
  },
  {
   "cell_type": "code",
   "execution_count": 10,
   "metadata": {},
   "outputs": [
    {
     "name": "stdout",
     "output_type": "stream",
     "text": [
      "Number of features: 7\n",
      "Features selected:\n",
      "Index(['temp', 'humidity', 'windspeed', 'pressure', 'cloudcover', 'visibility',\n",
      "       'uvindex'],\n",
      "      dtype='object')\n"
     ]
    }
   ],
   "source": [
    "# With RFC\n",
    "SFM = SelectFromModel(estimator=RandomForestClassifier())\n",
    "s=SFM.fit(X, y)\n",
    "\n",
    "\n",
    "#Results\n",
    "n_features = s.transform(X).shape[1]\n",
    "print(f'Number of features: {n_features}')\n",
    "feature_idx = s.get_support()\n",
    "feature_name = X.columns[feature_idx]\n",
    "print(f'Features selected:\\n{feature_name}') "
   ]
  },
  {
   "cell_type": "code",
   "execution_count": 11,
   "metadata": {},
   "outputs": [
    {
     "name": "stdout",
     "output_type": "stream",
     "text": [
      "Number of features: 7\n",
      "Features selected:\n",
      "Index(['temp', 'humidity', 'windspeed', 'pressure', 'cloudcover', 'visibility',\n",
      "       'uvindex'],\n",
      "      dtype='object')\n"
     ]
    }
   ],
   "source": [
    "# With BRFC\n",
    "SFM = SelectFromModel(estimator=BalancedRandomForestClassifier())\n",
    "s=SFM.fit(X, y)\n",
    "\n",
    "\n",
    "#Results\n",
    "n_features = s.transform(X).shape[1]\n",
    "print(f'Number of features: {n_features}')\n",
    "feature_idx = s.get_support()\n",
    "feature_name = X.columns[feature_idx]\n",
    "print(f'Features selected:\\n{feature_name}') "
   ]
  },
  {
   "cell_type": "code",
   "execution_count": 12,
   "metadata": {},
   "outputs": [
    {
     "name": "stdout",
     "output_type": "stream",
     "text": [
      "Number of features: 4\n",
      "Features selected:\n",
      "Index(['humidity', 'windspeed', 'visibility', 'uvindex'], dtype='object')\n"
     ]
    }
   ],
   "source": [
    "# With LR - Logistic Regression\n",
    "SFM = SelectFromModel(estimator=LogisticRegression())\n",
    "s=SFM.fit(X_stand, y)\n",
    "\n",
    "\n",
    "#Results\n",
    "n_features = s.transform(X_stand).shape[1]\n",
    "print(f'Number of features: {n_features}')\n",
    "feature_idx = s.get_support()\n",
    "feature_name = X.columns[feature_idx]\n",
    "print(f'Features selected:\\n{feature_name}') "
   ]
  },
  {
   "cell_type": "markdown",
   "metadata": {},
   "source": [
    "RFE - Recursive Feature Elimination"
   ]
  },
  {
   "cell_type": "code",
   "execution_count": 13,
   "metadata": {},
   "outputs": [
    {
     "name": "stdout",
     "output_type": "stream",
     "text": [
      "Num Features: 7\n",
      "Selected Features: [ True  True False  True  True  True  True  True False False False False\n",
      " False False False]\n",
      "Feature Ranking: [1 1 2 1 1 1 1 1 7 6 5 8 9 3 4]\n"
     ]
    }
   ],
   "source": [
    "rfe_selector = RFE(estimator=RandomForestClassifier())\n",
    "m=rfe_selector.fit(X, y)\n",
    "X.columns[m.get_support()]\n",
    "print(\"Num Features: %s\" % (m.n_features_))\n",
    "print(\"Selected Features: %s\" % (m.support_))\n",
    "print(\"Feature Ranking: %s\" % (m.ranking_))"
   ]
  },
  {
   "cell_type": "markdown",
   "metadata": {},
   "source": [
    "RFECV"
   ]
  },
  {
   "cell_type": "code",
   "execution_count": 14,
   "metadata": {},
   "outputs": [
    {
     "name": "stdout",
     "output_type": "stream",
     "text": [
      "Fitting estimator with 15 features.\n",
      "Fitting estimator with 14 features.\n",
      "Fitting estimator with 13 features.\n",
      "Fitting estimator with 12 features.\n",
      "Fitting estimator with 11 features.\n",
      "Fitting estimator with 10 features.\n",
      "Fitting estimator with 9 features.\n"
     ]
    },
    {
     "name": "stderr",
     "output_type": "stream",
     "text": [
      "C:\\Users\\radek\\anaconda3\\lib\\site-packages\\sklearn\\base.py:445: UserWarning: X does not have valid feature names, but RFECV was fitted with feature names\n",
      "  warnings.warn(\n"
     ]
    }
   ],
   "source": [
    "rfecv = RFECV(\n",
    "    estimator=RandomForestClassifier(),\n",
    "    min_features_to_select=2,\n",
    "    step=1,\n",
    "    n_jobs=-1,\n",
    "    verbose=1,\n",
    "    scoring=\"r2\",\n",
    "    cv=5,\n",
    ")\n",
    "\n",
    "m= rfecv.fit(X, y)"
   ]
  },
  {
   "cell_type": "code",
   "execution_count": 15,
   "metadata": {},
   "outputs": [
    {
     "data": {
      "text/plain": [
       "Index(['temp', 'humidity', 'precip', 'windspeed', 'pressure', 'cloudcover',\n",
       "       'visibility', 'uvindex'],\n",
       "      dtype='object')"
      ]
     },
     "execution_count": 15,
     "metadata": {},
     "output_type": "execute_result"
    }
   ],
   "source": [
    "features_selected = X.columns[rfecv.support_]\n",
    "features_selected"
   ]
  },
  {
   "cell_type": "code",
   "execution_count": 16,
   "metadata": {},
   "outputs": [],
   "source": [
    "# All of the features selectors suggest to work 7-8 columns alll of them greatly dependent on the weather. I will try two variants: \n",
    "# First with all of the columns.\n",
    "# Second with just the columns proposed by the feature selection."
   ]
  },
  {
   "cell_type": "markdown",
   "metadata": {},
   "source": [
    "### Train test split"
   ]
  },
  {
   "cell_type": "markdown",
   "metadata": {},
   "source": [
    "Data"
   ]
  },
  {
   "cell_type": "code",
   "execution_count": 17,
   "metadata": {},
   "outputs": [
    {
     "name": "stdout",
     "output_type": "stream",
     "text": [
      "(2337, 15)\n",
      "(2337,)\n",
      "(585, 15)\n",
      "(585,)\n"
     ]
    }
   ],
   "source": [
    "x_train, x_test, y_train, y_test = train_test_split(X, y, test_size=0.2, random_state=5)\n",
    "print(x_train.shape)\n",
    "print(y_train.shape)\n",
    "print(x_test.shape)\n",
    "print(y_test.shape)"
   ]
  },
  {
   "cell_type": "markdown",
   "metadata": {},
   "source": [
    "Standarized data"
   ]
  },
  {
   "cell_type": "code",
   "execution_count": 18,
   "metadata": {},
   "outputs": [
    {
     "name": "stdout",
     "output_type": "stream",
     "text": [
      "(2337, 15)\n",
      "(2337,)\n",
      "(585, 15)\n",
      "(585,)\n"
     ]
    }
   ],
   "source": [
    "x_train_st, x_test_st, y_train, y_test = train_test_split(X_stand, y, test_size=0.2, random_state=5)\n",
    "print(x_train_st.shape)\n",
    "print(y_train.shape)\n",
    "print(x_test_st.shape)\n",
    "print(y_test.shape)"
   ]
  },
  {
   "cell_type": "markdown",
   "metadata": {},
   "source": [
    "Function to evaluate models"
   ]
  },
  {
   "cell_type": "code",
   "execution_count": 19,
   "metadata": {},
   "outputs": [],
   "source": [
    "def generate_results(model, predictions, name):\n",
    "    cl_rep = classification_report(y_test, predictions)\n",
    "    print(\"\\nThe classification report for \" + name + \" is:\", cl_rep, sep = \"\\n\")\n",
    "    cm_model = confusion_matrix(y_test, predictions)\n",
    "    print(\"\\nBalanced accuracy_score \", balanced_accuracy_score(y_test,predictions))\n",
    "    print(\"\\nF1_score \",f1_score(y_test,predictions, average='weighted'))\n",
    "    plt.figure(figsize = (8, 6))\n",
    "    sns.heatmap(cm_model, annot = True, cmap = 'YlGn', annot_kws = {'size': 15}, square = True)\n",
    "    plt.title('Confusion Matrix for ' + name, size = 15)\n",
    "    plt.xticks(size = 15)\n",
    "    plt.yticks(size = 15)\n",
    "    plt.show() "
   ]
  },
  {
   "cell_type": "markdown",
   "metadata": {},
   "source": [
    "### Hyperparameter Tunning "
   ]
  },
  {
   "cell_type": "markdown",
   "metadata": {},
   "source": [
    "Logistic Regression"
   ]
  },
  {
   "cell_type": "code",
   "execution_count": 20,
   "metadata": {},
   "outputs": [
    {
     "name": "stdout",
     "output_type": "stream",
     "text": [
      "Fitting 3 folds for each of 90 candidates, totalling 270 fits\n"
     ]
    },
    {
     "name": "stderr",
     "output_type": "stream",
     "text": [
      "C:\\Users\\radek\\anaconda3\\lib\\site-packages\\sklearn\\model_selection\\_validation.py:372: FitFailedWarning: \n",
      "18 fits failed out of a total of 270.\n",
      "The score on these train-test partitions for these parameters will be set to nan.\n",
      "If these failures are not expected, you can try to debug them by setting error_score='raise'.\n",
      "\n",
      "Below are more details about the failures:\n",
      "--------------------------------------------------------------------------------\n",
      "18 fits failed with the following error:\n",
      "Traceback (most recent call last):\n",
      "  File \"C:\\Users\\radek\\anaconda3\\lib\\site-packages\\sklearn\\model_selection\\_validation.py\", line 681, in _fit_and_score\n",
      "    estimator.fit(X_train, y_train, **fit_params)\n",
      "  File \"C:\\Users\\radek\\anaconda3\\lib\\site-packages\\sklearn\\linear_model\\_logistic.py\", line 1519, in fit\n",
      "    multi_class = _check_multi_class(self.multi_class, solver, len(self.classes_))\n",
      "  File \"C:\\Users\\radek\\anaconda3\\lib\\site-packages\\sklearn\\linear_model\\_logistic.py\", line 483, in _check_multi_class\n",
      "    raise ValueError(\"Solver %s does not support a multinomial backend.\" % solver)\n",
      "ValueError: Solver liblinear does not support a multinomial backend.\n",
      "\n",
      "  warnings.warn(some_fits_failed_message, FitFailedWarning)\n",
      "C:\\Users\\radek\\anaconda3\\lib\\site-packages\\sklearn\\model_selection\\_search.py:969: UserWarning: One or more of the test scores are non-finite: [0.70461737 0.70461737 0.65031302 0.70557362 0.69910007 0.65265827\n",
      " 0.65265827 0.65031302 0.64189296 0.63995856 0.70461737 0.70461737\n",
      "        nan 0.70557362 0.70023334 0.70461737 0.70461737 0.65031302\n",
      " 0.70483867 0.70386461 0.65265827 0.65265827 0.65031302 0.64622701\n",
      " 0.64180381 0.70461737 0.70461737        nan 0.70483867 0.70269164\n",
      " 0.70461737 0.70461737 0.65031302 0.70565273 0.70549437 0.65265827\n",
      " 0.65265827 0.65031302 0.64689079 0.64084937 0.70461737 0.70461737\n",
      "        nan 0.70691734 0.70549437 0.70461737 0.70461737 0.65031302\n",
      " 0.70550245 0.70460883 0.65265827 0.65265827 0.65031302 0.64976526\n",
      " 0.64333374 0.70461737 0.70461737        nan 0.70550245 0.70557362\n",
      " 0.70461737 0.70461737 0.65031302 0.70550245 0.70372374 0.65265827\n",
      " 0.65265827 0.65031302 0.64976526 0.64605807 0.70461737 0.70461737\n",
      "        nan 0.70550245 0.70468853 0.70461737 0.70461737 0.65031302\n",
      " 0.70550245 0.70387373 0.65265827 0.65265827 0.65031302 0.65169393\n",
      " 0.6470224  0.70461737 0.70461737        nan 0.70550245 0.70357346]\n",
      "  warnings.warn(\n"
     ]
    },
    {
     "name": "stdout",
     "output_type": "stream",
     "text": [
      "{'max_iter': 200, 'multi_class': 'multinomial', 'solver': 'sag'}\n",
      "0.7069173372027756\n"
     ]
    },
    {
     "name": "stderr",
     "output_type": "stream",
     "text": [
      "C:\\Users\\radek\\anaconda3\\lib\\site-packages\\sklearn\\linear_model\\_sag.py:352: ConvergenceWarning: The max_iter was reached which means the coef_ did not converge\n",
      "  warnings.warn(\n"
     ]
    }
   ],
   "source": [
    "grid_search = GridSearchCV(LogisticRegression(),\n",
    "                           {\n",
    "                              'max_iter': np.arange(100,400,50),\n",
    "                              'solver' : ['newton-cg', 'lbfgs', 'liblinear', 'sag', 'saga'],\n",
    "                              'multi_class': ['auto', 'ovr', 'multinomial']\n",
    "                            },cv=3, scoring=\"balanced_accuracy\",verbose=1,n_jobs=-1\n",
    "                           )\n",
    "grid_search.fit(X_stand,y)\n",
    "print(grid_search.best_params_)\n",
    "print(grid_search.best_score_)"
   ]
  },
  {
   "cell_type": "markdown",
   "metadata": {},
   "source": [
    "Random Forest Classifier"
   ]
  },
  {
   "cell_type": "code",
   "execution_count": 21,
   "metadata": {},
   "outputs": [
    {
     "name": "stdout",
     "output_type": "stream",
     "text": [
      "Fitting 5 folds for each of 10 candidates, totalling 50 fits\n",
      "{'n_estimators': 1600, 'min_samples_split': 5, 'min_samples_leaf': 1, 'max_features': 'auto', 'max_depth': 90, 'bootstrap': False}\n",
      "0.6806466845345395\n"
     ]
    }
   ],
   "source": [
    "rand_search = RandomizedSearchCV(RandomForestClassifier(),\n",
    "                           {'bootstrap': [True, False],\n",
    "                            'max_depth': [10, 20, 30, 40, 50, 60, 70, 80, 90, 100, None],\n",
    "                            'max_features': ['auto', 'sqrt'],\n",
    "                            'min_samples_leaf': [1, 2, 4],\n",
    "                            'min_samples_split': [2, 5, 10],\n",
    "                            'n_estimators': [100, 200, 400, 600, 800, 1000, 1200, 1400, 1600, 1800, 2000]},\n",
    "                            cv=5, scoring=\"balanced_accuracy\",verbose=1,n_jobs=-1\n",
    "                           )\n",
    "rand_search.fit(X,y)\n",
    "print(rand_search.best_params_)\n",
    "print(rand_search.best_score_)"
   ]
  },
  {
   "cell_type": "markdown",
   "metadata": {},
   "source": [
    "Balanced random Forest Classifier"
   ]
  },
  {
   "cell_type": "code",
   "execution_count": 22,
   "metadata": {},
   "outputs": [
    {
     "name": "stdout",
     "output_type": "stream",
     "text": [
      "Fitting 5 folds for each of 10 candidates, totalling 50 fits\n",
      "{'n_estimators': 400, 'min_samples_split': 2, 'min_samples_leaf': 1, 'max_features': 'sqrt', 'max_depth': None, 'bootstrap': True}\n",
      "0.772576439145888\n"
     ]
    }
   ],
   "source": [
    "rand_search = RandomizedSearchCV(BalancedRandomForestClassifier(),\n",
    "                           {'bootstrap': [True, False],\n",
    "                            'max_depth': [10, 20, 30, 40, 50, 60, 70, 80, 90, 100, None],\n",
    "                            'max_features': ['auto', 'sqrt'],\n",
    "                            'min_samples_leaf': [1, 2, 4],\n",
    "                            'min_samples_split': [2, 5, 10],\n",
    "                            'n_estimators': [100, 200, 400, 600, 800, 1000, 1200, 1400, 1600, 1800, 2000]},\n",
    "                            cv=5, scoring=\"balanced_accuracy\",verbose=1,n_jobs=-1\n",
    "                           )\n",
    "rand_search.fit(X,y)\n",
    "print(rand_search.best_params_)\n",
    "print(rand_search.best_score_)"
   ]
  },
  {
   "cell_type": "markdown",
   "metadata": {},
   "source": [
    "## Models"
   ]
  },
  {
   "cell_type": "markdown",
   "metadata": {},
   "source": [
    "### Logistic Regression"
   ]
  },
  {
   "cell_type": "code",
   "execution_count": 23,
   "metadata": {},
   "outputs": [
    {
     "name": "stdout",
     "output_type": "stream",
     "text": [
      "The accuracy of the Logistic Regression is: 76.23931623931624 %\n",
      "\n",
      "The classification report for Logistic Regression is:\n",
      "              precision    recall  f1-score   support\n",
      "\n",
      "           0       0.75      0.56      0.64       181\n",
      "           1       0.76      0.89      0.82       354\n",
      "           2       0.85      0.58      0.69        50\n",
      "\n",
      "    accuracy                           0.76       585\n",
      "   macro avg       0.79      0.68      0.72       585\n",
      "weighted avg       0.76      0.76      0.75       585\n",
      "\n",
      "\n",
      "Balanced accuracy_score  0.6768888056517984\n",
      "\n",
      "F1_score  0.7534575027700838\n"
     ]
    },
    {
     "data": {
      "image/png": "[encoded data removed]",
      "text/plain": [
       "<Figure size 576x432 with 2 Axes>"
      ]
     },
     "metadata": {},
     "output_type": "display_data"
    }
   ],
   "source": [
    "lr = LogisticRegression()\n",
    "lr.fit(x_train_st, y_train)\n",
    "\n",
    "\n",
    "# Results\n",
    "y_pred = lr.predict(x_test_st)\n",
    "# Predict probabilities\n",
    "probs_y=lr.predict_proba(x_test_st)\n",
    "### Print results \n",
    "probs_y = np.round(probs_y, 2)\n",
    "\n",
    "print('The accuracy of the Logistic Regression is:', lr.score(x_test_st, y_test) * 100, '%')\n",
    "generate_results(lr, y_pred, 'Logistic Regression')"
   ]
  },
  {
   "cell_type": "markdown",
   "metadata": {},
   "source": [
    "### Random Forest Classifier"
   ]
  },
  {
   "cell_type": "code",
   "execution_count": 24,
   "metadata": {},
   "outputs": [
    {
     "name": "stdout",
     "output_type": "stream",
     "text": [
      "The accuracy of the Random Forest Classifier is: 75.55555555555556 %\n",
      "\n",
      "The classification report for Random Forest Classifier is:\n",
      "              precision    recall  f1-score   support\n",
      "\n",
      "           0       0.80      0.57      0.67       181\n",
      "           1       0.74      0.91      0.82       354\n",
      "           2       0.73      0.32      0.44        50\n",
      "\n",
      "    accuracy                           0.76       585\n",
      "   macro avg       0.76      0.60      0.64       585\n",
      "weighted avg       0.76      0.76      0.74       585\n",
      "\n",
      "\n",
      "Balanced accuracy_score  0.6004967173372455\n",
      "\n",
      "F1_score  0.7397080223442707\n"
     ]
    },
    {
     "data": {
      "image/png": "[encoded data removed]",
      "text/plain": [
       "<Figure size 576x432 with 2 Axes>"
      ]
     },
     "metadata": {},
     "output_type": "display_data"
    }
   ],
   "source": [
    "rfc = RandomForestClassifier(n_estimators=150)\n",
    "rfc.fit(x_train, y_train)\n",
    "y_pred = rfc.predict(x_test)\n",
    "acc_rfc = rfc.score(x_test, y_test)\n",
    "print('The accuracy of the Random Forest Classifier is:', acc_rfc * 100, '%')\n",
    "generate_results(rfc, y_pred, 'Random Forest Classifier')"
   ]
  },
  {
   "cell_type": "markdown",
   "metadata": {},
   "source": [
    "### Balanced random Forest Classifier"
   ]
  },
  {
   "cell_type": "code",
   "execution_count": 25,
   "metadata": {},
   "outputs": [
    {
     "name": "stdout",
     "output_type": "stream",
     "text": [
      "The accuracy of the Balanced Random Forest Classifier is: 70.76923076923077 %\n",
      "\n",
      "The classification report for Balanced Random Forest Classifier is:\n",
      "              precision    recall  f1-score   support\n",
      "\n",
      "           0       0.64      0.78      0.71       181\n",
      "           1       0.84      0.64      0.73       354\n",
      "           2       0.48      0.92      0.63        50\n",
      "\n",
      "    accuracy                           0.71       585\n",
      "   macro avg       0.65      0.78      0.69       585\n",
      "weighted avg       0.75      0.71      0.71       585\n",
      "\n",
      "\n",
      "Balanced accuracy_score  0.780982821945459\n",
      "\n",
      "F1_score  0.7121796316336324\n"
     ]
    },
    {
     "data": {
      "image/png": "[encoded data removed]",
      "text/plain": [
       "<Figure size 576x432 with 2 Axes>"
      ]
     },
     "metadata": {},
     "output_type": "display_data"
    }
   ],
   "source": [
    "brfc = BalancedRandomForestClassifier()\n",
    "brfc.fit(x_train, y_train)\n",
    "y_pred = brfc.predict(x_test)\n",
    "acc_brfc = brfc.score(x_test, y_test)\n",
    "print('The accuracy of the Balanced Random Forest Classifier is:', acc_brfc * 100, '%')\n",
    "generate_results(brfc, y_pred, 'Balanced Random Forest Classifier')"
   ]
  },
  {
   "cell_type": "markdown",
   "metadata": {},
   "source": [
    "n_estimators': 1400, 'min_samples_split': 2, 'min_samples_leaf': 2, 'max_features': 'auto', 'max_depth': 30, 'bootstrap': False"
   ]
  },
  {
   "cell_type": "code",
   "execution_count": 26,
   "metadata": {},
   "outputs": [
    {
     "name": "stdout",
     "output_type": "stream",
     "text": [
      "The accuracy of the Balanced Random Forest Classifier is: 70.94017094017094 %\n",
      "\n",
      "The classification report for Balanced Random Forest Classifier is:\n",
      "              precision    recall  f1-score   support\n",
      "\n",
      "           0       0.64      0.80      0.71       181\n",
      "           1       0.84      0.64      0.73       354\n",
      "           2       0.49      0.90      0.64        50\n",
      "\n",
      "    accuracy                           0.71       585\n",
      "   macro avg       0.66      0.78      0.69       585\n",
      "weighted avg       0.75      0.71      0.71       585\n",
      "\n",
      "\n",
      "Balanced accuracy_score  0.7779993965310942\n",
      "\n",
      "F1_score  0.7132326600343293\n"
     ]
    },
    {
     "data": {
      "image/png": "[encoded data removed]",
      "text/plain": [
       "<Figure size 576x432 with 2 Axes>"
      ]
     },
     "metadata": {},
     "output_type": "display_data"
    }
   ],
   "source": [
    "brfc = BalancedRandomForestClassifier(n_estimators=1400,min_samples_split=2, min_samples_leaf=2, max_features='auto', max_depth=30, bootstrap=False)\n",
    "brfc.fit(x_train, y_train)\n",
    "y_pred = brfc.predict(x_test)\n",
    "acc_brfc = brfc.score(x_test, y_test)\n",
    "print('The accuracy of the Balanced Random Forest Classifier is:', acc_brfc * 100, '%')\n",
    "generate_results(brfc, y_pred, 'Balanced Random Forest Classifier')"
   ]
  },
  {
   "cell_type": "markdown",
   "metadata": {},
   "source": [
    "### TPOT"
   ]
  },
  {
   "cell_type": "code",
   "execution_count": 27,
   "metadata": {},
   "outputs": [],
   "source": [
    "model = TPOTClassifier(generations=5, population_size=50, cv=5, scoring='balanced_accuracy', verbosity=3, n_jobs=-1)"
   ]
  },
  {
   "cell_type": "code",
   "execution_count": 28,
   "metadata": {},
   "outputs": [],
   "source": [
    "# model.fit(x_train, y_train)"
   ]
  },
  {
   "cell_type": "code",
   "execution_count": 29,
   "metadata": {},
   "outputs": [],
   "source": [
    "# model.export(r'C:\\Users\\radek\\Git-Hub\\Final_Project_Ironhack\\06 - ML\\tpot_model.py')"
   ]
  },
  {
   "cell_type": "code",
   "execution_count": 30,
   "metadata": {},
   "outputs": [
    {
     "name": "stderr",
     "output_type": "stream",
     "text": [
      "C:\\Users\\radek\\anaconda3\\lib\\site-packages\\sklearn\\base.py:445: UserWarning: X does not have valid feature names, but ExtraTreesClassifier was fitted with feature names\n",
      "  warnings.warn(\n",
      "C:\\Users\\radek\\anaconda3\\lib\\site-packages\\sklearn\\base.py:445: UserWarning: X does not have valid feature names, but ExtraTreesClassifier was fitted with feature names\n",
      "  warnings.warn(\n",
      "C:\\Users\\radek\\anaconda3\\lib\\site-packages\\sklearn\\base.py:445: UserWarning: X does not have valid feature names, but ExtraTreesClassifier was fitted with feature names\n",
      "  warnings.warn(\n",
      "C:\\Users\\radek\\anaconda3\\lib\\site-packages\\sklearn\\base.py:445: UserWarning: X does not have valid feature names, but ExtraTreesClassifier was fitted with feature names\n",
      "  warnings.warn(\n"
     ]
    }
   ],
   "source": [
    "features = paris_ml.drop('target', axis=1)\n",
    "training_features, testing_features, training_target, testing_target = \\\n",
    "            train_test_split(features, paris_ml['target'], random_state=None)\n",
    "\n",
    "# Average CV score on the training set was: 0.7987671078415679\n",
    "exported_pipeline = make_pipeline(\n",
    "    StackingEstimator(estimator=ExtraTreesClassifier(bootstrap=False, criterion=\"entropy\", max_features=0.6000000000000001, min_samples_leaf=4, min_samples_split=14, n_estimators=100)),\n",
    "    GaussianNB()\n",
    ")\n",
    "\n",
    "exported_pipeline.fit(training_features, training_target)\n",
    "results = exported_pipeline.predict(testing_features)"
   ]
  },
  {
   "cell_type": "code",
   "execution_count": 31,
   "metadata": {},
   "outputs": [
    {
     "name": "stdout",
     "output_type": "stream",
     "text": [
      "The accuracy of the Stacking Estimator is: 69.76744186046511 %\n"
     ]
    },
    {
     "name": "stderr",
     "output_type": "stream",
     "text": [
      "C:\\Users\\radek\\anaconda3\\lib\\site-packages\\sklearn\\base.py:445: UserWarning: X does not have valid feature names, but ExtraTreesClassifier was fitted with feature names\n",
      "  warnings.warn(\n",
      "C:\\Users\\radek\\anaconda3\\lib\\site-packages\\sklearn\\base.py:445: UserWarning: X does not have valid feature names, but ExtraTreesClassifier was fitted with feature names\n",
      "  warnings.warn(\n"
     ]
    }
   ],
   "source": [
    "acc_tpot = exported_pipeline.score(testing_features, testing_target)\n",
    "print('The accuracy of the Stacking Estimator is:', acc_tpot * 100, '%')"
   ]
  },
  {
   "cell_type": "code",
   "execution_count": 32,
   "metadata": {},
   "outputs": [
    {
     "name": "stdout",
     "output_type": "stream",
     "text": [
      "[[185  19   0]\n",
      " [165 284  27]\n",
      " [  0  10  41]]\n",
      "0.769140989729225\n",
      "0.7032285648189281\n"
     ]
    }
   ],
   "source": [
    "print(confusion_matrix(testing_target,results))\n",
    "print(balanced_accuracy_score(testing_target,results))\n",
    "print(f1_score(testing_target,results, average='weighted'))\n"
   ]
  },
  {
   "cell_type": "code",
   "execution_count": 33,
   "metadata": {},
   "outputs": [
    {
     "data": {
      "image/png": "[encoded data removed]",
      "text/plain": [
       "<Figure size 576x432 with 2 Axes>"
      ]
     },
     "metadata": {},
     "output_type": "display_data"
    }
   ],
   "source": [
    "plt.figure(figsize = (8, 6))\n",
    "sns.heatmap(confusion_matrix(testing_target,results), annot = True, cmap = 'YlGn', annot_kws = {'size': 15}, square = True)\n",
    "plt.title('Confusion Matrix for Stacking Estimator', size = 15)\n",
    "plt.xticks(size = 15)\n",
    "plt.yticks(size = 15)\n",
    "plt.show() "
   ]
  },
  {
   "cell_type": "code",
   "execution_count": 34,
   "metadata": {},
   "outputs": [
    {
     "name": "stdout",
     "output_type": "stream",
     "text": [
      "              precision    recall  f1-score   support\n",
      "\n",
      "           0       0.53      0.91      0.67       204\n",
      "           1       0.91      0.60      0.72       476\n",
      "           2       0.60      0.80      0.69        51\n",
      "\n",
      "    accuracy                           0.70       731\n",
      "   macro avg       0.68      0.77      0.69       731\n",
      "weighted avg       0.78      0.70      0.70       731\n",
      "\n"
     ]
    }
   ],
   "source": [
    "print(classification_report(testing_target,results))"
   ]
  },
  {
   "cell_type": "markdown",
   "metadata": {},
   "source": [
    "### New features selection only for Balanced Forest Classifier and TPOT proposed pipeline"
   ]
  },
  {
   "cell_type": "code",
   "execution_count": 35,
   "metadata": {},
   "outputs": [],
   "source": [
    "# New features (proposed by RFECV)\n",
    "X_new = X[features_selected]\n"
   ]
  },
  {
   "cell_type": "code",
   "execution_count": 36,
   "metadata": {},
   "outputs": [
    {
     "name": "stdout",
     "output_type": "stream",
     "text": [
      "(2337, 8)\n",
      "(2337,)\n",
      "(585, 8)\n",
      "(585,)\n"
     ]
    }
   ],
   "source": [
    "x_train, x_test, y_train, y_test = train_test_split(X_new, y, test_size=0.2, random_state=5)\n",
    "print(x_train.shape)\n",
    "print(y_train.shape)\n",
    "print(x_test.shape)\n",
    "print(y_test.shape)"
   ]
  },
  {
   "cell_type": "markdown",
   "metadata": {},
   "source": [
    "Balanced Random Forest Classifier"
   ]
  },
  {
   "cell_type": "code",
   "execution_count": 37,
   "metadata": {},
   "outputs": [
    {
     "name": "stdout",
     "output_type": "stream",
     "text": [
      "The accuracy of the Random Forest Classifier is: 71.7948717948718 %\n",
      "\n",
      "The classification report for Random Forest Classifier is:\n",
      "              precision    recall  f1-score   support\n",
      "\n",
      "           0       0.65      0.80      0.71       181\n",
      "           1       0.84      0.66      0.74       354\n",
      "           2       0.50      0.88      0.64        50\n",
      "\n",
      "    accuracy                           0.72       585\n",
      "   macro avg       0.66      0.78      0.70       585\n",
      "weighted avg       0.75      0.72      0.72       585\n",
      "\n",
      "\n",
      "Balanced accuracy_score  0.7769824473785518\n",
      "\n",
      "F1_score  0.7220038439092464\n"
     ]
    },
    {
     "data": {
      "image/png": "[encoded data removed]",
      "text/plain": [
       "<Figure size 576x432 with 2 Axes>"
      ]
     },
     "metadata": {},
     "output_type": "display_data"
    }
   ],
   "source": [
    "brfc = BalancedRandomForestClassifier()\n",
    "brfc.fit(x_train, y_train)\n",
    "y_pred = brfc.predict(x_test)\n",
    "acc_brfc = brfc.score(x_test, y_test)\n",
    "print('The accuracy of the Random Forest Classifier is:', acc_brfc * 100, '%')\n",
    "generate_results(brfc, y_pred, 'Random Forest Classifier')"
   ]
  },
  {
   "cell_type": "markdown",
   "metadata": {},
   "source": [
    "Pipline Proposed by TPOT"
   ]
  },
  {
   "cell_type": "code",
   "execution_count": 38,
   "metadata": {},
   "outputs": [
    {
     "name": "stderr",
     "output_type": "stream",
     "text": [
      "C:\\Users\\radek\\anaconda3\\lib\\site-packages\\sklearn\\base.py:445: UserWarning: X does not have valid feature names, but ExtraTreesClassifier was fitted with feature names\n",
      "  warnings.warn(\n",
      "C:\\Users\\radek\\anaconda3\\lib\\site-packages\\sklearn\\base.py:445: UserWarning: X does not have valid feature names, but ExtraTreesClassifier was fitted with feature names\n",
      "  warnings.warn(\n",
      "C:\\Users\\radek\\anaconda3\\lib\\site-packages\\sklearn\\base.py:445: UserWarning: X does not have valid feature names, but ExtraTreesClassifier was fitted with feature names\n",
      "  warnings.warn(\n",
      "C:\\Users\\radek\\anaconda3\\lib\\site-packages\\sklearn\\base.py:445: UserWarning: X does not have valid feature names, but ExtraTreesClassifier was fitted with feature names\n",
      "  warnings.warn(\n"
     ]
    }
   ],
   "source": [
    "features = X_new\n",
    "training_features, testing_features, training_target, testing_target = \\\n",
    "            train_test_split(features,y, random_state=None)\n",
    "\n",
    "# Average CV score on the training set was: 0.7987671078415679\n",
    "exported_pipeline2 = make_pipeline(\n",
    "    StackingEstimator(estimator=ExtraTreesClassifier(bootstrap=False, criterion=\"entropy\", max_features=0.6000000000000001, min_samples_leaf=4, min_samples_split=14, n_estimators=100)),\n",
    "    GaussianNB()\n",
    ")\n",
    "\n",
    "exported_pipeline2.fit(training_features, training_target)\n",
    "results = exported_pipeline2.predict(testing_features)"
   ]
  },
  {
   "cell_type": "code",
   "execution_count": 39,
   "metadata": {},
   "outputs": [
    {
     "name": "stdout",
     "output_type": "stream",
     "text": [
      "0.771545827633379\n",
      "[[156  49   0]\n",
      " [ 60 365  48]\n",
      " [  0  10  43]]\n",
      "0.7813221849159734\n",
      "0.7777229176203722\n"
     ]
    }
   ],
   "source": [
    "print(accuracy_score(testing_target,results))\n",
    "print(confusion_matrix(testing_target,results))\n",
    "print(balanced_accuracy_score(testing_target,results))\n",
    "print(f1_score(testing_target,results, average='weighted'))"
   ]
  },
  {
   "cell_type": "code",
   "execution_count": 40,
   "metadata": {},
   "outputs": [
    {
     "name": "stdout",
     "output_type": "stream",
     "text": [
      "              precision    recall  f1-score   support\n",
      "\n",
      "           0       0.72      0.76      0.74       205\n",
      "           1       0.86      0.77      0.81       473\n",
      "           2       0.47      0.81      0.60        53\n",
      "\n",
      "    accuracy                           0.77       731\n",
      "   macro avg       0.69      0.78      0.72       731\n",
      "weighted avg       0.79      0.77      0.78       731\n",
      "\n"
     ]
    }
   ],
   "source": [
    "print(classification_report(testing_target,results))"
   ]
  },
  {
   "cell_type": "markdown",
   "metadata": {},
   "source": [
    "## Predictions for 10.02.2022"
   ]
  },
  {
   "cell_type": "code",
   "execution_count": 41,
   "metadata": {},
   "outputs": [],
   "source": [
    "x_today = np.array([6.6, 86, 4.1, 18, 1024, 98, 12.5, 2, 0,0,1,0,1,2,1])"
   ]
  },
  {
   "cell_type": "code",
   "execution_count": 42,
   "metadata": {},
   "outputs": [
    {
     "name": "stderr",
     "output_type": "stream",
     "text": [
      "C:\\Users\\radek\\anaconda3\\lib\\site-packages\\sklearn\\base.py:445: UserWarning: X does not have valid feature names, but ExtraTreesClassifier was fitted with feature names\n",
      "  warnings.warn(\n",
      "C:\\Users\\radek\\anaconda3\\lib\\site-packages\\sklearn\\base.py:445: UserWarning: X does not have valid feature names, but ExtraTreesClassifier was fitted with feature names\n",
      "  warnings.warn(\n"
     ]
    },
    {
     "data": {
      "text/plain": [
       "array([1], dtype=int64)"
      ]
     },
     "execution_count": 42,
     "metadata": {},
     "output_type": "execute_result"
    }
   ],
   "source": [
    "exported_pipeline.predict(x_today.reshape(1,-1))"
   ]
  },
  {
   "cell_type": "markdown",
   "metadata": {},
   "source": [
    "## Unsupervised Learning"
   ]
  },
  {
   "cell_type": "code",
   "execution_count": 43,
   "metadata": {},
   "outputs": [],
   "source": [
    "def unsupervised_metrics(X, y_true, y_pred):\n",
    "\tprint(\"Silhouette Coefficient is equal to:\", (silhouette_score(X,y_pred)))\n",
    "\tprint(\"Variance Ratio Crterion is equal to:\", (calinski_harabasz_score(X, y_pred)))\n",
    "\tprint(\"Adjusted mutual Information is equal to:\", (adjusted_mutual_info_score(y_true,y_pred)))\n",
    "\tprint(\"Completeness is equal to:\", (completeness_score(y_true,y_pred)))\n",
    "\tprint(\"Homogeneity is equal to:\", (homogeneity_score(y_true,y_pred)))\n",
    "\tprint(\"Adjusted Rand Index is equal to:\", (adjusted_rand_score(y_true,y_pred)))\n",
    "\tprint(\"Fowlkes Mallow Scorex is equal to:\",(fowlkes_mallows_score(y_true,y_pred)))"
   ]
  },
  {
   "cell_type": "markdown",
   "metadata": {},
   "source": [
    "Data"
   ]
  },
  {
   "cell_type": "code",
   "execution_count": 44,
   "metadata": {},
   "outputs": [],
   "source": [
    "data_uml = paris_ml.drop(columns='target')"
   ]
  },
  {
   "cell_type": "code",
   "execution_count": 45,
   "metadata": {},
   "outputs": [
    {
     "data": {
      "text/html": [
       "<div>\n",
       "<style scoped>\n",
       "    .dataframe tbody tr th:only-of-type {\n",
       "        vertical-align: middle;\n",
       "    }\n",
       "\n",
       "    .dataframe tbody tr th {\n",
       "        vertical-align: top;\n",
       "    }\n",
       "\n",
       "    .dataframe thead th {\n",
       "        text-align: right;\n",
       "    }\n",
       "</style>\n",
       "<table border=\"1\" class=\"dataframe\">\n",
       "  <thead>\n",
       "    <tr style=\"text-align: right;\">\n",
       "      <th></th>\n",
       "      <th>temp</th>\n",
       "      <th>humidity</th>\n",
       "      <th>precip</th>\n",
       "      <th>windspeed</th>\n",
       "      <th>pressure</th>\n",
       "      <th>cloudcover</th>\n",
       "      <th>visibility</th>\n",
       "      <th>uvindex</th>\n",
       "      <th>Clear</th>\n",
       "      <th>Partially cloudy</th>\n",
       "      <th>Rain</th>\n",
       "      <th>Snow</th>\n",
       "      <th>Overcast</th>\n",
       "      <th>month</th>\n",
       "      <th>day_of_week</th>\n",
       "    </tr>\n",
       "  </thead>\n",
       "  <tbody>\n",
       "    <tr>\n",
       "      <th>0</th>\n",
       "      <td>8.4</td>\n",
       "      <td>85.06</td>\n",
       "      <td>1.82</td>\n",
       "      <td>28.9</td>\n",
       "      <td>1006.1</td>\n",
       "      <td>26.7</td>\n",
       "      <td>24.8</td>\n",
       "      <td>0.0</td>\n",
       "      <td>0</td>\n",
       "      <td>1</td>\n",
       "      <td>1</td>\n",
       "      <td>0</td>\n",
       "      <td>0</td>\n",
       "      <td>1</td>\n",
       "      <td>2</td>\n",
       "    </tr>\n",
       "    <tr>\n",
       "      <th>1</th>\n",
       "      <td>9.9</td>\n",
       "      <td>81.63</td>\n",
       "      <td>4.96</td>\n",
       "      <td>29.2</td>\n",
       "      <td>1001.7</td>\n",
       "      <td>19.7</td>\n",
       "      <td>24.3</td>\n",
       "      <td>0.0</td>\n",
       "      <td>0</td>\n",
       "      <td>0</td>\n",
       "      <td>1</td>\n",
       "      <td>0</td>\n",
       "      <td>0</td>\n",
       "      <td>1</td>\n",
       "      <td>3</td>\n",
       "    </tr>\n",
       "    <tr>\n",
       "      <th>2</th>\n",
       "      <td>11.0</td>\n",
       "      <td>76.53</td>\n",
       "      <td>0.14</td>\n",
       "      <td>29.2</td>\n",
       "      <td>1006.0</td>\n",
       "      <td>20.1</td>\n",
       "      <td>20.4</td>\n",
       "      <td>0.0</td>\n",
       "      <td>0</td>\n",
       "      <td>1</td>\n",
       "      <td>1</td>\n",
       "      <td>0</td>\n",
       "      <td>0</td>\n",
       "      <td>1</td>\n",
       "      <td>4</td>\n",
       "    </tr>\n",
       "    <tr>\n",
       "      <th>3</th>\n",
       "      <td>9.1</td>\n",
       "      <td>80.53</td>\n",
       "      <td>0.67</td>\n",
       "      <td>21.5</td>\n",
       "      <td>1001.5</td>\n",
       "      <td>22.2</td>\n",
       "      <td>21.6</td>\n",
       "      <td>0.0</td>\n",
       "      <td>0</td>\n",
       "      <td>1</td>\n",
       "      <td>1</td>\n",
       "      <td>0</td>\n",
       "      <td>0</td>\n",
       "      <td>1</td>\n",
       "      <td>5</td>\n",
       "    </tr>\n",
       "    <tr>\n",
       "      <th>4</th>\n",
       "      <td>6.9</td>\n",
       "      <td>82.81</td>\n",
       "      <td>1.25</td>\n",
       "      <td>22.8</td>\n",
       "      <td>1007.5</td>\n",
       "      <td>22.8</td>\n",
       "      <td>24.0</td>\n",
       "      <td>0.0</td>\n",
       "      <td>0</td>\n",
       "      <td>1</td>\n",
       "      <td>1</td>\n",
       "      <td>0</td>\n",
       "      <td>0</td>\n",
       "      <td>1</td>\n",
       "      <td>6</td>\n",
       "    </tr>\n",
       "  </tbody>\n",
       "</table>\n",
       "</div>"
      ],
      "text/plain": [
       "   temp  humidity  precip  windspeed  pressure  cloudcover  visibility  \\\n",
       "0   8.4     85.06    1.82       28.9    1006.1        26.7        24.8   \n",
       "1   9.9     81.63    4.96       29.2    1001.7        19.7        24.3   \n",
       "2  11.0     76.53    0.14       29.2    1006.0        20.1        20.4   \n",
       "3   9.1     80.53    0.67       21.5    1001.5        22.2        21.6   \n",
       "4   6.9     82.81    1.25       22.8    1007.5        22.8        24.0   \n",
       "\n",
       "   uvindex  Clear  Partially cloudy  Rain  Snow  Overcast  month  day_of_week  \n",
       "0      0.0      0                 1     1     0         0      1            2  \n",
       "1      0.0      0                 0     1     0         0      1            3  \n",
       "2      0.0      0                 1     1     0         0      1            4  \n",
       "3      0.0      0                 1     1     0         0      1            5  \n",
       "4      0.0      0                 1     1     0         0      1            6  "
      ]
     },
     "execution_count": 45,
     "metadata": {},
     "output_type": "execute_result"
    }
   ],
   "source": [
    "data_uml.head()"
   ]
  },
  {
   "cell_type": "markdown",
   "metadata": {},
   "source": [
    "### Elbow method"
   ]
  },
  {
   "cell_type": "code",
   "execution_count": 46,
   "metadata": {},
   "outputs": [
    {
     "data": {
      "image/png": "[encoded data removed]",
      "text/plain": [
       "<Figure size 576x396 with 2 Axes>"
      ]
     },
     "metadata": {},
     "output_type": "display_data"
    },
    {
     "data": {
      "text/plain": [
       "<AxesSubplot:title={'center':'Distortion Score Elbow for KMeans Clustering'}, xlabel='k', ylabel='distortion score'>"
      ]
     },
     "execution_count": 46,
     "metadata": {},
     "output_type": "execute_result"
    }
   ],
   "source": [
    "model = KMeans()\n",
    "visualizer = KElbowVisualizer(estimator = model, k = (2,10))\n",
    "visualizer.fit(data_uml)\n",
    "visualizer.poof()"
   ]
  },
  {
   "cell_type": "code",
   "execution_count": 47,
   "metadata": {},
   "outputs": [
    {
     "data": {
      "image/png": "[encoded data removed]",
      "text/plain": [
       "<Figure size 576x396 with 2 Axes>"
      ]
     },
     "metadata": {},
     "output_type": "display_data"
    },
    {
     "data": {
      "text/plain": [
       "<AxesSubplot:title={'center':'Distortion Score Elbow for AgglomerativeClustering Clustering'}, xlabel='k', ylabel='distortion score'>"
      ]
     },
     "execution_count": 47,
     "metadata": {},
     "output_type": "execute_result"
    }
   ],
   "source": [
    "model = AgglomerativeClustering()\n",
    "visualizer = KElbowVisualizer(estimator = model, k = (2,10))\n",
    "visualizer.fit(data_uml)\n",
    "visualizer.poof()"
   ]
  },
  {
   "cell_type": "markdown",
   "metadata": {},
   "source": [
    "### Models"
   ]
  },
  {
   "cell_type": "markdown",
   "metadata": {},
   "source": [
    "#### KMeans"
   ]
  },
  {
   "cell_type": "code",
   "execution_count": 50,
   "metadata": {},
   "outputs": [
    {
     "data": {
      "text/plain": [
       "array([2, 2, 2, ..., 2, 0, 0])"
      ]
     },
     "execution_count": 50,
     "metadata": {},
     "output_type": "execute_result"
    }
   ],
   "source": [
    "kmeans = KMeans(n_clusters=3, max_iter=100)\n",
    "kmeans.fit(data_uml)\n",
    "y_kmeans = kmeans.predict(data_uml)\n",
    "y_kmeans\n"
   ]
  },
  {
   "cell_type": "code",
   "execution_count": 51,
   "metadata": {},
   "outputs": [
    {
     "name": "stdout",
     "output_type": "stream",
     "text": [
      "Silhouette Coefficient is equal to: 0.24171115145749905\n",
      "Variance Ratio Crterion is equal to: 1145.4031590575687\n",
      "Adjusted mutual Information is equal to: 0.051093463946734516\n",
      "Completeness is equal to: 0.04560578292461093\n",
      "Homogeneity is equal to: 0.05986464904291574\n",
      "Adjusted Rand Index is equal to: 0.03233585816347375\n",
      "Fowlkes Mallow Scorex is equal to: 0.4311655731011506\n"
     ]
    }
   ],
   "source": [
    "unsupervised_metrics(X=data_uml, y_true=paris_ml.target, y_pred=y_kmeans)"
   ]
  },
  {
   "cell_type": "code",
   "execution_count": 52,
   "metadata": {},
   "outputs": [
    {
     "name": "stdout",
     "output_type": "stream",
     "text": [
      "Silhouette Coefficient is equal to: 0.19245925256627774\n",
      "Variance Ratio Crterion is equal to: 975.7080589817448\n",
      "Adjusted mutual Information is equal to: 0.07164618435972983\n",
      "Completeness is equal to: 0.05807829435698526\n",
      "Homogeneity is equal to: 0.09648933688924693\n",
      "Adjusted Rand Index is equal to: 0.03227167181753269\n",
      "Fowlkes Mallow Scorex is equal to: 0.3783166749836848\n"
     ]
    }
   ],
   "source": [
    "kmeans = KMeans(n_clusters=4, max_iter=100)\n",
    "kmeans.fit(data_uml)\n",
    "y_kmeans = kmeans.predict(data_uml)\n",
    "y_kmeans\n",
    "unsupervised_metrics(X=data_uml, y_true=paris_ml.target, y_pred=y_kmeans)\n"
   ]
  },
  {
   "cell_type": "code",
   "execution_count": null,
   "metadata": {},
   "outputs": [],
   "source": [
    "# sns.set_style('darkgrid')\n",
    "# sns.scatterplot(data=data_uml, x='temp', y='Lat', hue='labels_kmeans', palette='RdYlBu')\n",
    "# plt.show()"
   ]
  },
  {
   "cell_type": "markdown",
   "metadata": {},
   "source": [
    "#### Agglomerative Clustering"
   ]
  },
  {
   "cell_type": "code",
   "execution_count": null,
   "metadata": {},
   "outputs": [],
   "source": [
    "cluster_ag = AgglomerativeClustering(n_clusters=3, affinity='euclidean', linkage='ward')  \n",
    "y_ag = cluster_ag.fit_predict(data_uml)"
   ]
  },
  {
   "cell_type": "code",
   "execution_count": null,
   "metadata": {},
   "outputs": [
    {
     "name": "stdout",
     "output_type": "stream",
     "text": [
      "Silhouette Coefficient is equal to: 0.1106143869386786\n",
      "Variance Ratio Crterion is equal to: 601.7619066776825\n",
      "Adjusted mutual Information is equal to: 0.039639554793656016\n",
      "Completeness is equal to: 0.030874402372098878\n",
      "Homogeneity is equal to: 0.06096340289135434\n",
      "Adjusted Rand Index is equal to: 0.010223913342330604\n",
      "Fowlkes Mallow Scorex is equal to: 0.3260930848557058\n"
     ]
    }
   ],
   "source": [
    "unsupervised_metrics(X=data_uml, y_true=paris_ml.target, y_pred=y_ag)"
   ]
  },
  {
   "cell_type": "markdown",
   "metadata": {},
   "source": [
    "DBSCAN"
   ]
  },
  {
   "cell_type": "code",
   "execution_count": null,
   "metadata": {},
   "outputs": [
    {
     "data": {
      "text/plain": [
       "{-1}"
      ]
     },
     "execution_count": 126,
     "metadata": {},
     "output_type": "execute_result"
    }
   ],
   "source": [
    "dbscan = DBSCAN()\n",
    "dbscan.fit(data_uml)\n",
    "y_dbscan = dbscan.fit_predict(data_uml)\n",
    "set(y_dbscan)\n"
   ]
  },
  {
   "cell_type": "code",
   "execution_count": null,
   "metadata": {},
   "outputs": [],
   "source": [
    "unsupervised_metrics(X=data_uml, y_true=paris_ml.target, y_pred=y_dbscan)"
   ]
  }
 ],
 "metadata": {
  "interpreter": {
   "hash": "4ad77c0e6c5017b8cf10e15e7abcf3f93295efc1a703ed33be6cc92cf9d70fb6"
  },
  "kernelspec": {
   "display_name": "Python 3.8.12 ('base')",
   "language": "python",
   "name": "python3"
  },
  "language_info": {
   "codemirror_mode": {
    "name": "ipython",
    "version": 3
   },
   "file_extension": ".py",
   "mimetype": "text/x-python",
   "name": "python",
   "nbconvert_exporter": "python",
   "pygments_lexer": "ipython3",
   "version": "3.8.12"
  },
  "orig_nbformat": 4
 },
 "nbformat": 4,
 "nbformat_minor": 2
}
