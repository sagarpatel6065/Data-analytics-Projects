{
 "cells": [
  {
   "cell_type": "code",
   "execution_count": 1,
   "metadata": {},
   "outputs": [],
   "source": [
    "import pandas as pd \n",
    "import numpy as np \n",
    "import sys\n",
    "\n",
    "sys.path.append(r\"C:\\Users\\radek\\Git-Hub\\Final_Project_Ironhack\\00 - Utils\")\n",
    "import db_utils as db"
   ]
  },
  {
   "cell_type": "code",
   "execution_count": 2,
   "metadata": {},
   "outputs": [],
   "source": [
    "sql= '''SELECT \n",
    "* \n",
    "FROM weather w\n",
    "LEFT JOIN airquality_tmp_v2 a\n",
    "ON w.datetime = a.Date AND w.address = a.City\n",
    "WHERE w.address='Paris';'''"
   ]
  },
  {
   "cell_type": "code",
   "execution_count": 4,
   "metadata": {},
   "outputs": [],
   "source": [
    "paris = pd.read_sql(sql, db.engine)"
   ]
  },
  {
   "cell_type": "code",
   "execution_count": 5,
   "metadata": {},
   "outputs": [
    {
     "data": {
      "text/html": [
       "<div>\n",
       "<style scoped>\n",
       "    .dataframe tbody tr th:only-of-type {\n",
       "        vertical-align: middle;\n",
       "    }\n",
       "\n",
       "    .dataframe tbody tr th {\n",
       "        vertical-align: top;\n",
       "    }\n",
       "\n",
       "    .dataframe thead th {\n",
       "        text-align: right;\n",
       "    }\n",
       "</style>\n",
       "<table border=\"1\" class=\"dataframe\">\n",
       "  <thead>\n",
       "    <tr style=\"text-align: right;\">\n",
       "      <th></th>\n",
       "      <th>latitude</th>\n",
       "      <th>longitude</th>\n",
       "      <th>address</th>\n",
       "      <th>datetime</th>\n",
       "      <th>datetimeEpoch</th>\n",
       "      <th>tempmax</th>\n",
       "      <th>tempmin</th>\n",
       "      <th>temp</th>\n",
       "      <th>humidity</th>\n",
       "      <th>precip</th>\n",
       "      <th>...</th>\n",
       "      <th>conditions</th>\n",
       "      <th>description</th>\n",
       "      <th>date</th>\n",
       "      <th>pm25</th>\n",
       "      <th>pm10</th>\n",
       "      <th>o3</th>\n",
       "      <th>no2</th>\n",
       "      <th>so2</th>\n",
       "      <th>co</th>\n",
       "      <th>City</th>\n",
       "    </tr>\n",
       "  </thead>\n",
       "  <tbody>\n",
       "    <tr>\n",
       "      <th>0</th>\n",
       "      <td>48.8572</td>\n",
       "      <td>2.34141</td>\n",
       "      <td>Paris</td>\n",
       "      <td>2014-01-01</td>\n",
       "      <td>1388530800</td>\n",
       "      <td>10.5</td>\n",
       "      <td>6.7</td>\n",
       "      <td>8.4</td>\n",
       "      <td>85.06</td>\n",
       "      <td>1.82</td>\n",
       "      <td>...</td>\n",
       "      <td>Rain, Partially cloudy</td>\n",
       "      <td>Partly cloudy throughout the day with rain.</td>\n",
       "      <td>2014-01-01</td>\n",
       "      <td>43.0</td>\n",
       "      <td>30.0</td>\n",
       "      <td>22.0</td>\n",
       "      <td>42.0</td>\n",
       "      <td>NaN</td>\n",
       "      <td>4.0</td>\n",
       "      <td>Paris</td>\n",
       "    </tr>\n",
       "    <tr>\n",
       "      <th>1</th>\n",
       "      <td>48.8572</td>\n",
       "      <td>2.34141</td>\n",
       "      <td>Paris</td>\n",
       "      <td>2014-01-02</td>\n",
       "      <td>1388617200</td>\n",
       "      <td>11.1</td>\n",
       "      <td>8.5</td>\n",
       "      <td>9.9</td>\n",
       "      <td>81.63</td>\n",
       "      <td>4.96</td>\n",
       "      <td>...</td>\n",
       "      <td>Rain</td>\n",
       "      <td>Clear conditions throughout the day with rain ...</td>\n",
       "      <td>2014-01-02</td>\n",
       "      <td>53.0</td>\n",
       "      <td>33.0</td>\n",
       "      <td>22.0</td>\n",
       "      <td>34.0</td>\n",
       "      <td>NaN</td>\n",
       "      <td>2.0</td>\n",
       "      <td>Paris</td>\n",
       "    </tr>\n",
       "  </tbody>\n",
       "</table>\n",
       "<p>2 rows × 31 columns</p>\n",
       "</div>"
      ],
      "text/plain": [
       "   latitude  longitude address   datetime  datetimeEpoch  tempmax  tempmin  \\\n",
       "0   48.8572    2.34141   Paris 2014-01-01     1388530800     10.5      6.7   \n",
       "1   48.8572    2.34141   Paris 2014-01-02     1388617200     11.1      8.5   \n",
       "\n",
       "   temp  humidity  precip  ...              conditions  \\\n",
       "0   8.4     85.06    1.82  ...  Rain, Partially cloudy   \n",
       "1   9.9     81.63    4.96  ...                    Rain   \n",
       "\n",
       "                                         description       date  pm25  pm10  \\\n",
       "0        Partly cloudy throughout the day with rain. 2014-01-01  43.0  30.0   \n",
       "1  Clear conditions throughout the day with rain ... 2014-01-02  53.0  33.0   \n",
       "\n",
       "     o3   no2  so2   co   City  \n",
       "0  22.0  42.0  NaN  4.0  Paris  \n",
       "1  22.0  34.0  NaN  2.0  Paris  \n",
       "\n",
       "[2 rows x 31 columns]"
      ]
     },
     "execution_count": 5,
     "metadata": {},
     "output_type": "execute_result"
    }
   ],
   "source": [
    "paris.head(2)"
   ]
  },
  {
   "cell_type": "code",
   "execution_count": 20,
   "metadata": {},
   "outputs": [],
   "source": [
    "paris.to_csv(r'C:\\Users\\radek\\Git-Hub\\Final_Project_Ironhack\\04 - Data Cleaning\\Paris.csv', index_label=False)\n"
   ]
  },
  {
   "cell_type": "code",
   "execution_count": null,
   "metadata": {},
   "outputs": [],
   "source": []
  }
 ],
 "metadata": {
  "interpreter": {
   "hash": "4ad77c0e6c5017b8cf10e15e7abcf3f93295efc1a703ed33be6cc92cf9d70fb6"
  },
  "kernelspec": {
   "display_name": "Python 3.8.12 ('base')",
   "language": "python",
   "name": "python3"
  },
  "language_info": {
   "codemirror_mode": {
    "name": "ipython",
    "version": 3
   },
   "file_extension": ".py",
   "mimetype": "text/x-python",
   "name": "python",
   "nbconvert_exporter": "python",
   "pygments_lexer": "ipython3",
   "version": "3.8.12"
  },
  "orig_nbformat": 4
 },
 "nbformat": 4,
 "nbformat_minor": 2
}
