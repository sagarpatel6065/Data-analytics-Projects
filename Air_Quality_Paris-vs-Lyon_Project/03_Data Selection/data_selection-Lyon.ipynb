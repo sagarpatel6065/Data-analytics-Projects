{
 "cells": [
  {
   "cell_type": "code",
   "execution_count": 1,
   "metadata": {},
   "outputs": [],
   "source": [
    "import pandas as pd \n",
    "import numpy as np \n",
    "import sys\n",
    "\n",
    "sys.path.append(r\"C:\\Users\\radek\\Git-Hub\\Final_Project_Ironhack\\00 - Utils\")\n",
    "import db_utils as db"
   ]
  },
  {
   "cell_type": "code",
   "execution_count": 24,
   "metadata": {},
   "outputs": [],
   "source": [
    "sql= '''SELECT \n",
    "* \n",
    "FROM weather_tmp w\n",
    "LEFT JOIN airquality_tmp a\n",
    "ON w.datetime = a.Date AND w.address = a.City\n",
    "WHERE w.address='Lyon';'''"
   ]
  },
  {
   "cell_type": "code",
   "execution_count": 25,
   "metadata": {},
   "outputs": [],
   "source": [
    "lyon = pd.read_sql(sql, db.engine)"
   ]
  },
  {
   "cell_type": "code",
   "execution_count": 26,
   "metadata": {},
   "outputs": [
    {
     "data": {
      "text/html": [
       "<div>\n",
       "<style scoped>\n",
       "    .dataframe tbody tr th:only-of-type {\n",
       "        vertical-align: middle;\n",
       "    }\n",
       "\n",
       "    .dataframe tbody tr th {\n",
       "        vertical-align: top;\n",
       "    }\n",
       "\n",
       "    .dataframe thead th {\n",
       "        text-align: right;\n",
       "    }\n",
       "</style>\n",
       "<table border=\"1\" class=\"dataframe\">\n",
       "  <thead>\n",
       "    <tr style=\"text-align: right;\">\n",
       "      <th></th>\n",
       "      <th>latitude</th>\n",
       "      <th>longitude</th>\n",
       "      <th>address</th>\n",
       "      <th>datetime</th>\n",
       "      <th>datetimeEpoch</th>\n",
       "      <th>tempmax</th>\n",
       "      <th>tempmin</th>\n",
       "      <th>temp</th>\n",
       "      <th>humidity</th>\n",
       "      <th>precip</th>\n",
       "      <th>...</th>\n",
       "      <th>description</th>\n",
       "      <th>Date</th>\n",
       "      <th>Country</th>\n",
       "      <th>City</th>\n",
       "      <th>co</th>\n",
       "      <th>no2</th>\n",
       "      <th>o3</th>\n",
       "      <th>pm10</th>\n",
       "      <th>pm25</th>\n",
       "      <th>so2</th>\n",
       "    </tr>\n",
       "  </thead>\n",
       "  <tbody>\n",
       "    <tr>\n",
       "      <th>0</th>\n",
       "      <td>45.7592</td>\n",
       "      <td>4.82966</td>\n",
       "      <td>Lyon</td>\n",
       "      <td>2014-12-29</td>\n",
       "      <td>1419807600</td>\n",
       "      <td>0.7</td>\n",
       "      <td>-5.0</td>\n",
       "      <td>-2.2</td>\n",
       "      <td>67.21</td>\n",
       "      <td>0.2</td>\n",
       "      <td>...</td>\n",
       "      <td>Becoming cloudy in the afternoon with late aft...</td>\n",
       "      <td>2014-12-29</td>\n",
       "      <td>FR</td>\n",
       "      <td>Lyon</td>\n",
       "      <td>2.8</td>\n",
       "      <td>10.1</td>\n",
       "      <td>13.9</td>\n",
       "      <td>18.0</td>\n",
       "      <td>59.0</td>\n",
       "      <td>1.6</td>\n",
       "    </tr>\n",
       "    <tr>\n",
       "      <th>1</th>\n",
       "      <td>45.7592</td>\n",
       "      <td>4.82966</td>\n",
       "      <td>Lyon</td>\n",
       "      <td>2014-12-29</td>\n",
       "      <td>1419807600</td>\n",
       "      <td>0.7</td>\n",
       "      <td>-5.0</td>\n",
       "      <td>-2.2</td>\n",
       "      <td>67.21</td>\n",
       "      <td>0.2</td>\n",
       "      <td>...</td>\n",
       "      <td>Becoming cloudy in the afternoon with late aft...</td>\n",
       "      <td>2014-12-29</td>\n",
       "      <td>FR</td>\n",
       "      <td>Lyon</td>\n",
       "      <td>2.8</td>\n",
       "      <td>10.1</td>\n",
       "      <td>13.9</td>\n",
       "      <td>18.0</td>\n",
       "      <td>59.0</td>\n",
       "      <td>1.6</td>\n",
       "    </tr>\n",
       "  </tbody>\n",
       "</table>\n",
       "<p>2 rows × 32 columns</p>\n",
       "</div>"
      ],
      "text/plain": [
       "   latitude  longitude address   datetime  datetimeEpoch  tempmax  tempmin  \\\n",
       "0   45.7592    4.82966    Lyon 2014-12-29     1419807600      0.7     -5.0   \n",
       "1   45.7592    4.82966    Lyon 2014-12-29     1419807600      0.7     -5.0   \n",
       "\n",
       "   temp  humidity  precip  ...  \\\n",
       "0  -2.2     67.21     0.2  ...   \n",
       "1  -2.2     67.21     0.2  ...   \n",
       "\n",
       "                                         description        Date  Country  \\\n",
       "0  Becoming cloudy in the afternoon with late aft...  2014-12-29       FR   \n",
       "1  Becoming cloudy in the afternoon with late aft...  2014-12-29       FR   \n",
       "\n",
       "   City   co   no2    o3  pm10  pm25  so2  \n",
       "0  Lyon  2.8  10.1  13.9  18.0  59.0  1.6  \n",
       "1  Lyon  2.8  10.1  13.9  18.0  59.0  1.6  \n",
       "\n",
       "[2 rows x 32 columns]"
      ]
     },
     "execution_count": 26,
     "metadata": {},
     "output_type": "execute_result"
    }
   ],
   "source": [
    "lyon.head(2)"
   ]
  },
  {
   "cell_type": "code",
   "execution_count": 23,
   "metadata": {},
   "outputs": [],
   "source": [
    "lyon.to_csv(r'C:\\Users\\radek\\Git-Hub\\Final_Project_Ironhack\\04 - Data Cleaning\\Lyon.csv', index_label=False)\n"
   ]
  },
  {
   "cell_type": "code",
   "execution_count": 27,
   "metadata": {},
   "outputs": [],
   "source": [
    "lyon['year_month']=lyon['datetime'].dt.to_period('M')"
   ]
  },
  {
   "cell_type": "code",
   "execution_count": 28,
   "metadata": {},
   "outputs": [
    {
     "data": {
      "text/html": [
       "<div>\n",
       "<style scoped>\n",
       "    .dataframe tbody tr th:only-of-type {\n",
       "        vertical-align: middle;\n",
       "    }\n",
       "\n",
       "    .dataframe tbody tr th {\n",
       "        vertical-align: top;\n",
       "    }\n",
       "\n",
       "    .dataframe thead th {\n",
       "        text-align: right;\n",
       "    }\n",
       "</style>\n",
       "<table border=\"1\" class=\"dataframe\">\n",
       "  <thead>\n",
       "    <tr style=\"text-align: right;\">\n",
       "      <th></th>\n",
       "      <th>latitude</th>\n",
       "      <th>longitude</th>\n",
       "      <th>address</th>\n",
       "      <th>datetime</th>\n",
       "      <th>datetimeEpoch</th>\n",
       "      <th>tempmax</th>\n",
       "      <th>tempmin</th>\n",
       "      <th>temp</th>\n",
       "      <th>humidity</th>\n",
       "      <th>precip</th>\n",
       "      <th>...</th>\n",
       "      <th>Date</th>\n",
       "      <th>Country</th>\n",
       "      <th>City</th>\n",
       "      <th>co</th>\n",
       "      <th>no2</th>\n",
       "      <th>o3</th>\n",
       "      <th>pm10</th>\n",
       "      <th>pm25</th>\n",
       "      <th>so2</th>\n",
       "      <th>year_month</th>\n",
       "    </tr>\n",
       "  </thead>\n",
       "  <tbody>\n",
       "    <tr>\n",
       "      <th>0</th>\n",
       "      <td>45.7592</td>\n",
       "      <td>4.82966</td>\n",
       "      <td>Lyon</td>\n",
       "      <td>2014-12-29</td>\n",
       "      <td>1419807600</td>\n",
       "      <td>0.7</td>\n",
       "      <td>-5.0</td>\n",
       "      <td>-2.2</td>\n",
       "      <td>67.21</td>\n",
       "      <td>0.2</td>\n",
       "      <td>...</td>\n",
       "      <td>2014-12-29</td>\n",
       "      <td>FR</td>\n",
       "      <td>Lyon</td>\n",
       "      <td>2.8</td>\n",
       "      <td>10.1</td>\n",
       "      <td>13.9</td>\n",
       "      <td>18.0</td>\n",
       "      <td>59.0</td>\n",
       "      <td>1.6</td>\n",
       "      <td>2014-12</td>\n",
       "    </tr>\n",
       "    <tr>\n",
       "      <th>1</th>\n",
       "      <td>45.7592</td>\n",
       "      <td>4.82966</td>\n",
       "      <td>Lyon</td>\n",
       "      <td>2014-12-29</td>\n",
       "      <td>1419807600</td>\n",
       "      <td>0.7</td>\n",
       "      <td>-5.0</td>\n",
       "      <td>-2.2</td>\n",
       "      <td>67.21</td>\n",
       "      <td>0.2</td>\n",
       "      <td>...</td>\n",
       "      <td>2014-12-29</td>\n",
       "      <td>FR</td>\n",
       "      <td>Lyon</td>\n",
       "      <td>2.8</td>\n",
       "      <td>10.1</td>\n",
       "      <td>13.9</td>\n",
       "      <td>18.0</td>\n",
       "      <td>59.0</td>\n",
       "      <td>1.6</td>\n",
       "      <td>2014-12</td>\n",
       "    </tr>\n",
       "    <tr>\n",
       "      <th>2</th>\n",
       "      <td>45.7592</td>\n",
       "      <td>4.82966</td>\n",
       "      <td>Lyon</td>\n",
       "      <td>2014-12-30</td>\n",
       "      <td>1419894000</td>\n",
       "      <td>2.7</td>\n",
       "      <td>-1.2</td>\n",
       "      <td>0.9</td>\n",
       "      <td>77.20</td>\n",
       "      <td>0.0</td>\n",
       "      <td>...</td>\n",
       "      <td>2014-12-30</td>\n",
       "      <td>FR</td>\n",
       "      <td>Lyon</td>\n",
       "      <td>2.7</td>\n",
       "      <td>10.1</td>\n",
       "      <td>11.4</td>\n",
       "      <td>23.0</td>\n",
       "      <td>70.0</td>\n",
       "      <td>2.6</td>\n",
       "      <td>2014-12</td>\n",
       "    </tr>\n",
       "    <tr>\n",
       "      <th>3</th>\n",
       "      <td>45.7592</td>\n",
       "      <td>4.82966</td>\n",
       "      <td>Lyon</td>\n",
       "      <td>2014-12-30</td>\n",
       "      <td>1419894000</td>\n",
       "      <td>2.7</td>\n",
       "      <td>-1.2</td>\n",
       "      <td>0.9</td>\n",
       "      <td>77.20</td>\n",
       "      <td>0.0</td>\n",
       "      <td>...</td>\n",
       "      <td>2014-12-30</td>\n",
       "      <td>FR</td>\n",
       "      <td>Lyon</td>\n",
       "      <td>2.7</td>\n",
       "      <td>10.1</td>\n",
       "      <td>11.4</td>\n",
       "      <td>23.0</td>\n",
       "      <td>70.0</td>\n",
       "      <td>2.6</td>\n",
       "      <td>2014-12</td>\n",
       "    </tr>\n",
       "    <tr>\n",
       "      <th>4</th>\n",
       "      <td>45.7592</td>\n",
       "      <td>4.82966</td>\n",
       "      <td>Lyon</td>\n",
       "      <td>2014-12-31</td>\n",
       "      <td>1419980400</td>\n",
       "      <td>3.8</td>\n",
       "      <td>0.2</td>\n",
       "      <td>1.8</td>\n",
       "      <td>71.85</td>\n",
       "      <td>0.0</td>\n",
       "      <td>...</td>\n",
       "      <td>2014-12-31</td>\n",
       "      <td>FR</td>\n",
       "      <td>Lyon</td>\n",
       "      <td>2.5</td>\n",
       "      <td>9.2</td>\n",
       "      <td>16.3</td>\n",
       "      <td>20.0</td>\n",
       "      <td>59.0</td>\n",
       "      <td>5.1</td>\n",
       "      <td>2014-12</td>\n",
       "    </tr>\n",
       "  </tbody>\n",
       "</table>\n",
       "<p>5 rows × 33 columns</p>\n",
       "</div>"
      ],
      "text/plain": [
       "   latitude  longitude address   datetime  datetimeEpoch  tempmax  tempmin  \\\n",
       "0   45.7592    4.82966    Lyon 2014-12-29     1419807600      0.7     -5.0   \n",
       "1   45.7592    4.82966    Lyon 2014-12-29     1419807600      0.7     -5.0   \n",
       "2   45.7592    4.82966    Lyon 2014-12-30     1419894000      2.7     -1.2   \n",
       "3   45.7592    4.82966    Lyon 2014-12-30     1419894000      2.7     -1.2   \n",
       "4   45.7592    4.82966    Lyon 2014-12-31     1419980400      3.8      0.2   \n",
       "\n",
       "   temp  humidity  precip  ...        Date Country  City   co   no2    o3  \\\n",
       "0  -2.2     67.21     0.2  ...  2014-12-29      FR  Lyon  2.8  10.1  13.9   \n",
       "1  -2.2     67.21     0.2  ...  2014-12-29      FR  Lyon  2.8  10.1  13.9   \n",
       "2   0.9     77.20     0.0  ...  2014-12-30      FR  Lyon  2.7  10.1  11.4   \n",
       "3   0.9     77.20     0.0  ...  2014-12-30      FR  Lyon  2.7  10.1  11.4   \n",
       "4   1.8     71.85     0.0  ...  2014-12-31      FR  Lyon  2.5   9.2  16.3   \n",
       "\n",
       "   pm10  pm25  so2  year_month  \n",
       "0  18.0  59.0  1.6     2014-12  \n",
       "1  18.0  59.0  1.6     2014-12  \n",
       "2  23.0  70.0  2.6     2014-12  \n",
       "3  23.0  70.0  2.6     2014-12  \n",
       "4  20.0  59.0  5.1     2014-12  \n",
       "\n",
       "[5 rows x 33 columns]"
      ]
     },
     "execution_count": 28,
     "metadata": {},
     "output_type": "execute_result"
    }
   ],
   "source": [
    "lyon.head()"
   ]
  },
  {
   "cell_type": "code",
   "execution_count": 53,
   "metadata": {},
   "outputs": [
    {
     "data": {
      "text/plain": [
       "31"
      ]
     },
     "execution_count": 53,
     "metadata": {},
     "output_type": "execute_result"
    }
   ],
   "source": [
    "month_05 =lyon[lyon.year_month=='2021-05']\n",
    "month_05 = month_05.drop_duplicates()\n",
    "len(month_05)"
   ]
  },
  {
   "cell_type": "code",
   "execution_count": 54,
   "metadata": {},
   "outputs": [
    {
     "data": {
      "text/plain": [
       "30"
      ]
     },
     "execution_count": 54,
     "metadata": {},
     "output_type": "execute_result"
    }
   ],
   "source": [
    "month_06 =lyon[lyon.year_month=='2021-06']\n",
    "month_06 = month_06.drop_duplicates()\n",
    "len(month_06)"
   ]
  },
  {
   "cell_type": "code",
   "execution_count": 55,
   "metadata": {},
   "outputs": [
    {
     "data": {
      "text/plain": [
       "31"
      ]
     },
     "execution_count": 55,
     "metadata": {},
     "output_type": "execute_result"
    }
   ],
   "source": [
    "month_07 =lyon[lyon.year_month=='2021-07']\n",
    "month_07 = month_07.drop_duplicates()\n",
    "len(month_07)"
   ]
  },
  {
   "cell_type": "code",
   "execution_count": 56,
   "metadata": {},
   "outputs": [
    {
     "data": {
      "text/plain": [
       "31"
      ]
     },
     "execution_count": 56,
     "metadata": {},
     "output_type": "execute_result"
    }
   ],
   "source": [
    "month_08 =lyon[lyon.year_month=='2021-08']\n",
    "month_08 = month_08.drop_duplicates()\n",
    "len(month_08)"
   ]
  },
  {
   "cell_type": "code",
   "execution_count": 57,
   "metadata": {},
   "outputs": [
    {
     "data": {
      "text/plain": [
       "30"
      ]
     },
     "execution_count": 57,
     "metadata": {},
     "output_type": "execute_result"
    }
   ],
   "source": [
    "month_09 =lyon[lyon.year_month=='2021-09']\n",
    "month_09 = month_09.drop_duplicates()\n",
    "len(month_09)"
   ]
  },
  {
   "cell_type": "code",
   "execution_count": 71,
   "metadata": {},
   "outputs": [
    {
     "data": {
      "text/plain": [
       "31"
      ]
     },
     "execution_count": 71,
     "metadata": {},
     "output_type": "execute_result"
    }
   ],
   "source": [
    "month_10 =lyon[lyon.year_month=='2021-10']\n",
    "month_10 = month_10.drop_duplicates()\n",
    "len(month_10)\n"
   ]
  },
  {
   "cell_type": "code",
   "execution_count": 72,
   "metadata": {},
   "outputs": [],
   "source": [
    "missing_pm = pd.concat([month_05,month_06,month_07,month_08,month_09,month_10])"
   ]
  },
  {
   "cell_type": "code",
   "execution_count": 73,
   "metadata": {},
   "outputs": [
    {
     "data": {
      "text/plain": [
       "(184, 33)"
      ]
     },
     "execution_count": 73,
     "metadata": {},
     "output_type": "execute_result"
    }
   ],
   "source": [
    "missing_pm.shape"
   ]
  },
  {
   "cell_type": "code",
   "execution_count": 67,
   "metadata": {},
   "outputs": [],
   "source": [
    "missing_pm = missing_pm[['datetime', 'pm25']]"
   ]
  },
  {
   "cell_type": "code",
   "execution_count": 70,
   "metadata": {},
   "outputs": [],
   "source": [
    "missing_pm.to_csv(r'C:\\Users\\radek\\Git-Hub\\Final_Project_Ironhack\\04 - Data Cleaning\\04-1- Data Cleaniang TS\\miss25.csv', index_label=False)"
   ]
  },
  {
   "cell_type": "code",
   "execution_count": null,
   "metadata": {},
   "outputs": [],
   "source": []
  }
 ],
 "metadata": {
  "interpreter": {
   "hash": "4ad77c0e6c5017b8cf10e15e7abcf3f93295efc1a703ed33be6cc92cf9d70fb6"
  },
  "kernelspec": {
   "display_name": "Python 3.8.12 ('base')",
   "language": "python",
   "name": "python3"
  },
  "language_info": {
   "codemirror_mode": {
    "name": "ipython",
    "version": 3
   },
   "file_extension": ".py",
   "mimetype": "text/x-python",
   "name": "python",
   "nbconvert_exporter": "python",
   "pygments_lexer": "ipython3",
   "version": "3.8.12"
  },
  "orig_nbformat": 4
 },
 "nbformat": 4,
 "nbformat_minor": 2
}
