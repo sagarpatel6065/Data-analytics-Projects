{
 "cells": [
  {
   "cell_type": "code",
   "execution_count": 1,
   "id": "6056c2e8",
   "metadata": {},
   "outputs": [],
   "source": [
    "import pandas as pd\n",
    "import datetime"
   ]
  },
  {
   "cell_type": "markdown",
   "id": "e6187536",
   "metadata": {},
   "source": [
    "This notebook is preliminary ETL for data from the weather API. <br>\n",
    "We work with data for Union Square in San Francisco; (37.7879, -122.4079) for API.  <br>\n",
    "<b> Beware, returned data says has coordinates (38, -122.75) which is 30 miles north in Point Reyes! </b> <br>\n",
    "We pulled data from 2000-01-01 to 2020-12-31. <br>\n",
    "We took temperature, humidity, rainfal, snowfal, cloudcover, windspeed, and wind-direction hourly. <br>\n",
    "<hr> \n",
    "We will also take max temp, min temp, rain, snow, and percip-hours daily. <br>\n",
    "These will need separate and different dataframe processing. <br>\n",
    "We are taking in data via downloaded csv, and we need separate daily/hourly csv files because different column headers, numbers of columns.<br>\n",
    "<hr>\n",
    "We chose ISO format for date/time; and USian (not-metric) units for the rest.<br>\n"
   ]
  },
  {
   "cell_type": "markdown",
   "id": "284b1148",
   "metadata": {},
   "source": [
    "This run is with \"GMT +0\" time zone; in the future, we will need to specify the timezone appropriate to the location.<br>\n",
    "API allows \"GMT +0\" time zone for hourly data, but not for daily data - says \"error, time zone must be specified\" -- except does time zone even matter for dailies? I think not for us, except for reproducibility.<br>\n",
    "If we're stuck with something other than \"GMT +0\", we could get strange behaviour whenif daylight savings time kicks in; can check for that by requesting sunrise time data."
   ]
  },
  {
   "cell_type": "markdown",
   "id": "32ba484a",
   "metadata": {},
   "source": [
    "## Hourly data: load, clean, pivot for joining with daily."
   ]
  },
  {
   "cell_type": "code",
   "execution_count": 2,
   "id": "01c0ed8e",
   "metadata": {
    "scrolled": true
   },
   "outputs": [
    {
     "data": {
      "text/html": [
       "<div>\n",
       "<style scoped>\n",
       "    .dataframe tbody tr th:only-of-type {\n",
       "        vertical-align: middle;\n",
       "    }\n",
       "\n",
       "    .dataframe tbody tr th {\n",
       "        vertical-align: top;\n",
       "    }\n",
       "\n",
       "    .dataframe thead th {\n",
       "        text-align: right;\n",
       "    }\n",
       "</style>\n",
       "<table border=\"1\" class=\"dataframe\">\n",
       "  <thead>\n",
       "    <tr style=\"text-align: right;\">\n",
       "      <th></th>\n",
       "      <th>time</th>\n",
       "      <th>temperature_2m_degF</th>\n",
       "      <th>relativehumidity_2m_perc</th>\n",
       "      <th>rain_inch</th>\n",
       "      <th>snowfall_cm</th>\n",
       "      <th>cloudcover_perc</th>\n",
       "      <th>windspeed_10m_mph</th>\n",
       "      <th>winddirection_10m_deg</th>\n",
       "    </tr>\n",
       "  </thead>\n",
       "  <tbody>\n",
       "    <tr>\n",
       "      <th>0</th>\n",
       "      <td>2000-01-01T00:00</td>\n",
       "      <td>51.6</td>\n",
       "      <td>77</td>\n",
       "      <td>0.0</td>\n",
       "      <td>0.0</td>\n",
       "      <td>8</td>\n",
       "      <td>11.9</td>\n",
       "      <td>283.0</td>\n",
       "    </tr>\n",
       "    <tr>\n",
       "      <th>1</th>\n",
       "      <td>2000-01-01T01:00</td>\n",
       "      <td>51.3</td>\n",
       "      <td>80</td>\n",
       "      <td>0.0</td>\n",
       "      <td>0.0</td>\n",
       "      <td>14</td>\n",
       "      <td>10.8</td>\n",
       "      <td>283.0</td>\n",
       "    </tr>\n",
       "    <tr>\n",
       "      <th>2</th>\n",
       "      <td>2000-01-01T02:00</td>\n",
       "      <td>51.4</td>\n",
       "      <td>81</td>\n",
       "      <td>0.0</td>\n",
       "      <td>0.0</td>\n",
       "      <td>10</td>\n",
       "      <td>10.5</td>\n",
       "      <td>286.0</td>\n",
       "    </tr>\n",
       "    <tr>\n",
       "      <th>3</th>\n",
       "      <td>2000-01-01T03:00</td>\n",
       "      <td>48.1</td>\n",
       "      <td>88</td>\n",
       "      <td>0.0</td>\n",
       "      <td>0.0</td>\n",
       "      <td>11</td>\n",
       "      <td>10.0</td>\n",
       "      <td>290.0</td>\n",
       "    </tr>\n",
       "    <tr>\n",
       "      <th>4</th>\n",
       "      <td>2000-01-01T04:00</td>\n",
       "      <td>47.8</td>\n",
       "      <td>88</td>\n",
       "      <td>0.0</td>\n",
       "      <td>0.0</td>\n",
       "      <td>5</td>\n",
       "      <td>9.8</td>\n",
       "      <td>290.0</td>\n",
       "    </tr>\n",
       "  </tbody>\n",
       "</table>\n",
       "</div>"
      ],
      "text/plain": [
       "               time  temperature_2m_degF  relativehumidity_2m_perc  rain_inch  \\\n",
       "0  2000-01-01T00:00                 51.6                        77        0.0   \n",
       "1  2000-01-01T01:00                 51.3                        80        0.0   \n",
       "2  2000-01-01T02:00                 51.4                        81        0.0   \n",
       "3  2000-01-01T03:00                 48.1                        88        0.0   \n",
       "4  2000-01-01T04:00                 47.8                        88        0.0   \n",
       "\n",
       "   snowfall_cm  cloudcover_perc  windspeed_10m_mph  winddirection_10m_deg  \n",
       "0          0.0                8               11.9                  283.0  \n",
       "1          0.0               14               10.8                  283.0  \n",
       "2          0.0               10               10.5                  286.0  \n",
       "3          0.0               11               10.0                  290.0  \n",
       "4          0.0                5                9.8                  290.0  "
      ]
     },
     "execution_count": 2,
     "metadata": {},
     "output_type": "execute_result"
    }
   ],
   "source": [
    "# Load the dataset.\n",
    "# rename columns because provided column headers contain non-ascii characters\n",
    "file_path =\"hourly.csv\"\n",
    "hourly_columns = ['time',\n",
    "           'temperature_2m_degF', \n",
    "           'relativehumidity_2m_perc', \n",
    "           'rain_inch',\n",
    "           'snowfall_cm', \n",
    "           'cloudcover_perc', \n",
    "           'windspeed_10m_mph',\n",
    "           'winddirection_10m_deg']\n",
    "\n",
    "raw_hrly_df1 = pd.read_csv(file_path, skiprows=4, names=hourly_columns)\n",
    "raw_hrly_df1.head()"
   ]
  },
  {
   "cell_type": "markdown",
   "id": "c77ba590",
   "metadata": {},
   "source": [
    "When wind speed is 0, wind direction is NaN. Otherwise, wind directions varies from 1 to 360.<br>\n",
    "We replace NaNs with 0s to avoid errors; and losing no data as 0 never appears in the original."
   ]
  },
  {
   "cell_type": "code",
   "execution_count": 3,
   "id": "39c129d3",
   "metadata": {},
   "outputs": [],
   "source": [
    "raw_hrly_df1[\"winddirection_10m_deg\"].fillna(0, inplace=True)"
   ]
  },
  {
   "cell_type": "markdown",
   "id": "a7a207be",
   "metadata": {},
   "source": [
    "We convert the provided ISO string 'time' into\n",
    "<ul>\n",
    "    <li> a 'pure_date' in python datetime format for merging with daily data; and </li>\n",
    "    <li> an 'hour' integer, for pivoting. </li>\n",
    "</ul>"
   ]
  },
  {
   "cell_type": "code",
   "execution_count": 4,
   "id": "2058b49f",
   "metadata": {},
   "outputs": [],
   "source": [
    "raw_hrly_df1[\"pure_date\"] = raw_hrly_df1['time'].map(lambda x: \n",
    "                                                     datetime.datetime.fromisoformat(x[0:10]))"
   ]
  },
  {
   "cell_type": "code",
   "execution_count": 5,
   "id": "31bb6153",
   "metadata": {},
   "outputs": [],
   "source": [
    "raw_hrly_df1[\"hour\"] = raw_hrly_df1['time'].map(lambda x: datetime.datetime.fromisoformat(x).hour)"
   ]
  },
  {
   "cell_type": "code",
   "execution_count": 6,
   "id": "76fbec55",
   "metadata": {},
   "outputs": [
    {
     "name": "stdout",
     "output_type": "stream",
     "text": [
      "<class 'pandas.core.frame.DataFrame'>\n",
      "RangeIndex: 184104 entries, 0 to 184103\n",
      "Data columns (total 10 columns):\n",
      " #   Column                    Non-Null Count   Dtype         \n",
      "---  ------                    --------------   -----         \n",
      " 0   time                      184104 non-null  object        \n",
      " 1   temperature_2m_degF       184104 non-null  float64       \n",
      " 2   relativehumidity_2m_perc  184104 non-null  int64         \n",
      " 3   rain_inch                 184104 non-null  float64       \n",
      " 4   snowfall_cm               184104 non-null  float64       \n",
      " 5   cloudcover_perc           184104 non-null  int64         \n",
      " 6   windspeed_10m_mph         184104 non-null  float64       \n",
      " 7   winddirection_10m_deg     184104 non-null  float64       \n",
      " 8   pure_date                 184104 non-null  datetime64[ns]\n",
      " 9   hour                      184104 non-null  int64         \n",
      "dtypes: datetime64[ns](1), float64(5), int64(3), object(1)\n",
      "memory usage: 14.0+ MB\n"
     ]
    }
   ],
   "source": [
    "raw_hrly_df1.info()"
   ]
  },
  {
   "cell_type": "markdown",
   "id": "4e2dea27",
   "metadata": {},
   "source": [
    "Now we pivot the dataframe on the \"hour\" variable: for each value of 'pure_date',<ul>\n",
    "    <li> The raw dataframe has 24 rows (one for each hour) with: <ul>\n",
    "        <li> 7 weather columns;</li>\n",
    "        <li> 3 date/time columns: original string 'time', datetime 'pure_date', and integer 'hour; and </li>\n",
    "        <li> mostly meaningless sequential index.</li> </ul>\n",
    "    <li> The clean dataframe has 1 row with: <ul>\n",
    "        <li> index 'pure_date'; and </li>\n",
    "        <li> 7*24=168 weather-at-hour columns. </li> <ul>"
   ]
  },
  {
   "cell_type": "code",
   "execution_count": 7,
   "id": "c755f0b0",
   "metadata": {},
   "outputs": [],
   "source": [
    "clean_hrly_df1 = raw_hrly_df1.pivot(index = 'pure_date',\n",
    "                                    columns = 'hour', values = hourly_columns[1:])"
   ]
  },
  {
   "cell_type": "code",
   "execution_count": 8,
   "id": "2781bad3",
   "metadata": {},
   "outputs": [
    {
     "data": {
      "text/html": [
       "<div>\n",
       "<style scoped>\n",
       "    .dataframe tbody tr th:only-of-type {\n",
       "        vertical-align: middle;\n",
       "    }\n",
       "\n",
       "    .dataframe tbody tr th {\n",
       "        vertical-align: top;\n",
       "    }\n",
       "\n",
       "    .dataframe thead tr th {\n",
       "        text-align: left;\n",
       "    }\n",
       "\n",
       "    .dataframe thead tr:last-of-type th {\n",
       "        text-align: right;\n",
       "    }\n",
       "</style>\n",
       "<table border=\"1\" class=\"dataframe\">\n",
       "  <thead>\n",
       "    <tr>\n",
       "      <th></th>\n",
       "      <th colspan=\"10\" halign=\"left\">temperature_2m_degF</th>\n",
       "      <th>...</th>\n",
       "      <th colspan=\"10\" halign=\"left\">winddirection_10m_deg</th>\n",
       "    </tr>\n",
       "    <tr>\n",
       "      <th>hour</th>\n",
       "      <th>0</th>\n",
       "      <th>1</th>\n",
       "      <th>2</th>\n",
       "      <th>3</th>\n",
       "      <th>4</th>\n",
       "      <th>5</th>\n",
       "      <th>6</th>\n",
       "      <th>7</th>\n",
       "      <th>8</th>\n",
       "      <th>9</th>\n",
       "      <th>...</th>\n",
       "      <th>14</th>\n",
       "      <th>15</th>\n",
       "      <th>16</th>\n",
       "      <th>17</th>\n",
       "      <th>18</th>\n",
       "      <th>19</th>\n",
       "      <th>20</th>\n",
       "      <th>21</th>\n",
       "      <th>22</th>\n",
       "      <th>23</th>\n",
       "    </tr>\n",
       "    <tr>\n",
       "      <th>pure_date</th>\n",
       "      <th></th>\n",
       "      <th></th>\n",
       "      <th></th>\n",
       "      <th></th>\n",
       "      <th></th>\n",
       "      <th></th>\n",
       "      <th></th>\n",
       "      <th></th>\n",
       "      <th></th>\n",
       "      <th></th>\n",
       "      <th></th>\n",
       "      <th></th>\n",
       "      <th></th>\n",
       "      <th></th>\n",
       "      <th></th>\n",
       "      <th></th>\n",
       "      <th></th>\n",
       "      <th></th>\n",
       "      <th></th>\n",
       "      <th></th>\n",
       "      <th></th>\n",
       "    </tr>\n",
       "  </thead>\n",
       "  <tbody>\n",
       "    <tr>\n",
       "      <th>2000-01-01</th>\n",
       "      <td>51.6</td>\n",
       "      <td>51.3</td>\n",
       "      <td>51.4</td>\n",
       "      <td>48.1</td>\n",
       "      <td>47.8</td>\n",
       "      <td>47.8</td>\n",
       "      <td>46.7</td>\n",
       "      <td>45.6</td>\n",
       "      <td>45.0</td>\n",
       "      <td>43.1</td>\n",
       "      <td>...</td>\n",
       "      <td>3.0</td>\n",
       "      <td>7.0</td>\n",
       "      <td>350.0</td>\n",
       "      <td>333.0</td>\n",
       "      <td>315.0</td>\n",
       "      <td>306.0</td>\n",
       "      <td>307.0</td>\n",
       "      <td>308.0</td>\n",
       "      <td>296.0</td>\n",
       "      <td>297.0</td>\n",
       "    </tr>\n",
       "    <tr>\n",
       "      <th>2000-01-02</th>\n",
       "      <td>52.2</td>\n",
       "      <td>51.8</td>\n",
       "      <td>51.2</td>\n",
       "      <td>47.8</td>\n",
       "      <td>47.8</td>\n",
       "      <td>47.6</td>\n",
       "      <td>47.5</td>\n",
       "      <td>47.2</td>\n",
       "      <td>46.8</td>\n",
       "      <td>45.4</td>\n",
       "      <td>...</td>\n",
       "      <td>326.0</td>\n",
       "      <td>327.0</td>\n",
       "      <td>329.0</td>\n",
       "      <td>327.0</td>\n",
       "      <td>323.0</td>\n",
       "      <td>317.0</td>\n",
       "      <td>309.0</td>\n",
       "      <td>306.0</td>\n",
       "      <td>303.0</td>\n",
       "      <td>302.0</td>\n",
       "    </tr>\n",
       "    <tr>\n",
       "      <th>2000-01-03</th>\n",
       "      <td>52.2</td>\n",
       "      <td>52.1</td>\n",
       "      <td>51.8</td>\n",
       "      <td>48.1</td>\n",
       "      <td>48.3</td>\n",
       "      <td>48.0</td>\n",
       "      <td>47.9</td>\n",
       "      <td>47.9</td>\n",
       "      <td>47.7</td>\n",
       "      <td>46.9</td>\n",
       "      <td>...</td>\n",
       "      <td>352.0</td>\n",
       "      <td>8.0</td>\n",
       "      <td>27.0</td>\n",
       "      <td>29.0</td>\n",
       "      <td>339.0</td>\n",
       "      <td>315.0</td>\n",
       "      <td>252.0</td>\n",
       "      <td>267.0</td>\n",
       "      <td>275.0</td>\n",
       "      <td>283.0</td>\n",
       "    </tr>\n",
       "    <tr>\n",
       "      <th>2000-01-04</th>\n",
       "      <td>52.9</td>\n",
       "      <td>52.0</td>\n",
       "      <td>50.9</td>\n",
       "      <td>47.6</td>\n",
       "      <td>47.9</td>\n",
       "      <td>49.4</td>\n",
       "      <td>49.2</td>\n",
       "      <td>47.3</td>\n",
       "      <td>47.3</td>\n",
       "      <td>45.9</td>\n",
       "      <td>...</td>\n",
       "      <td>280.0</td>\n",
       "      <td>277.0</td>\n",
       "      <td>291.0</td>\n",
       "      <td>261.0</td>\n",
       "      <td>180.0</td>\n",
       "      <td>162.0</td>\n",
       "      <td>151.0</td>\n",
       "      <td>161.0</td>\n",
       "      <td>188.0</td>\n",
       "      <td>195.0</td>\n",
       "    </tr>\n",
       "    <tr>\n",
       "      <th>2000-01-05</th>\n",
       "      <td>53.0</td>\n",
       "      <td>53.2</td>\n",
       "      <td>53.2</td>\n",
       "      <td>49.8</td>\n",
       "      <td>49.2</td>\n",
       "      <td>49.4</td>\n",
       "      <td>50.0</td>\n",
       "      <td>50.0</td>\n",
       "      <td>49.7</td>\n",
       "      <td>49.2</td>\n",
       "      <td>...</td>\n",
       "      <td>342.0</td>\n",
       "      <td>343.0</td>\n",
       "      <td>335.0</td>\n",
       "      <td>324.0</td>\n",
       "      <td>318.0</td>\n",
       "      <td>318.0</td>\n",
       "      <td>319.0</td>\n",
       "      <td>323.0</td>\n",
       "      <td>314.0</td>\n",
       "      <td>310.0</td>\n",
       "    </tr>\n",
       "  </tbody>\n",
       "</table>\n",
       "<p>5 rows × 168 columns</p>\n",
       "</div>"
      ],
      "text/plain": [
       "           temperature_2m_degF                                            \\\n",
       "hour                        0     1     2     3     4     5     6     7    \n",
       "pure_date                                                                  \n",
       "2000-01-01                51.6  51.3  51.4  48.1  47.8  47.8  46.7  45.6   \n",
       "2000-01-02                52.2  51.8  51.2  47.8  47.8  47.6  47.5  47.2   \n",
       "2000-01-03                52.2  52.1  51.8  48.1  48.3  48.0  47.9  47.9   \n",
       "2000-01-04                52.9  52.0  50.9  47.6  47.9  49.4  49.2  47.3   \n",
       "2000-01-05                53.0  53.2  53.2  49.8  49.2  49.4  50.0  50.0   \n",
       "\n",
       "                        ... winddirection_10m_deg                              \\\n",
       "hour          8     9   ...                    14     15     16     17     18   \n",
       "pure_date               ...                                                     \n",
       "2000-01-01  45.0  43.1  ...                   3.0    7.0  350.0  333.0  315.0   \n",
       "2000-01-02  46.8  45.4  ...                 326.0  327.0  329.0  327.0  323.0   \n",
       "2000-01-03  47.7  46.9  ...                 352.0    8.0   27.0   29.0  339.0   \n",
       "2000-01-04  47.3  45.9  ...                 280.0  277.0  291.0  261.0  180.0   \n",
       "2000-01-05  49.7  49.2  ...                 342.0  343.0  335.0  324.0  318.0   \n",
       "\n",
       "                                               \n",
       "hour           19     20     21     22     23  \n",
       "pure_date                                      \n",
       "2000-01-01  306.0  307.0  308.0  296.0  297.0  \n",
       "2000-01-02  317.0  309.0  306.0  303.0  302.0  \n",
       "2000-01-03  315.0  252.0  267.0  275.0  283.0  \n",
       "2000-01-04  162.0  151.0  161.0  188.0  195.0  \n",
       "2000-01-05  318.0  319.0  323.0  314.0  310.0  \n",
       "\n",
       "[5 rows x 168 columns]"
      ]
     },
     "execution_count": 8,
     "metadata": {},
     "output_type": "execute_result"
    }
   ],
   "source": [
    "clean_hrly_df1.head()"
   ]
  },
  {
   "cell_type": "markdown",
   "id": "d614e4ae",
   "metadata": {},
   "source": [
    "We have dropped the mostly meaningless sequential index; and the original string 'time'.<br>\n",
    "The two percentage columns that used to be int64 got converted to float64 for some reason.<br>"
   ]
  },
  {
   "cell_type": "code",
   "execution_count": 9,
   "id": "78a0ffcc",
   "metadata": {},
   "outputs": [
    {
     "name": "stdout",
     "output_type": "stream",
     "text": [
      "<class 'pandas.core.frame.DataFrame'>\n",
      "DatetimeIndex: 7671 entries, 2000-01-01 to 2020-12-31\n",
      "Columns: 168 entries, ('temperature_2m_degF', 0) to ('winddirection_10m_deg', 23)\n",
      "dtypes: float64(168)\n",
      "memory usage: 9.9 MB\n"
     ]
    }
   ],
   "source": [
    "clean_hrly_df1.info()"
   ]
  },
  {
   "cell_type": "code",
   "execution_count": 10,
   "id": "790a29b8",
   "metadata": {},
   "outputs": [
    {
     "name": "stdout",
     "output_type": "stream",
     "text": [
      "<class 'pandas.core.frame.DataFrame'>\n",
      "RangeIndex: 184104 entries, 0 to 184103\n",
      "Data columns (total 10 columns):\n",
      " #   Column                    Non-Null Count   Dtype         \n",
      "---  ------                    --------------   -----         \n",
      " 0   time                      184104 non-null  object        \n",
      " 1   temperature_2m_degF       184104 non-null  float64       \n",
      " 2   relativehumidity_2m_perc  184104 non-null  int64         \n",
      " 3   rain_inch                 184104 non-null  float64       \n",
      " 4   snowfall_cm               184104 non-null  float64       \n",
      " 5   cloudcover_perc           184104 non-null  int64         \n",
      " 6   windspeed_10m_mph         184104 non-null  float64       \n",
      " 7   winddirection_10m_deg     184104 non-null  float64       \n",
      " 8   pure_date                 184104 non-null  datetime64[ns]\n",
      " 9   hour                      184104 non-null  int64         \n",
      "dtypes: datetime64[ns](1), float64(5), int64(3), object(1)\n",
      "memory usage: 14.0+ MB\n"
     ]
    }
   ],
   "source": [
    "raw_hrly_df1.info()"
   ]
  },
  {
   "cell_type": "code",
   "execution_count": 11,
   "id": "deb25a57",
   "metadata": {},
   "outputs": [
    {
     "data": {
      "text/plain": [
       "pure_date\n",
       "2000-01-01     14.0\n",
       "2000-01-02     24.0\n",
       "2000-01-03      0.0\n",
       "2000-01-04     14.0\n",
       "2000-01-05     90.0\n",
       "              ...  \n",
       "2020-12-27     29.0\n",
       "2020-12-28     65.0\n",
       "2020-12-29      0.0\n",
       "2020-12-30     27.0\n",
       "2020-12-31    100.0\n",
       "Name: 1, Length: 7671, dtype: float64"
      ]
     },
     "execution_count": 11,
     "metadata": {},
     "output_type": "execute_result"
    }
   ],
   "source": [
    "clean_hrly_df1['cloudcover_perc'][1]"
   ]
  },
  {
   "cell_type": "code",
   "execution_count": 12,
   "id": "d94c5df0",
   "metadata": {},
   "outputs": [
    {
     "data": {
      "text/plain": [
       "0          8\n",
       "1         14\n",
       "2         10\n",
       "3         11\n",
       "4          5\n",
       "          ..\n",
       "184099    24\n",
       "184100    23\n",
       "184101    25\n",
       "184102    25\n",
       "184103    23\n",
       "Name: cloudcover_perc, Length: 184104, dtype: int64"
      ]
     },
     "execution_count": 12,
     "metadata": {},
     "output_type": "execute_result"
    }
   ],
   "source": [
    "raw_hrly_df1['cloudcover_perc']"
   ]
  },
  {
   "cell_type": "markdown",
   "id": "ebe3656e",
   "metadata": {},
   "source": [
    "### Load daily data"
   ]
  },
  {
   "cell_type": "code",
   "execution_count": 13,
   "id": "cf5e3a30",
   "metadata": {},
   "outputs": [
    {
     "data": {
      "text/html": [
       "<div>\n",
       "<style scoped>\n",
       "    .dataframe tbody tr th:only-of-type {\n",
       "        vertical-align: middle;\n",
       "    }\n",
       "\n",
       "    .dataframe tbody tr th {\n",
       "        vertical-align: top;\n",
       "    }\n",
       "\n",
       "    .dataframe thead th {\n",
       "        text-align: right;\n",
       "    }\n",
       "</style>\n",
       "<table border=\"1\" class=\"dataframe\">\n",
       "  <thead>\n",
       "    <tr style=\"text-align: right;\">\n",
       "      <th></th>\n",
       "      <th>time</th>\n",
       "      <th>temperature_2m_degF_max</th>\n",
       "      <th>temperature_2m_degF_min</th>\n",
       "      <th>rain_inch</th>\n",
       "      <th>snowfall_cm</th>\n",
       "      <th>precipitation_hours</th>\n",
       "    </tr>\n",
       "  </thead>\n",
       "  <tbody>\n",
       "    <tr>\n",
       "      <th>0</th>\n",
       "      <td>2000-01-01</td>\n",
       "      <td>52.2</td>\n",
       "      <td>43.1</td>\n",
       "      <td>0.00</td>\n",
       "      <td>0.0</td>\n",
       "      <td>0.0</td>\n",
       "    </tr>\n",
       "    <tr>\n",
       "      <th>1</th>\n",
       "      <td>2000-01-02</td>\n",
       "      <td>52.3</td>\n",
       "      <td>45.1</td>\n",
       "      <td>0.00</td>\n",
       "      <td>0.0</td>\n",
       "      <td>0.0</td>\n",
       "    </tr>\n",
       "    <tr>\n",
       "      <th>2</th>\n",
       "      <td>2000-01-03</td>\n",
       "      <td>52.9</td>\n",
       "      <td>42.8</td>\n",
       "      <td>0.00</td>\n",
       "      <td>0.0</td>\n",
       "      <td>0.0</td>\n",
       "    </tr>\n",
       "    <tr>\n",
       "      <th>3</th>\n",
       "      <td>2000-01-04</td>\n",
       "      <td>53.2</td>\n",
       "      <td>44.2</td>\n",
       "      <td>0.02</td>\n",
       "      <td>0.0</td>\n",
       "      <td>2.0</td>\n",
       "    </tr>\n",
       "    <tr>\n",
       "      <th>4</th>\n",
       "      <td>2000-01-05</td>\n",
       "      <td>56.8</td>\n",
       "      <td>45.8</td>\n",
       "      <td>0.00</td>\n",
       "      <td>0.0</td>\n",
       "      <td>0.0</td>\n",
       "    </tr>\n",
       "  </tbody>\n",
       "</table>\n",
       "</div>"
      ],
      "text/plain": [
       "         time  temperature_2m_degF_max  temperature_2m_degF_min  rain_inch  \\\n",
       "0  2000-01-01                     52.2                     43.1       0.00   \n",
       "1  2000-01-02                     52.3                     45.1       0.00   \n",
       "2  2000-01-03                     52.9                     42.8       0.00   \n",
       "3  2000-01-04                     53.2                     44.2       0.02   \n",
       "4  2000-01-05                     56.8                     45.8       0.00   \n",
       "\n",
       "   snowfall_cm  precipitation_hours  \n",
       "0          0.0                  0.0  \n",
       "1          0.0                  0.0  \n",
       "2          0.0                  0.0  \n",
       "3          0.0                  2.0  \n",
       "4          0.0                  0.0  "
      ]
     },
     "execution_count": 13,
     "metadata": {},
     "output_type": "execute_result"
    }
   ],
   "source": [
    "# Load the dataset.\n",
    "# rename columns because provided column headers contain non-ascii characters\n",
    "file_path =\"daily.csv\"\n",
    "daily_columns = ['time',\n",
    "           'temperature_2m_degF_max',\n",
    "           'temperature_2m_degF_min',  \n",
    "           'rain_inch',\n",
    "           'snowfall_cm',\n",
    "           'precipitation_hours'\n",
    "          ]\n",
    "\n",
    "raw_daily_df1 = pd.read_csv(file_path, skiprows=4, names=daily_columns)\n",
    "raw_daily_df1.head()"
   ]
  },
  {
   "cell_type": "code",
   "execution_count": 14,
   "id": "a415a77b",
   "metadata": {},
   "outputs": [],
   "source": [
    "raw_daily_df1[\"date\"] = raw_daily_df1['time'].map(lambda x: datetime.datetime.fromisoformat(x))"
   ]
  },
  {
   "cell_type": "code",
   "execution_count": 15,
   "id": "f3c2c548",
   "metadata": {},
   "outputs": [
    {
     "data": {
      "text/html": [
       "<div>\n",
       "<style scoped>\n",
       "    .dataframe tbody tr th:only-of-type {\n",
       "        vertical-align: middle;\n",
       "    }\n",
       "\n",
       "    .dataframe tbody tr th {\n",
       "        vertical-align: top;\n",
       "    }\n",
       "\n",
       "    .dataframe thead th {\n",
       "        text-align: right;\n",
       "    }\n",
       "</style>\n",
       "<table border=\"1\" class=\"dataframe\">\n",
       "  <thead>\n",
       "    <tr style=\"text-align: right;\">\n",
       "      <th></th>\n",
       "      <th>time</th>\n",
       "      <th>temperature_2m_degF_max</th>\n",
       "      <th>temperature_2m_degF_min</th>\n",
       "      <th>rain_inch</th>\n",
       "      <th>snowfall_cm</th>\n",
       "      <th>precipitation_hours</th>\n",
       "      <th>date</th>\n",
       "    </tr>\n",
       "  </thead>\n",
       "  <tbody>\n",
       "    <tr>\n",
       "      <th>0</th>\n",
       "      <td>2000-01-01</td>\n",
       "      <td>52.2</td>\n",
       "      <td>43.1</td>\n",
       "      <td>0.00</td>\n",
       "      <td>0.0</td>\n",
       "      <td>0.0</td>\n",
       "      <td>2000-01-01</td>\n",
       "    </tr>\n",
       "    <tr>\n",
       "      <th>1</th>\n",
       "      <td>2000-01-02</td>\n",
       "      <td>52.3</td>\n",
       "      <td>45.1</td>\n",
       "      <td>0.00</td>\n",
       "      <td>0.0</td>\n",
       "      <td>0.0</td>\n",
       "      <td>2000-01-02</td>\n",
       "    </tr>\n",
       "    <tr>\n",
       "      <th>2</th>\n",
       "      <td>2000-01-03</td>\n",
       "      <td>52.9</td>\n",
       "      <td>42.8</td>\n",
       "      <td>0.00</td>\n",
       "      <td>0.0</td>\n",
       "      <td>0.0</td>\n",
       "      <td>2000-01-03</td>\n",
       "    </tr>\n",
       "    <tr>\n",
       "      <th>3</th>\n",
       "      <td>2000-01-04</td>\n",
       "      <td>53.2</td>\n",
       "      <td>44.2</td>\n",
       "      <td>0.02</td>\n",
       "      <td>0.0</td>\n",
       "      <td>2.0</td>\n",
       "      <td>2000-01-04</td>\n",
       "    </tr>\n",
       "    <tr>\n",
       "      <th>4</th>\n",
       "      <td>2000-01-05</td>\n",
       "      <td>56.8</td>\n",
       "      <td>45.8</td>\n",
       "      <td>0.00</td>\n",
       "      <td>0.0</td>\n",
       "      <td>0.0</td>\n",
       "      <td>2000-01-05</td>\n",
       "    </tr>\n",
       "  </tbody>\n",
       "</table>\n",
       "</div>"
      ],
      "text/plain": [
       "         time  temperature_2m_degF_max  temperature_2m_degF_min  rain_inch  \\\n",
       "0  2000-01-01                     52.2                     43.1       0.00   \n",
       "1  2000-01-02                     52.3                     45.1       0.00   \n",
       "2  2000-01-03                     52.9                     42.8       0.00   \n",
       "3  2000-01-04                     53.2                     44.2       0.02   \n",
       "4  2000-01-05                     56.8                     45.8       0.00   \n",
       "\n",
       "   snowfall_cm  precipitation_hours       date  \n",
       "0          0.0                  0.0 2000-01-01  \n",
       "1          0.0                  0.0 2000-01-02  \n",
       "2          0.0                  0.0 2000-01-03  \n",
       "3          0.0                  2.0 2000-01-04  \n",
       "4          0.0                  0.0 2000-01-05  "
      ]
     },
     "execution_count": 15,
     "metadata": {},
     "output_type": "execute_result"
    }
   ],
   "source": [
    "raw_daily_df1.head()"
   ]
  },
  {
   "cell_type": "code",
   "execution_count": 16,
   "id": "36a1378a",
   "metadata": {},
   "outputs": [
    {
     "name": "stdout",
     "output_type": "stream",
     "text": [
      "<class 'pandas.core.frame.DataFrame'>\n",
      "RangeIndex: 7671 entries, 0 to 7670\n",
      "Data columns (total 7 columns):\n",
      " #   Column                   Non-Null Count  Dtype         \n",
      "---  ------                   --------------  -----         \n",
      " 0   time                     7671 non-null   object        \n",
      " 1   temperature_2m_degF_max  7671 non-null   float64       \n",
      " 2   temperature_2m_degF_min  7671 non-null   float64       \n",
      " 3   rain_inch                7671 non-null   float64       \n",
      " 4   snowfall_cm              7671 non-null   float64       \n",
      " 5   precipitation_hours      7671 non-null   float64       \n",
      " 6   date                     7671 non-null   datetime64[ns]\n",
      "dtypes: datetime64[ns](1), float64(5), object(1)\n",
      "memory usage: 419.6+ KB\n"
     ]
    }
   ],
   "source": [
    "raw_daily_df1.info()"
   ]
  },
  {
   "cell_type": "markdown",
   "id": "eb459e4d",
   "metadata": {},
   "source": [
    "### Join!"
   ]
  },
  {
   "cell_type": "code",
   "execution_count": 17,
   "id": "3a82d6f2",
   "metadata": {},
   "outputs": [],
   "source": [
    "# warning says, flatten column names or else future versions will throw errors, so\n",
    "clean_hrly_df1.columns = clean_hrly_df1.columns.to_flat_index()"
   ]
  },
  {
   "cell_type": "code",
   "execution_count": 18,
   "id": "1748b4ab",
   "metadata": {},
   "outputs": [],
   "source": [
    "awesome_df = raw_daily_df1.join(clean_hrly_df1, on = 'date' )"
   ]
  },
  {
   "cell_type": "code",
   "execution_count": 19,
   "id": "7635cd17",
   "metadata": {},
   "outputs": [
    {
     "name": "stdout",
     "output_type": "stream",
     "text": [
      "<class 'pandas.core.frame.DataFrame'>\n",
      "RangeIndex: 7671 entries, 0 to 7670\n",
      "Columns: 175 entries, time to ('winddirection_10m_deg', 23)\n",
      "dtypes: datetime64[ns](1), float64(173), object(1)\n",
      "memory usage: 10.2+ MB\n"
     ]
    }
   ],
   "source": [
    "awesome_df.info()"
   ]
  },
  {
   "cell_type": "code",
   "execution_count": 20,
   "id": "e2e0b99b",
   "metadata": {},
   "outputs": [],
   "source": [
    "awesome_df.drop('time', axis=1, inplace=True)"
   ]
  },
  {
   "cell_type": "code",
   "execution_count": 21,
   "id": "971982d1",
   "metadata": {},
   "outputs": [
    {
     "name": "stdout",
     "output_type": "stream",
     "text": [
      "<class 'pandas.core.frame.DataFrame'>\n",
      "RangeIndex: 7671 entries, 0 to 7670\n",
      "Columns: 174 entries, temperature_2m_degF_max to ('winddirection_10m_deg', 23)\n",
      "dtypes: datetime64[ns](1), float64(173)\n",
      "memory usage: 10.2 MB\n"
     ]
    }
   ],
   "source": [
    "awesome_df.info()"
   ]
  },
  {
   "cell_type": "code",
   "execution_count": 22,
   "id": "a41074fa",
   "metadata": {},
   "outputs": [
    {
     "data": {
      "text/html": [
       "<div>\n",
       "<style scoped>\n",
       "    .dataframe tbody tr th:only-of-type {\n",
       "        vertical-align: middle;\n",
       "    }\n",
       "\n",
       "    .dataframe tbody tr th {\n",
       "        vertical-align: top;\n",
       "    }\n",
       "\n",
       "    .dataframe thead th {\n",
       "        text-align: right;\n",
       "    }\n",
       "</style>\n",
       "<table border=\"1\" class=\"dataframe\">\n",
       "  <thead>\n",
       "    <tr style=\"text-align: right;\">\n",
       "      <th></th>\n",
       "      <th>temperature_2m_degF_max</th>\n",
       "      <th>temperature_2m_degF_min</th>\n",
       "      <th>rain_inch</th>\n",
       "      <th>snowfall_cm</th>\n",
       "      <th>precipitation_hours</th>\n",
       "      <th>date</th>\n",
       "      <th>(temperature_2m_degF, 0)</th>\n",
       "      <th>(temperature_2m_degF, 1)</th>\n",
       "      <th>(temperature_2m_degF, 2)</th>\n",
       "      <th>(temperature_2m_degF, 3)</th>\n",
       "      <th>...</th>\n",
       "      <th>(winddirection_10m_deg, 14)</th>\n",
       "      <th>(winddirection_10m_deg, 15)</th>\n",
       "      <th>(winddirection_10m_deg, 16)</th>\n",
       "      <th>(winddirection_10m_deg, 17)</th>\n",
       "      <th>(winddirection_10m_deg, 18)</th>\n",
       "      <th>(winddirection_10m_deg, 19)</th>\n",
       "      <th>(winddirection_10m_deg, 20)</th>\n",
       "      <th>(winddirection_10m_deg, 21)</th>\n",
       "      <th>(winddirection_10m_deg, 22)</th>\n",
       "      <th>(winddirection_10m_deg, 23)</th>\n",
       "    </tr>\n",
       "  </thead>\n",
       "  <tbody>\n",
       "    <tr>\n",
       "      <th>0</th>\n",
       "      <td>52.2</td>\n",
       "      <td>43.1</td>\n",
       "      <td>0.00</td>\n",
       "      <td>0.0</td>\n",
       "      <td>0.0</td>\n",
       "      <td>2000-01-01</td>\n",
       "      <td>51.6</td>\n",
       "      <td>51.3</td>\n",
       "      <td>51.4</td>\n",
       "      <td>48.1</td>\n",
       "      <td>...</td>\n",
       "      <td>3.0</td>\n",
       "      <td>7.0</td>\n",
       "      <td>350.0</td>\n",
       "      <td>333.0</td>\n",
       "      <td>315.0</td>\n",
       "      <td>306.0</td>\n",
       "      <td>307.0</td>\n",
       "      <td>308.0</td>\n",
       "      <td>296.0</td>\n",
       "      <td>297.0</td>\n",
       "    </tr>\n",
       "    <tr>\n",
       "      <th>1</th>\n",
       "      <td>52.3</td>\n",
       "      <td>45.1</td>\n",
       "      <td>0.00</td>\n",
       "      <td>0.0</td>\n",
       "      <td>0.0</td>\n",
       "      <td>2000-01-02</td>\n",
       "      <td>52.2</td>\n",
       "      <td>51.8</td>\n",
       "      <td>51.2</td>\n",
       "      <td>47.8</td>\n",
       "      <td>...</td>\n",
       "      <td>326.0</td>\n",
       "      <td>327.0</td>\n",
       "      <td>329.0</td>\n",
       "      <td>327.0</td>\n",
       "      <td>323.0</td>\n",
       "      <td>317.0</td>\n",
       "      <td>309.0</td>\n",
       "      <td>306.0</td>\n",
       "      <td>303.0</td>\n",
       "      <td>302.0</td>\n",
       "    </tr>\n",
       "    <tr>\n",
       "      <th>2</th>\n",
       "      <td>52.9</td>\n",
       "      <td>42.8</td>\n",
       "      <td>0.00</td>\n",
       "      <td>0.0</td>\n",
       "      <td>0.0</td>\n",
       "      <td>2000-01-03</td>\n",
       "      <td>52.2</td>\n",
       "      <td>52.1</td>\n",
       "      <td>51.8</td>\n",
       "      <td>48.1</td>\n",
       "      <td>...</td>\n",
       "      <td>352.0</td>\n",
       "      <td>8.0</td>\n",
       "      <td>27.0</td>\n",
       "      <td>29.0</td>\n",
       "      <td>339.0</td>\n",
       "      <td>315.0</td>\n",
       "      <td>252.0</td>\n",
       "      <td>267.0</td>\n",
       "      <td>275.0</td>\n",
       "      <td>283.0</td>\n",
       "    </tr>\n",
       "    <tr>\n",
       "      <th>3</th>\n",
       "      <td>53.2</td>\n",
       "      <td>44.2</td>\n",
       "      <td>0.02</td>\n",
       "      <td>0.0</td>\n",
       "      <td>2.0</td>\n",
       "      <td>2000-01-04</td>\n",
       "      <td>52.9</td>\n",
       "      <td>52.0</td>\n",
       "      <td>50.9</td>\n",
       "      <td>47.6</td>\n",
       "      <td>...</td>\n",
       "      <td>280.0</td>\n",
       "      <td>277.0</td>\n",
       "      <td>291.0</td>\n",
       "      <td>261.0</td>\n",
       "      <td>180.0</td>\n",
       "      <td>162.0</td>\n",
       "      <td>151.0</td>\n",
       "      <td>161.0</td>\n",
       "      <td>188.0</td>\n",
       "      <td>195.0</td>\n",
       "    </tr>\n",
       "    <tr>\n",
       "      <th>4</th>\n",
       "      <td>56.8</td>\n",
       "      <td>45.8</td>\n",
       "      <td>0.00</td>\n",
       "      <td>0.0</td>\n",
       "      <td>0.0</td>\n",
       "      <td>2000-01-05</td>\n",
       "      <td>53.0</td>\n",
       "      <td>53.2</td>\n",
       "      <td>53.2</td>\n",
       "      <td>49.8</td>\n",
       "      <td>...</td>\n",
       "      <td>342.0</td>\n",
       "      <td>343.0</td>\n",
       "      <td>335.0</td>\n",
       "      <td>324.0</td>\n",
       "      <td>318.0</td>\n",
       "      <td>318.0</td>\n",
       "      <td>319.0</td>\n",
       "      <td>323.0</td>\n",
       "      <td>314.0</td>\n",
       "      <td>310.0</td>\n",
       "    </tr>\n",
       "  </tbody>\n",
       "</table>\n",
       "<p>5 rows × 174 columns</p>\n",
       "</div>"
      ],
      "text/plain": [
       "   temperature_2m_degF_max  temperature_2m_degF_min  rain_inch  snowfall_cm  \\\n",
       "0                     52.2                     43.1       0.00          0.0   \n",
       "1                     52.3                     45.1       0.00          0.0   \n",
       "2                     52.9                     42.8       0.00          0.0   \n",
       "3                     53.2                     44.2       0.02          0.0   \n",
       "4                     56.8                     45.8       0.00          0.0   \n",
       "\n",
       "   precipitation_hours       date  (temperature_2m_degF, 0)  \\\n",
       "0                  0.0 2000-01-01                      51.6   \n",
       "1                  0.0 2000-01-02                      52.2   \n",
       "2                  0.0 2000-01-03                      52.2   \n",
       "3                  2.0 2000-01-04                      52.9   \n",
       "4                  0.0 2000-01-05                      53.0   \n",
       "\n",
       "   (temperature_2m_degF, 1)  (temperature_2m_degF, 2)  \\\n",
       "0                      51.3                      51.4   \n",
       "1                      51.8                      51.2   \n",
       "2                      52.1                      51.8   \n",
       "3                      52.0                      50.9   \n",
       "4                      53.2                      53.2   \n",
       "\n",
       "   (temperature_2m_degF, 3)  ...  (winddirection_10m_deg, 14)  \\\n",
       "0                      48.1  ...                          3.0   \n",
       "1                      47.8  ...                        326.0   \n",
       "2                      48.1  ...                        352.0   \n",
       "3                      47.6  ...                        280.0   \n",
       "4                      49.8  ...                        342.0   \n",
       "\n",
       "   (winddirection_10m_deg, 15)  (winddirection_10m_deg, 16)  \\\n",
       "0                          7.0                        350.0   \n",
       "1                        327.0                        329.0   \n",
       "2                          8.0                         27.0   \n",
       "3                        277.0                        291.0   \n",
       "4                        343.0                        335.0   \n",
       "\n",
       "   (winddirection_10m_deg, 17)  (winddirection_10m_deg, 18)  \\\n",
       "0                        333.0                        315.0   \n",
       "1                        327.0                        323.0   \n",
       "2                         29.0                        339.0   \n",
       "3                        261.0                        180.0   \n",
       "4                        324.0                        318.0   \n",
       "\n",
       "   (winddirection_10m_deg, 19)  (winddirection_10m_deg, 20)  \\\n",
       "0                        306.0                        307.0   \n",
       "1                        317.0                        309.0   \n",
       "2                        315.0                        252.0   \n",
       "3                        162.0                        151.0   \n",
       "4                        318.0                        319.0   \n",
       "\n",
       "   (winddirection_10m_deg, 21)  (winddirection_10m_deg, 22)  \\\n",
       "0                        308.0                        296.0   \n",
       "1                        306.0                        303.0   \n",
       "2                        267.0                        275.0   \n",
       "3                        161.0                        188.0   \n",
       "4                        323.0                        314.0   \n",
       "\n",
       "   (winddirection_10m_deg, 23)  \n",
       "0                        297.0  \n",
       "1                        302.0  \n",
       "2                        283.0  \n",
       "3                        195.0  \n",
       "4                        310.0  \n",
       "\n",
       "[5 rows x 174 columns]"
      ]
     },
     "execution_count": 22,
     "metadata": {},
     "output_type": "execute_result"
    }
   ],
   "source": [
    "awesome_df.head()"
   ]
  },
  {
   "cell_type": "markdown",
   "id": "6f1a0ec1",
   "metadata": {},
   "source": [
    "### Parse date into numbers: year, month, and day-of-the-year.\n",
    "The day_of_year field runs from 1 to 365 (366 for leap years); for example, February 3rd would be 34. We want it for the season-clusters machine learning. The 'month' field is for the month-label machine learning. We keep the whole date formatted as datetime for time intervals like December 28, 2011 to January 17, 2012. <br>\n",
    "<i> maybe this should be at the start of machine-learning code, not here. </i>"
   ]
  },
  {
   "cell_type": "code",
   "execution_count": 23,
   "id": "62ad29d0",
   "metadata": {},
   "outputs": [],
   "source": [
    "awesome_df['year'] = awesome_df[\"date\"].map(lambda x: x.year)"
   ]
  },
  {
   "cell_type": "code",
   "execution_count": 24,
   "id": "128a4343",
   "metadata": {},
   "outputs": [],
   "source": [
    "awesome_df['month'] = awesome_df[\"date\"].map(lambda x: x.month)"
   ]
  },
  {
   "cell_type": "code",
   "execution_count": 25,
   "id": "3860a378",
   "metadata": {},
   "outputs": [],
   "source": [
    "# this code stolen from\n",
    "# https://www.w3resource.com/python-exercises/date-time-exercise/python-date-time-exercise-11.php\n",
    "# which says nothing about licenses\n",
    "def day_of_year(x):\n",
    "    return (x - datetime.datetime(x.year, 1, 1)).days + 1"
   ]
  },
  {
   "cell_type": "code",
   "execution_count": 26,
   "id": "ffd924c5",
   "metadata": {},
   "outputs": [],
   "source": [
    "awesome_df['day_of_year'] = awesome_df[\"date\"].map(lambda x: day_of_year(x))"
   ]
  },
  {
   "cell_type": "code",
   "execution_count": 27,
   "id": "445ce074",
   "metadata": {},
   "outputs": [
    {
     "name": "stdout",
     "output_type": "stream",
     "text": [
      "<class 'pandas.core.frame.DataFrame'>\n",
      "RangeIndex: 7671 entries, 0 to 7670\n",
      "Columns: 177 entries, temperature_2m_degF_max to day_of_year\n",
      "dtypes: datetime64[ns](1), float64(173), int64(3)\n",
      "memory usage: 10.4 MB\n"
     ]
    }
   ],
   "source": [
    "awesome_df.info()"
   ]
  },
  {
   "cell_type": "markdown",
   "id": "ba9983b0",
   "metadata": {},
   "source": [
    "### Next coding steps.\n",
    "Change data intake from reading csv to making API call.<br>\n",
    "Write code for generating the url for the API call, given lattitude, longitude.<br>\n",
    "Write code to select relevant rows from awesome_df, give date range of a trip.<br>\n"
   ]
  },
  {
   "cell_type": "markdown",
   "id": "a9ab516d",
   "metadata": {},
   "source": [
    "### Next project steps/questions.\n",
    "\n",
    "Define the summary statistics we will provide, and the meaning of the words in them.<br>\n",
    "\n",
    "Like \"28% (34 out of 120) days were rainy\", and 'rainy' means at least 5 in 'percepitation_hours'.<br>\n",
    "\n",
    "For machine learning of seasons, do we want to unpivot on year, to have 366 rows with 20x the number of columns?<br>"
   ]
  },
  {
   "cell_type": "code",
   "execution_count": 28,
   "id": "a1620a9a",
   "metadata": {},
   "outputs": [],
   "source": [
    "awesome_df.to_csv('awesome.csv')"
   ]
  },
  {
   "cell_type": "code",
   "execution_count": null,
   "id": "b867616f",
   "metadata": {},
   "outputs": [],
   "source": []
  },
  {
   "cell_type": "code",
   "execution_count": null,
   "id": "1c5c3b10",
   "metadata": {},
   "outputs": [],
   "source": []
  },
  {
   "cell_type": "code",
   "execution_count": null,
   "id": "90e0a7dd",
   "metadata": {},
   "outputs": [],
   "source": []
  },
  {
   "cell_type": "code",
   "execution_count": null,
   "id": "c5356aaf",
   "metadata": {},
   "outputs": [],
   "source": []
  },
  {
   "cell_type": "code",
   "execution_count": null,
   "id": "ac70e5d8",
   "metadata": {},
   "outputs": [],
   "source": []
  },
  {
   "cell_type": "code",
   "execution_count": null,
   "id": "b8769c46",
   "metadata": {},
   "outputs": [],
   "source": []
  },
  {
   "cell_type": "code",
   "execution_count": null,
   "id": "b05606b4",
   "metadata": {},
   "outputs": [],
   "source": []
  },
  {
   "cell_type": "code",
   "execution_count": null,
   "id": "23dd2e67",
   "metadata": {},
   "outputs": [],
   "source": []
  },
  {
   "cell_type": "code",
   "execution_count": null,
   "id": "29956b55",
   "metadata": {},
   "outputs": [],
   "source": []
  },
  {
   "cell_type": "code",
   "execution_count": null,
   "id": "1216c5c2",
   "metadata": {},
   "outputs": [],
   "source": []
  },
  {
   "cell_type": "code",
   "execution_count": null,
   "id": "98ee4835",
   "metadata": {},
   "outputs": [],
   "source": []
  },
  {
   "cell_type": "code",
   "execution_count": null,
   "id": "1e57fff4",
   "metadata": {},
   "outputs": [],
   "source": []
  },
  {
   "cell_type": "code",
   "execution_count": null,
   "id": "643910aa",
   "metadata": {},
   "outputs": [],
   "source": []
  },
  {
   "cell_type": "code",
   "execution_count": null,
   "id": "cd5b9c35",
   "metadata": {},
   "outputs": [],
   "source": []
  },
  {
   "cell_type": "code",
   "execution_count": null,
   "id": "1637a085",
   "metadata": {},
   "outputs": [],
   "source": []
  },
  {
   "cell_type": "code",
   "execution_count": null,
   "id": "b9ca7c13",
   "metadata": {},
   "outputs": [],
   "source": []
  },
  {
   "cell_type": "code",
   "execution_count": null,
   "id": "2d9b6701",
   "metadata": {},
   "outputs": [],
   "source": []
  }
 ],
 "metadata": {
  "kernelspec": {
   "display_name": "Python 3 (ipykernel)",
   "language": "python",
   "name": "python3"
  },
  "language_info": {
   "codemirror_mode": {
    "name": "ipython",
    "version": 3
   },
   "file_extension": ".py",
   "mimetype": "text/x-python",
   "name": "python",
   "nbconvert_exporter": "python",
   "pygments_lexer": "ipython3",
   "version": "3.7.13"
  }
 },
 "nbformat": 4,
 "nbformat_minor": 5
}
