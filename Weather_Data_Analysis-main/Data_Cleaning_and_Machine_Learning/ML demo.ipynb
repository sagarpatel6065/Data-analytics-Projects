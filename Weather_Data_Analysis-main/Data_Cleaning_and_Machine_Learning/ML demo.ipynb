{
 "cells": [
  {
   "cell_type": "code",
   "execution_count": 1,
   "id": "497434ff",
   "metadata": {},
   "outputs": [],
   "source": [
    "import ML_func_happy as mlf\n",
    "import pandas as pd"
   ]
  },
  {
   "cell_type": "markdown",
   "id": "ac1debb5",
   "metadata": {},
   "source": [
    "### Thank you, Open-Meteo historical weather API, for serving the ERA5 dataset!\n",
    "\n",
    "This project manipulates and presents data from the ERA5 historical weather reanalysis dataset.\n",
    "The ERA5 was created by the European Copernicus Climate Change Service information 2022,\n",
    "in collaboration with the European Centre for Medium-Range Weather Forecasts. \n",
    "We are deeply grateful to the Open-Meteo historical weather API\n",
    "https://open-meteo.com/en/docs/historical-weather-api\n",
    "who made this data easily available.\n"
   ]
  },
  {
   "cell_type": "markdown",
   "id": "e944afda",
   "metadata": {},
   "source": [
    "### Location\n",
    "In the next cell, enter the latitude and longitude of the location whose seasons you want to model.<br>\n",
    "Seas, including islands like Barbados; and polar regions are not covered by the Open-Meteo historical  weather API."
   ]
  },
  {
   "cell_type": "code",
   "execution_count": 2,
   "id": "ac871336",
   "metadata": {},
   "outputs": [],
   "source": [
    "# kolkata\n",
    "latitude = 22.6263\n",
    "longitude = 88.4010"
   ]
  },
  {
   "cell_type": "markdown",
   "id": "f3539285",
   "metadata": {},
   "source": [
    "### Hyper-parameters\n",
    "\n",
    "We run several k-means clustering models, smooth out the results, and then pick the best.\n",
    "\n",
    "You can set \n",
    " - the number of components used by the Principal Component Analysis applied to 22-dimensional rescaled weather data, to be fed into the cluster models; and\n",
    " - the random state used by all k-means clustering models.\n",
    "\n",
    "For each k-means clustering model, you can set\n",
    " - the weight given to date components when they are added to the output of the PCA analysis, before running the k-means algorithm; and\n",
    " - the number of clusters in the model - some clusters will be lost in the smoothing process.\n",
    "\n",
    "<b> Totally fine to leave as is! </b>"
   ]
  },
  {
   "cell_type": "code",
   "execution_count": 3,
   "id": "f18cfc09",
   "metadata": {},
   "outputs": [],
   "source": [
    "# the number of principal components kept in PCA\n",
    "# keep between 10 and 20\n",
    "# input has 22 columns, and our code explicitly looks at the first 10.\n",
    "# speed and output seem about the same for these values\n",
    "comps = 20\n",
    "\n",
    "# random state used by all K-means cluster models\n",
    "# bigger inputs seem to result in messier models that are harder to smooth\n",
    "randosta = 1\n",
    "\n",
    "# these lists must have the same length: the number of models we run\n",
    "# the number of clusters requested\n",
    "klist = [5,5,5,6,6,6,7,7,7]\n",
    "# the weight given to date data:\n",
    "#  w=1 results in very smooth seasons that say nothing about the weather\n",
    "#  w=0 results in weather-meaningful, but very hard to smooth out clusters\n",
    "wlist = [0.12, 0.14, 0.15]*3\n",
    "\n",
    "hyper_parameters = (comps ,klist, wlist, randosta)"
   ]
  },
  {
   "cell_type": "markdown",
   "id": "445360d8",
   "metadata": {},
   "source": [
    "### Run the models!\n",
    "Takes ~30 seconds to execute, most of that is the one API call to get data.<br>\n",
    "Reports the explanatory power of the PCA components, and a technical measure used to pick the best model. Guilt measures how much we had to change the outputs in the smoothing process, and how fragmented the final output is. <br>"
   ]
  },
  {
   "cell_type": "code",
   "execution_count": 4,
   "id": "73c7f341",
   "metadata": {
    "scrolled": true
   },
   "outputs": [
    {
     "name": "stdout",
     "output_type": "stream",
     "text": [
      "5 principal components explain 0.9003669539906874\n",
      "6 principal components explain 0.9231667326418004\n",
      "7 principal components explain 0.9410978715039661\n",
      "8 principal components explain 0.9560062805112897\n",
      "9 principal components explain 0.9687386265745791\n",
      "season k5 w0.12 r1 has guilt 0.2857142857142857\n",
      "season k5 w0.14 r1 has guilt 0.2857142857142857\n",
      "season k5 w0.15 r1 has guilt 0.2857142857142857\n",
      "season k6 w0.12 r1 has guilt 0.606060606060606\n",
      "season k6 w0.14 r1 has guilt 0.606060606060606\n",
      "season k6 w0.15 r1 has guilt 0.606060606060606\n",
      "season k7 w0.12 r1 has guilt 0.4428571428571429\n",
      "season k7 w0.14 r1 has guilt 0.41558441558441556\n",
      "season k7 w0.15 r1 has guilt 0.43939393939393934\n"
     ]
    }
   ],
   "source": [
    "seasons = mlf.get_seasons(latitude, longitude, 2001, 2020, hyper_parameters)"
   ]
  },
  {
   "cell_type": "markdown",
   "id": "1b7a1df3",
   "metadata": {},
   "source": [
    "### Seasons on calendar circle\n",
    "Three dots to a month. Year starts at the top and goes clockwise:\n",
    "- January starts at the top\n",
    "- April starts on the right\n",
    "- July starts at the top\n",
    "- October starts on the left\n",
    "\n",
    "Same color means same season: similar weather."
   ]
  },
  {
   "cell_type": "code",
   "execution_count": 5,
   "id": "12f9f1ad",
   "metadata": {},
   "outputs": [
    {
     "data": {
      "image/png": "[encoded data removed]",
      "text/plain": [
       "<Figure size 432x288 with 2 Axes>"
      ]
     },
     "metadata": {
      "needs_background": "light"
     },
     "output_type": "display_data"
    }
   ],
   "source": [
    "mlf.plot_labels(seasons[0])"
   ]
  },
  {
   "cell_type": "markdown",
   "id": "68bd3278",
   "metadata": {},
   "source": [
    "### Seasons weather"
   ]
  },
  {
   "cell_type": "code",
   "execution_count": 6,
   "id": "8ddc71b8",
   "metadata": {},
   "outputs": [
    {
     "data": {
      "text/html": [
       "<div>\n",
       "<style scoped>\n",
       "    .dataframe tbody tr th:only-of-type {\n",
       "        vertical-align: middle;\n",
       "    }\n",
       "\n",
       "    .dataframe tbody tr th {\n",
       "        vertical-align: top;\n",
       "    }\n",
       "\n",
       "    .dataframe thead th {\n",
       "        text-align: right;\n",
       "    }\n",
       "</style>\n",
       "<table border=\"1\" class=\"dataframe\">\n",
       "  <thead>\n",
       "    <tr style=\"text-align: right;\">\n",
       "      <th>season</th>\n",
       "      <th>0</th>\n",
       "      <th>1</th>\n",
       "      <th>3</th>\n",
       "    </tr>\n",
       "  </thead>\n",
       "  <tbody>\n",
       "    <tr>\n",
       "      <th>High Temp</th>\n",
       "      <td>94.00</td>\n",
       "      <td>90.00</td>\n",
       "      <td>83.00</td>\n",
       "    </tr>\n",
       "    <tr>\n",
       "      <th>Low Temp</th>\n",
       "      <td>78.00</td>\n",
       "      <td>80.00</td>\n",
       "      <td>62.00</td>\n",
       "    </tr>\n",
       "    <tr>\n",
       "      <th>Percent Cloudy</th>\n",
       "      <td>25.00</td>\n",
       "      <td>60.00</td>\n",
       "      <td>11.00</td>\n",
       "    </tr>\n",
       "    <tr>\n",
       "      <th>Hours of rain/snow</th>\n",
       "      <td>3.10</td>\n",
       "      <td>10.20</td>\n",
       "      <td>0.70</td>\n",
       "    </tr>\n",
       "    <tr>\n",
       "      <th>Rain total</th>\n",
       "      <td>0.14</td>\n",
       "      <td>0.37</td>\n",
       "      <td>0.02</td>\n",
       "    </tr>\n",
       "    <tr>\n",
       "      <th>Snow total</th>\n",
       "      <td>0.00</td>\n",
       "      <td>0.00</td>\n",
       "      <td>0.00</td>\n",
       "    </tr>\n",
       "    <tr>\n",
       "      <th>Wind</th>\n",
       "      <td>6.00</td>\n",
       "      <td>6.00</td>\n",
       "      <td>4.00</td>\n",
       "    </tr>\n",
       "    <tr>\n",
       "      <th>Humidity</th>\n",
       "      <td>76.00</td>\n",
       "      <td>85.00</td>\n",
       "      <td>72.00</td>\n",
       "    </tr>\n",
       "  </tbody>\n",
       "</table>\n",
       "</div>"
      ],
      "text/plain": [
       "season                  0      1      3\n",
       "High Temp           94.00  90.00  83.00\n",
       "Low Temp            78.00  80.00  62.00\n",
       "Percent Cloudy      25.00  60.00  11.00\n",
       "Hours of rain/snow   3.10  10.20   0.70\n",
       "Rain total           0.14   0.37   0.02\n",
       "Snow total           0.00   0.00   0.00\n",
       "Wind                 6.00   6.00   4.00\n",
       "Humidity            76.00  85.00  72.00"
      ]
     },
     "execution_count": 6,
     "metadata": {},
     "output_type": "execute_result"
    }
   ],
   "source": [
    "mlf.pretty_season_weather(seasons[1])"
   ]
  },
  {
   "cell_type": "code",
   "execution_count": null,
   "id": "bccbf0fe",
   "metadata": {},
   "outputs": [],
   "source": []
  },
  {
   "cell_type": "code",
   "execution_count": null,
   "id": "13662f1d",
   "metadata": {},
   "outputs": [],
   "source": []
  },
  {
   "cell_type": "code",
   "execution_count": null,
   "id": "4d1848e4",
   "metadata": {},
   "outputs": [],
   "source": []
  },
  {
   "cell_type": "code",
   "execution_count": null,
   "id": "ed47aec6",
   "metadata": {},
   "outputs": [],
   "source": []
  },
  {
   "cell_type": "code",
   "execution_count": null,
   "id": "35d338ed",
   "metadata": {},
   "outputs": [],
   "source": []
  },
  {
   "cell_type": "code",
   "execution_count": null,
   "id": "7b369b24",
   "metadata": {},
   "outputs": [],
   "source": []
  },
  {
   "cell_type": "code",
   "execution_count": null,
   "id": "5b796793",
   "metadata": {},
   "outputs": [],
   "source": []
  },
  {
   "cell_type": "code",
   "execution_count": null,
   "id": "1bf44183",
   "metadata": {},
   "outputs": [],
   "source": []
  }
 ],
 "metadata": {
  "kernelspec": {
   "display_name": "Python 3 (ipykernel)",
   "language": "python",
   "name": "python3"
  },
  "language_info": {
   "codemirror_mode": {
    "name": "ipython",
    "version": 3
   },
   "file_extension": ".py",
   "mimetype": "text/x-python",
   "name": "python",
   "nbconvert_exporter": "python",
   "pygments_lexer": "ipython3",
   "version": "3.9.12"
  }
 },
 "nbformat": 4,
 "nbformat_minor": 5
}
